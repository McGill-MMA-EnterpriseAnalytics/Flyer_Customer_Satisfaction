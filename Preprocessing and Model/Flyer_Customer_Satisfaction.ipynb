{
 "cells": [
  {
   "cell_type": "code",
   "execution_count": 1,
   "id": "7f104cc2",
   "metadata": {},
   "outputs": [],
   "source": [
    "from IPython.display import HTML, display\n",
    "\n",
    "def set_background(color):\n",
    "    script = (\"var cell = this.closest('.code_cell');\"\n",
    "              \"var editor = cell.querySelector('.input_area');\"\n",
    "              \"editor.style.background='{}';\" \n",
    "              \"this.parentNode.removeChild(this)\"\n",
    "             ).format(color)\n",
    "    display(HTML('<img src onerror=\"{}\">'.format(script)))\n"
   ]
  },
  {
   "cell_type": "markdown",
   "id": "716d6e81",
   "metadata": {},
   "source": [
    "<font color='#4444AA' size = '6' face = 'Times New Roman'>Table of contents<font><a class='anchor' id='top'></a>\n",
    "    \n",
    "[<p><i><u><font size = '5' face = 'Calibri'> Exploratory Data Analysis </font></u></i></p>](#EDA)\n",
    "\n",
    "<div style= \"background:white\">\n",
    "<ol> \n",
    "    <a href = '#EDA1'><li><p><i><u><font size = '4' face = 'Calibri'> Data Quick Look</font></u></i></p></li></a>\n",
    "    <a href = '#EDA2'><li><p><i><u><font size = '4' face = 'Calibri'> Preprocessing</font></u></i></p></li></a>\n",
    "    <ol>\n",
    "        <a href = '#EDA2_1'><li><p><i><u><font size = '4' face = 'Calibri'> Imputing NA values Trials</font></u></i></p></li></a>\n",
    "        <a href = '#EDA2_2'><li><p><i><u><font size = '4' face = 'Calibri'> Handling Outliers</font></u></i></p></li></a>    \n",
    "        <a href = '#EDA2_3'><li><p><i><u><font size = '4' face = 'Calibri'> Normalization and Imputation Pipelines</font></u></i></p></li></a>\n",
    "        <a href = '#EDA2_4'><li><p><i><u><font size = '4' face = 'Calibri'> Save processed file to local</font></u></i></p></li></a>\n",
    "    </ol>      \n",
    "</ol>\n",
    "<hr>\n",
    "    \n",
    "[<p><i><u><font size = '5' face = 'Calibri'> Classification Models </font></u></i></p>](#Model)\n",
    "\n",
    "<ol>\n",
    "    <a href = '#ModelSimple'><li><p><i><u><font size = '4' face = 'Calibri'> Simple Classification Models</font></u></i></p></li></a>\n",
    "    <ol>\n",
    "        <a href = '#Model_S0'><li><p><i><u><font size = '4' face = 'Calibri'> Data Preparation</font></u></i></p></li></a>\n",
    "        <a href = '#Model_S1'><li><p><i><u><font size = '4' face = 'Calibri'> Logistic Regression</font></u></i></p></li></a>\n",
    "        <ol>\n",
    "            <a href = '#Model_S1_1'><li><p><i><u><font size = '4' face = 'Calibri'> Model Training</font></u></i></p></li></a>\n",
    "            <a href = '#Model_S1_2'><li><p><i><u><font size = '4' face = 'Calibri'> Performance Evaluation, Confusion matrix</font></u></i></p></li></a>\n",
    "        </ol>\n",
    "        <a href = '#Model_S2'><li><p><i><u><font size = '4' face = 'Calibri'> Support Vector Machine</font></u></i></p></li></a>\n",
    "        <ol>\n",
    "            <a href = '#Model_S2_1'><li><p><i><u><font size = '4' face = 'Calibri'> Model Training</font></u></i></p></li></a>\n",
    "            <a href = '#Model_S2_2'><li><p><i><u><font size = '4' face = 'Calibri'> Performance Evaluation, Confusion matrix</font></u></i></p></li></a>\n",
    "            <a href = '#Model_S2_3'><li><p><i><u><font size = '4' face = 'Calibri'>Hyper Parameter Tuning</font></u></i></p></li></a>\n",
    "        </ol>\n",
    "        <a href = '#Model_S3'><li><p><i><u><font size = '4' face = 'Calibri'> K- Near Neighbours</font></u></i></p></li></a>\n",
    "        <ol>\n",
    "            <a href = '#Model_S3_1'><li><p><i><u><font size = '4' face = 'Calibri'> Model Training</font></u></i></p></li></a>\n",
    "            <a href = '#Model_S3_2'><li><p><i><u><font size = '4' face = 'Calibri'> Performance Evaluation, Confusion matrix</font></u></i></p></li></a>\n",
    "            <a href = '#Model_S3_3'><li><p><i><u><font size = '4' face = 'Calibri'>Hyper Parameter Tuning</font></u></i></p></li></a>\n",
    "        </ol>\n",
    "    </ol>\n",
    "<br>\n",
    "<a href = '#ModelTrees'><li><p><i><u><font size = '4' face = 'Calibri'> Tree-Based Classification Models</font></u></i></p></li></a>\n",
    "    <ol>\n",
    "        <a href = '#Model_T0'><li><p><i><u><font size = '4' face = 'Calibri'> Data Preparation</font></u></i></p></li></a>\n",
    "        <a href = '#Model_T1'><li><p><i><u><font size = '4' face = 'Calibri'> Decision Tree Classifier</font></u></i></p></li></a>\n",
    "        <ol>\n",
    "            <a href = '#Model_T1_1'><li><p><i><u><font size = '4' face = 'Calibri'> Model Training</font></u></i></p></li></a>\n",
    "            <a href = '#Model_T1_2'><li><p><i><u><font size = '4' face = 'Calibri'> Hyper Parameter Tuning</font></u></i></p></li></a>\n",
    "            <a href = '#Model_T1_3'><li><p><i><u><font size = '4' face = 'Calibri'> Performance Evaluation, Confusion matrix </font></u></i></p></li></a>\n",
    "        </ol>\n",
    "        <a href = '#Model_T2'><li><p><i><u><font size = '4' face = 'Calibri'> Random Forest Classifier</font></u></i></p></li></a>\n",
    "        <ol>\n",
    "            <a href = '#Model_T2_1'><li><p><i><u><font size = '4' face = 'Calibri'> Model Training</font></u></i></p></li></a>\n",
    "            <a href = '#Model_T2_2'><li><p><i><u><font size = '4' face = 'Calibri'> Hyper Parameter Tuning</font></u></i></p></li></a>\n",
    "            <a href = '#Model_T2_3'><li><p><i><u><font size = '4' face = 'Calibri'> Visualization of the importance of features\n",
    "</font></u></i></p></li></a>\n",
    "            <a href = '#Model_T2_4'><li><p><i><u><font size = '4' face = 'Calibri'> Performance Evaluation, Confusion matrix, AUC-ROC curve</font></u></i></p></li></a>\n",
    "            <a href = '#Model_T2_5'><li><p><i><u><font size = '4' face = 'Calibri'> Interpretation and comments</font></u></i></p></li></a>\n",
    "        </ol>\n",
    "        <a href = '#Model_T3'><li><p><i><u><font size = '4' face = 'Calibri'> XG Boost Classifier</font></u></i></p></li></a>\n",
    "        <ol>\n",
    "            <a href = '#Model_T3_1'><li><p><i><u><font size = '4' face = 'Calibri'> Model Training</font></u></i></p></li></a>\n",
    "            <a href = '#Model_T3_2'><li><p><i><u><font size = '4' face = 'Calibri'> Hyper Parameter Tuning</font></u></i></p></li></a>\n",
    "            <a href = '#Model_T3_3'><li><p><i><u><font size = '4' face = 'Calibri'> Visualization of the importance of features\n",
    "</font></u></i></p></li></a>\n",
    "            <a href = '#Model_T3_4'><li><p><i><u><font size = '4' face = 'Calibri'> Performance Evaluation, Confusion matrix</font></u></i></p></li></a>\n",
    "            <a href = '#Model_T3_5'><li><p><i><u><font size = '4' face = 'Calibri'> Interpretation and comments</font></u></i></p></li></a>\n",
    "        </ol>\n",
    "    </ol>\n",
    "</ol>\n",
    "</div>\n",
    "<hr>\n"
   ]
  },
  {
   "cell_type": "markdown",
   "id": "730b39e1",
   "metadata": {},
   "source": [
    "<font color='#4444AA' size = '6' face = 'Times New Roman'><a id = \"EDA\">Exploratory Data Analysis </a></font>\n",
    "<br>\n",
    "<div align = \"right\"><a href = '#top' >Back to Top</a></div>\n",
    "\n",
    "### Importing libraries"
   ]
  },
  {
   "cell_type": "code",
   "execution_count": 2,
   "id": "afdd6633",
   "metadata": {},
   "outputs": [
    {
     "data": {
      "text/html": [
       "<img src onerror=\"var cell = this.closest('.code_cell');var editor = cell.querySelector('.input_area');editor.style.background='#E9FDFF';this.parentNode.removeChild(this)\">"
      ],
      "text/plain": [
       "<IPython.core.display.HTML object>"
      ]
     },
     "metadata": {},
     "output_type": "display_data"
    },
    {
     "name": "stdout",
     "output_type": "stream",
     "text": [
      "1.2.1\n"
     ]
    }
   ],
   "source": [
    "set_background('#E9FDFF')\n",
    "import pandas as pd\n",
    "import numpy as np\n",
    "import gc\n",
    "\n",
    "import warnings\n",
    "import pandas_profiling\n",
    "import sklearn\n",
    "from sklearn.experimental import enable_iterative_imputer\n",
    "from sklearn.impute import IterativeImputer\n",
    "from sklearn.impute import SimpleImputer\n",
    "from sklearn.impute import KNNImputer\n",
    "from sklearn.pipeline import Pipeline\n",
    "from sklearn import set_config\n",
    "from sklearn.pipeline import make_pipeline\n",
    "from sklearn.compose import make_column_selector, make_column_transformer\n",
    "from sklearn.compose import ColumnTransformer\n",
    "from sklearn.preprocessing import FunctionTransformer\n",
    "from sklearn.preprocessing import StandardScaler\n",
    "from sklearn.preprocessing import OneHotEncoder\n",
    "import warnings\n",
    "\n",
    "from sklearn.ensemble import IsolationForest\n",
    "\n",
    "import matplotlib.pyplot as plt\n",
    "import seaborn as sns\n",
    "\n",
    "sns.set_style(\"ticks\")\n",
    "\n",
    "# Show all columns\n",
    "pd.set_option('display.max_columns', None)\n",
    "\n",
    "# Ignore all warnings\n",
    "warnings.filterwarnings(\"ignore\")\n",
    "\n",
    "#!pip install scikit-learn~=1.1\n",
    "#import sklearn \n",
    "print(sklearn.__version__)\n",
    "base_path = \"..\\\\\""
   ]
  },
  {
   "cell_type": "markdown",
   "id": "eb8c51b1",
   "metadata": {},
   "source": [
    "<div style=\"background:#E9FDFF\">\n",
    "\n",
    "<font color='#4444AA' size = '5' face = 'Calibri'><a id = \"EDA1\">1. <u> Data Quick Look</u></a></font>\n",
    "\n",
    "In this notebook, we will preprocess both the training and testing datasets. By briefly observing the two datasets, we realize that they are highly similar in terms of columns with missing values: Arrival Delay in Minutes is the only column with missing values. In order to prevent information leakage of the testing dataset, the selection of the method of imputation and normalization will only be based on the characterestics of the training dataset.\n",
    "<div align = \"right\"><a href = '#top'>Back to Top</a></div>\n",
    "</div>"
   ]
  },
  {
   "cell_type": "code",
   "execution_count": 3,
   "id": "2443403c",
   "metadata": {},
   "outputs": [
    {
     "data": {
      "text/html": [
       "<img src onerror=\"var cell = this.closest('.code_cell');var editor = cell.querySelector('.input_area');editor.style.background='#E9FDFF';this.parentNode.removeChild(this)\">"
      ],
      "text/plain": [
       "<IPython.core.display.HTML object>"
      ]
     },
     "metadata": {},
     "output_type": "display_data"
    }
   ],
   "source": [
    "set_background('#E9FDFF')\n",
    "df_train = pd.read_csv(base_path + '\\\\data\\\\airline_train.csv')\n",
    "df_test = pd.read_csv(base_path + '\\\\data\\\\airline_test.csv')"
   ]
  },
  {
   "cell_type": "code",
   "execution_count": 4,
   "id": "38a87f04",
   "metadata": {
    "scrolled": true
   },
   "outputs": [
    {
     "data": {
      "text/html": [
       "<img src onerror=\"var cell = this.closest('.code_cell');var editor = cell.querySelector('.input_area');editor.style.background='#E9FDFF';this.parentNode.removeChild(this)\">"
      ],
      "text/plain": [
       "<IPython.core.display.HTML object>"
      ]
     },
     "metadata": {},
     "output_type": "display_data"
    },
    {
     "data": {
      "text/html": [
       "<div>\n",
       "<style scoped>\n",
       "    .dataframe tbody tr th:only-of-type {\n",
       "        vertical-align: middle;\n",
       "    }\n",
       "\n",
       "    .dataframe tbody tr th {\n",
       "        vertical-align: top;\n",
       "    }\n",
       "\n",
       "    .dataframe thead th {\n",
       "        text-align: right;\n",
       "    }\n",
       "</style>\n",
       "<table border=\"1\" class=\"dataframe\">\n",
       "  <thead>\n",
       "    <tr style=\"text-align: right;\">\n",
       "      <th></th>\n",
       "      <th>id</th>\n",
       "      <th>Gender</th>\n",
       "      <th>Customer Type</th>\n",
       "      <th>Age</th>\n",
       "      <th>Type of Travel</th>\n",
       "      <th>Class</th>\n",
       "      <th>Flight Distance</th>\n",
       "      <th>Inflight wifi service</th>\n",
       "      <th>Departure/Arrival time convenient</th>\n",
       "      <th>Ease of Online booking</th>\n",
       "      <th>Gate location</th>\n",
       "      <th>Food and drink</th>\n",
       "      <th>Online boarding</th>\n",
       "      <th>Seat comfort</th>\n",
       "      <th>Inflight entertainment</th>\n",
       "      <th>On-board service</th>\n",
       "      <th>Leg room service</th>\n",
       "      <th>Baggage handling</th>\n",
       "      <th>Checkin service</th>\n",
       "      <th>Inflight service</th>\n",
       "      <th>Cleanliness</th>\n",
       "      <th>Departure Delay in Minutes</th>\n",
       "      <th>Arrival Delay in Minutes</th>\n",
       "      <th>satisfaction</th>\n",
       "    </tr>\n",
       "  </thead>\n",
       "  <tbody>\n",
       "    <tr>\n",
       "      <th>0</th>\n",
       "      <td>70172</td>\n",
       "      <td>Male</td>\n",
       "      <td>Loyal Customer</td>\n",
       "      <td>13</td>\n",
       "      <td>Personal Travel</td>\n",
       "      <td>Eco Plus</td>\n",
       "      <td>460</td>\n",
       "      <td>3</td>\n",
       "      <td>4</td>\n",
       "      <td>3</td>\n",
       "      <td>1</td>\n",
       "      <td>5</td>\n",
       "      <td>3</td>\n",
       "      <td>5</td>\n",
       "      <td>5</td>\n",
       "      <td>4</td>\n",
       "      <td>3</td>\n",
       "      <td>4</td>\n",
       "      <td>4</td>\n",
       "      <td>5</td>\n",
       "      <td>5</td>\n",
       "      <td>25</td>\n",
       "      <td>18.0</td>\n",
       "      <td>neutral or dissatisfied</td>\n",
       "    </tr>\n",
       "    <tr>\n",
       "      <th>1</th>\n",
       "      <td>5047</td>\n",
       "      <td>Male</td>\n",
       "      <td>disloyal Customer</td>\n",
       "      <td>25</td>\n",
       "      <td>Business travel</td>\n",
       "      <td>Business</td>\n",
       "      <td>235</td>\n",
       "      <td>3</td>\n",
       "      <td>2</td>\n",
       "      <td>3</td>\n",
       "      <td>3</td>\n",
       "      <td>1</td>\n",
       "      <td>3</td>\n",
       "      <td>1</td>\n",
       "      <td>1</td>\n",
       "      <td>1</td>\n",
       "      <td>5</td>\n",
       "      <td>3</td>\n",
       "      <td>1</td>\n",
       "      <td>4</td>\n",
       "      <td>1</td>\n",
       "      <td>1</td>\n",
       "      <td>6.0</td>\n",
       "      <td>neutral or dissatisfied</td>\n",
       "    </tr>\n",
       "    <tr>\n",
       "      <th>2</th>\n",
       "      <td>110028</td>\n",
       "      <td>Female</td>\n",
       "      <td>Loyal Customer</td>\n",
       "      <td>26</td>\n",
       "      <td>Business travel</td>\n",
       "      <td>Business</td>\n",
       "      <td>1142</td>\n",
       "      <td>2</td>\n",
       "      <td>2</td>\n",
       "      <td>2</td>\n",
       "      <td>2</td>\n",
       "      <td>5</td>\n",
       "      <td>5</td>\n",
       "      <td>5</td>\n",
       "      <td>5</td>\n",
       "      <td>4</td>\n",
       "      <td>3</td>\n",
       "      <td>4</td>\n",
       "      <td>4</td>\n",
       "      <td>4</td>\n",
       "      <td>5</td>\n",
       "      <td>0</td>\n",
       "      <td>0.0</td>\n",
       "      <td>satisfied</td>\n",
       "    </tr>\n",
       "    <tr>\n",
       "      <th>3</th>\n",
       "      <td>24026</td>\n",
       "      <td>Female</td>\n",
       "      <td>Loyal Customer</td>\n",
       "      <td>25</td>\n",
       "      <td>Business travel</td>\n",
       "      <td>Business</td>\n",
       "      <td>562</td>\n",
       "      <td>2</td>\n",
       "      <td>5</td>\n",
       "      <td>5</td>\n",
       "      <td>5</td>\n",
       "      <td>2</td>\n",
       "      <td>2</td>\n",
       "      <td>2</td>\n",
       "      <td>2</td>\n",
       "      <td>2</td>\n",
       "      <td>5</td>\n",
       "      <td>3</td>\n",
       "      <td>1</td>\n",
       "      <td>4</td>\n",
       "      <td>2</td>\n",
       "      <td>11</td>\n",
       "      <td>9.0</td>\n",
       "      <td>neutral or dissatisfied</td>\n",
       "    </tr>\n",
       "    <tr>\n",
       "      <th>4</th>\n",
       "      <td>119299</td>\n",
       "      <td>Male</td>\n",
       "      <td>Loyal Customer</td>\n",
       "      <td>61</td>\n",
       "      <td>Business travel</td>\n",
       "      <td>Business</td>\n",
       "      <td>214</td>\n",
       "      <td>3</td>\n",
       "      <td>3</td>\n",
       "      <td>3</td>\n",
       "      <td>3</td>\n",
       "      <td>4</td>\n",
       "      <td>5</td>\n",
       "      <td>5</td>\n",
       "      <td>3</td>\n",
       "      <td>3</td>\n",
       "      <td>4</td>\n",
       "      <td>4</td>\n",
       "      <td>3</td>\n",
       "      <td>3</td>\n",
       "      <td>3</td>\n",
       "      <td>0</td>\n",
       "      <td>0.0</td>\n",
       "      <td>satisfied</td>\n",
       "    </tr>\n",
       "    <tr>\n",
       "      <th>...</th>\n",
       "      <td>...</td>\n",
       "      <td>...</td>\n",
       "      <td>...</td>\n",
       "      <td>...</td>\n",
       "      <td>...</td>\n",
       "      <td>...</td>\n",
       "      <td>...</td>\n",
       "      <td>...</td>\n",
       "      <td>...</td>\n",
       "      <td>...</td>\n",
       "      <td>...</td>\n",
       "      <td>...</td>\n",
       "      <td>...</td>\n",
       "      <td>...</td>\n",
       "      <td>...</td>\n",
       "      <td>...</td>\n",
       "      <td>...</td>\n",
       "      <td>...</td>\n",
       "      <td>...</td>\n",
       "      <td>...</td>\n",
       "      <td>...</td>\n",
       "      <td>...</td>\n",
       "      <td>...</td>\n",
       "      <td>...</td>\n",
       "    </tr>\n",
       "    <tr>\n",
       "      <th>103899</th>\n",
       "      <td>94171</td>\n",
       "      <td>Female</td>\n",
       "      <td>disloyal Customer</td>\n",
       "      <td>23</td>\n",
       "      <td>Business travel</td>\n",
       "      <td>Eco</td>\n",
       "      <td>192</td>\n",
       "      <td>2</td>\n",
       "      <td>1</td>\n",
       "      <td>2</td>\n",
       "      <td>3</td>\n",
       "      <td>2</td>\n",
       "      <td>2</td>\n",
       "      <td>2</td>\n",
       "      <td>2</td>\n",
       "      <td>3</td>\n",
       "      <td>1</td>\n",
       "      <td>4</td>\n",
       "      <td>2</td>\n",
       "      <td>3</td>\n",
       "      <td>2</td>\n",
       "      <td>3</td>\n",
       "      <td>0.0</td>\n",
       "      <td>neutral or dissatisfied</td>\n",
       "    </tr>\n",
       "    <tr>\n",
       "      <th>103900</th>\n",
       "      <td>73097</td>\n",
       "      <td>Male</td>\n",
       "      <td>Loyal Customer</td>\n",
       "      <td>49</td>\n",
       "      <td>Business travel</td>\n",
       "      <td>Business</td>\n",
       "      <td>2347</td>\n",
       "      <td>4</td>\n",
       "      <td>4</td>\n",
       "      <td>4</td>\n",
       "      <td>4</td>\n",
       "      <td>2</td>\n",
       "      <td>4</td>\n",
       "      <td>5</td>\n",
       "      <td>5</td>\n",
       "      <td>5</td>\n",
       "      <td>5</td>\n",
       "      <td>5</td>\n",
       "      <td>5</td>\n",
       "      <td>5</td>\n",
       "      <td>4</td>\n",
       "      <td>0</td>\n",
       "      <td>0.0</td>\n",
       "      <td>satisfied</td>\n",
       "    </tr>\n",
       "    <tr>\n",
       "      <th>103901</th>\n",
       "      <td>68825</td>\n",
       "      <td>Male</td>\n",
       "      <td>disloyal Customer</td>\n",
       "      <td>30</td>\n",
       "      <td>Business travel</td>\n",
       "      <td>Business</td>\n",
       "      <td>1995</td>\n",
       "      <td>1</td>\n",
       "      <td>1</td>\n",
       "      <td>1</td>\n",
       "      <td>3</td>\n",
       "      <td>4</td>\n",
       "      <td>1</td>\n",
       "      <td>5</td>\n",
       "      <td>4</td>\n",
       "      <td>3</td>\n",
       "      <td>2</td>\n",
       "      <td>4</td>\n",
       "      <td>5</td>\n",
       "      <td>5</td>\n",
       "      <td>4</td>\n",
       "      <td>7</td>\n",
       "      <td>14.0</td>\n",
       "      <td>neutral or dissatisfied</td>\n",
       "    </tr>\n",
       "    <tr>\n",
       "      <th>103902</th>\n",
       "      <td>54173</td>\n",
       "      <td>Female</td>\n",
       "      <td>disloyal Customer</td>\n",
       "      <td>22</td>\n",
       "      <td>Business travel</td>\n",
       "      <td>Eco</td>\n",
       "      <td>1000</td>\n",
       "      <td>1</td>\n",
       "      <td>1</td>\n",
       "      <td>1</td>\n",
       "      <td>5</td>\n",
       "      <td>1</td>\n",
       "      <td>1</td>\n",
       "      <td>1</td>\n",
       "      <td>1</td>\n",
       "      <td>4</td>\n",
       "      <td>5</td>\n",
       "      <td>1</td>\n",
       "      <td>5</td>\n",
       "      <td>4</td>\n",
       "      <td>1</td>\n",
       "      <td>0</td>\n",
       "      <td>0.0</td>\n",
       "      <td>neutral or dissatisfied</td>\n",
       "    </tr>\n",
       "    <tr>\n",
       "      <th>103903</th>\n",
       "      <td>62567</td>\n",
       "      <td>Male</td>\n",
       "      <td>Loyal Customer</td>\n",
       "      <td>27</td>\n",
       "      <td>Business travel</td>\n",
       "      <td>Business</td>\n",
       "      <td>1723</td>\n",
       "      <td>1</td>\n",
       "      <td>3</td>\n",
       "      <td>3</td>\n",
       "      <td>3</td>\n",
       "      <td>1</td>\n",
       "      <td>1</td>\n",
       "      <td>1</td>\n",
       "      <td>1</td>\n",
       "      <td>1</td>\n",
       "      <td>1</td>\n",
       "      <td>4</td>\n",
       "      <td>4</td>\n",
       "      <td>3</td>\n",
       "      <td>1</td>\n",
       "      <td>0</td>\n",
       "      <td>0.0</td>\n",
       "      <td>neutral or dissatisfied</td>\n",
       "    </tr>\n",
       "  </tbody>\n",
       "</table>\n",
       "<p>103904 rows × 24 columns</p>\n",
       "</div>"
      ],
      "text/plain": [
       "            id  Gender      Customer Type  Age   Type of Travel     Class  \\\n",
       "0        70172    Male     Loyal Customer   13  Personal Travel  Eco Plus   \n",
       "1         5047    Male  disloyal Customer   25  Business travel  Business   \n",
       "2       110028  Female     Loyal Customer   26  Business travel  Business   \n",
       "3        24026  Female     Loyal Customer   25  Business travel  Business   \n",
       "4       119299    Male     Loyal Customer   61  Business travel  Business   \n",
       "...        ...     ...                ...  ...              ...       ...   \n",
       "103899   94171  Female  disloyal Customer   23  Business travel       Eco   \n",
       "103900   73097    Male     Loyal Customer   49  Business travel  Business   \n",
       "103901   68825    Male  disloyal Customer   30  Business travel  Business   \n",
       "103902   54173  Female  disloyal Customer   22  Business travel       Eco   \n",
       "103903   62567    Male     Loyal Customer   27  Business travel  Business   \n",
       "\n",
       "        Flight Distance  Inflight wifi service  \\\n",
       "0                   460                      3   \n",
       "1                   235                      3   \n",
       "2                  1142                      2   \n",
       "3                   562                      2   \n",
       "4                   214                      3   \n",
       "...                 ...                    ...   \n",
       "103899              192                      2   \n",
       "103900             2347                      4   \n",
       "103901             1995                      1   \n",
       "103902             1000                      1   \n",
       "103903             1723                      1   \n",
       "\n",
       "        Departure/Arrival time convenient  Ease of Online booking  \\\n",
       "0                                       4                       3   \n",
       "1                                       2                       3   \n",
       "2                                       2                       2   \n",
       "3                                       5                       5   \n",
       "4                                       3                       3   \n",
       "...                                   ...                     ...   \n",
       "103899                                  1                       2   \n",
       "103900                                  4                       4   \n",
       "103901                                  1                       1   \n",
       "103902                                  1                       1   \n",
       "103903                                  3                       3   \n",
       "\n",
       "        Gate location  Food and drink  Online boarding  Seat comfort  \\\n",
       "0                   1               5                3             5   \n",
       "1                   3               1                3             1   \n",
       "2                   2               5                5             5   \n",
       "3                   5               2                2             2   \n",
       "4                   3               4                5             5   \n",
       "...               ...             ...              ...           ...   \n",
       "103899              3               2                2             2   \n",
       "103900              4               2                4             5   \n",
       "103901              3               4                1             5   \n",
       "103902              5               1                1             1   \n",
       "103903              3               1                1             1   \n",
       "\n",
       "        Inflight entertainment  On-board service  Leg room service  \\\n",
       "0                            5                 4                 3   \n",
       "1                            1                 1                 5   \n",
       "2                            5                 4                 3   \n",
       "3                            2                 2                 5   \n",
       "4                            3                 3                 4   \n",
       "...                        ...               ...               ...   \n",
       "103899                       2                 3                 1   \n",
       "103900                       5                 5                 5   \n",
       "103901                       4                 3                 2   \n",
       "103902                       1                 4                 5   \n",
       "103903                       1                 1                 1   \n",
       "\n",
       "        Baggage handling  Checkin service  Inflight service  Cleanliness  \\\n",
       "0                      4                4                 5            5   \n",
       "1                      3                1                 4            1   \n",
       "2                      4                4                 4            5   \n",
       "3                      3                1                 4            2   \n",
       "4                      4                3                 3            3   \n",
       "...                  ...              ...               ...          ...   \n",
       "103899                 4                2                 3            2   \n",
       "103900                 5                5                 5            4   \n",
       "103901                 4                5                 5            4   \n",
       "103902                 1                5                 4            1   \n",
       "103903                 4                4                 3            1   \n",
       "\n",
       "        Departure Delay in Minutes  Arrival Delay in Minutes  \\\n",
       "0                               25                      18.0   \n",
       "1                                1                       6.0   \n",
       "2                                0                       0.0   \n",
       "3                               11                       9.0   \n",
       "4                                0                       0.0   \n",
       "...                            ...                       ...   \n",
       "103899                           3                       0.0   \n",
       "103900                           0                       0.0   \n",
       "103901                           7                      14.0   \n",
       "103902                           0                       0.0   \n",
       "103903                           0                       0.0   \n",
       "\n",
       "                   satisfaction  \n",
       "0       neutral or dissatisfied  \n",
       "1       neutral or dissatisfied  \n",
       "2                     satisfied  \n",
       "3       neutral or dissatisfied  \n",
       "4                     satisfied  \n",
       "...                         ...  \n",
       "103899  neutral or dissatisfied  \n",
       "103900                satisfied  \n",
       "103901  neutral or dissatisfied  \n",
       "103902  neutral or dissatisfied  \n",
       "103903  neutral or dissatisfied  \n",
       "\n",
       "[103904 rows x 24 columns]"
      ]
     },
     "execution_count": 4,
     "metadata": {},
     "output_type": "execute_result"
    }
   ],
   "source": [
    "set_background('#E9FDFF')\n",
    "if 'Unnamed: 0' in df_train.columns:\n",
    "    df_train.drop(columns = ['Unnamed: 0'], inplace=True)\n",
    "\n",
    "if 'Unnamed: 0' in df_test.columns:\n",
    "    df_test.drop(columns = ['Unnamed: 0'], inplace=True)\n",
    "\n",
    "df_train"
   ]
  },
  {
   "cell_type": "markdown",
   "id": "a41ff03b",
   "metadata": {},
   "source": [
    "<div style=\"background:#E9FDFF\">\n",
    "<i>Data Summary</i>"
   ]
  },
  {
   "cell_type": "code",
   "execution_count": 5,
   "id": "e701e5f6",
   "metadata": {},
   "outputs": [
    {
     "data": {
      "text/html": [
       "<img src onerror=\"var cell = this.closest('.code_cell');var editor = cell.querySelector('.input_area');editor.style.background='#E9FDFF';this.parentNode.removeChild(this)\">"
      ],
      "text/plain": [
       "<IPython.core.display.HTML object>"
      ]
     },
     "metadata": {},
     "output_type": "display_data"
    },
    {
     "name": "stdout",
     "output_type": "stream",
     "text": [
      "<class 'pandas.core.frame.DataFrame'>\n",
      "RangeIndex: 103904 entries, 0 to 103903\n",
      "Data columns (total 24 columns):\n",
      " #   Column                             Non-Null Count   Dtype  \n",
      "---  ------                             --------------   -----  \n",
      " 0   id                                 103904 non-null  int64  \n",
      " 1   Gender                             103904 non-null  object \n",
      " 2   Customer Type                      103904 non-null  object \n",
      " 3   Age                                103904 non-null  int64  \n",
      " 4   Type of Travel                     103904 non-null  object \n",
      " 5   Class                              103904 non-null  object \n",
      " 6   Flight Distance                    103904 non-null  int64  \n",
      " 7   Inflight wifi service              103904 non-null  int64  \n",
      " 8   Departure/Arrival time convenient  103904 non-null  int64  \n",
      " 9   Ease of Online booking             103904 non-null  int64  \n",
      " 10  Gate location                      103904 non-null  int64  \n",
      " 11  Food and drink                     103904 non-null  int64  \n",
      " 12  Online boarding                    103904 non-null  int64  \n",
      " 13  Seat comfort                       103904 non-null  int64  \n",
      " 14  Inflight entertainment             103904 non-null  int64  \n",
      " 15  On-board service                   103904 non-null  int64  \n",
      " 16  Leg room service                   103904 non-null  int64  \n",
      " 17  Baggage handling                   103904 non-null  int64  \n",
      " 18  Checkin service                    103904 non-null  int64  \n",
      " 19  Inflight service                   103904 non-null  int64  \n",
      " 20  Cleanliness                        103904 non-null  int64  \n",
      " 21  Departure Delay in Minutes         103904 non-null  int64  \n",
      " 22  Arrival Delay in Minutes           103594 non-null  float64\n",
      " 23  satisfaction                       103904 non-null  object \n",
      "dtypes: float64(1), int64(18), object(5)\n",
      "memory usage: 19.0+ MB\n"
     ]
    }
   ],
   "source": [
    "set_background('#E9FDFF')\n",
    "# Data Type and Null Values in the training dataset\n",
    "df_train.info()"
   ]
  },
  {
   "cell_type": "code",
   "execution_count": 6,
   "id": "30c96205",
   "metadata": {},
   "outputs": [
    {
     "data": {
      "text/html": [
       "<img src onerror=\"var cell = this.closest('.code_cell');var editor = cell.querySelector('.input_area');editor.style.background='#E9FDFF';this.parentNode.removeChild(this)\">"
      ],
      "text/plain": [
       "<IPython.core.display.HTML object>"
      ]
     },
     "metadata": {},
     "output_type": "display_data"
    },
    {
     "name": "stdout",
     "output_type": "stream",
     "text": [
      "<class 'pandas.core.frame.DataFrame'>\n",
      "RangeIndex: 25976 entries, 0 to 25975\n",
      "Data columns (total 24 columns):\n",
      " #   Column                             Non-Null Count  Dtype  \n",
      "---  ------                             --------------  -----  \n",
      " 0   id                                 25976 non-null  int64  \n",
      " 1   Gender                             25976 non-null  object \n",
      " 2   Customer Type                      25976 non-null  object \n",
      " 3   Age                                25976 non-null  int64  \n",
      " 4   Type of Travel                     25976 non-null  object \n",
      " 5   Class                              25976 non-null  object \n",
      " 6   Flight Distance                    25976 non-null  int64  \n",
      " 7   Inflight wifi service              25976 non-null  int64  \n",
      " 8   Departure/Arrival time convenient  25976 non-null  int64  \n",
      " 9   Ease of Online booking             25976 non-null  int64  \n",
      " 10  Gate location                      25976 non-null  int64  \n",
      " 11  Food and drink                     25976 non-null  int64  \n",
      " 12  Online boarding                    25976 non-null  int64  \n",
      " 13  Seat comfort                       25976 non-null  int64  \n",
      " 14  Inflight entertainment             25976 non-null  int64  \n",
      " 15  On-board service                   25976 non-null  int64  \n",
      " 16  Leg room service                   25976 non-null  int64  \n",
      " 17  Baggage handling                   25976 non-null  int64  \n",
      " 18  Checkin service                    25976 non-null  int64  \n",
      " 19  Inflight service                   25976 non-null  int64  \n",
      " 20  Cleanliness                        25976 non-null  int64  \n",
      " 21  Departure Delay in Minutes         25976 non-null  int64  \n",
      " 22  Arrival Delay in Minutes           25893 non-null  float64\n",
      " 23  satisfaction                       25976 non-null  object \n",
      "dtypes: float64(1), int64(18), object(5)\n",
      "memory usage: 4.8+ MB\n"
     ]
    }
   ],
   "source": [
    "set_background('#E9FDFF')\n",
    "df_test.info()"
   ]
  },
  {
   "cell_type": "code",
   "execution_count": 7,
   "id": "d5c511cf",
   "metadata": {},
   "outputs": [
    {
     "data": {
      "text/html": [
       "<img src onerror=\"var cell = this.closest('.code_cell');var editor = cell.querySelector('.input_area');editor.style.background='#E9FDFF';this.parentNode.removeChild(this)\">"
      ],
      "text/plain": [
       "<IPython.core.display.HTML object>"
      ]
     },
     "metadata": {},
     "output_type": "display_data"
    },
    {
     "data": {
      "text/plain": [
       "0"
      ]
     },
     "execution_count": 7,
     "metadata": {},
     "output_type": "execute_result"
    }
   ],
   "source": [
    "set_background('#E9FDFF')\n",
    "id_cols = ['id']\n",
    "satisfaction_cols = ['Inflight wifi service', 'Departure/Arrival time convenient', 'Ease of Online booking', \n",
    "                    'Gate location', 'Food and drink', 'Online boarding', 'Seat comfort', \n",
    "                    'Inflight entertainment', 'On-board service', 'Leg room service', \n",
    "                    'Baggage handling', 'Checkin service', 'Inflight service', 'Cleanliness']\n",
    "outlier_cols = ['Age', 'Flight Distance', 'Departure Delay in Minutes', 'Arrival Delay in Minutes']\n",
    "categorical_cols = ['Gender', 'Customer Type', 'Type of Travel', 'Class']\n",
    "target_col = ['satisfaction']\n",
    "null_cols = df_train.loc[:, df_train.isna().any()].columns.tolist() #Arrival Delay in Minutes\n",
    "gc.collect()"
   ]
  },
  {
   "cell_type": "markdown",
   "id": "9150a8fb",
   "metadata": {},
   "source": [
    "\n",
    "<font color='#4444AA' size = '5' face = 'Calibri'><a id = \"EDA2\">2. <u>  Preprocessing</u></a></font>\n",
    "<br>\n",
    "<div align = \"right\"><a href = '#top'>Back to Top</a></div>\n",
    "<hr>\n",
    "<font color='#4444AA' size = '4' face = 'Calibri'><a id = \"EDA2_1\">2.1 <u>  Imputing NA values Trials</u></a></font>\n",
    "<div style ='background:#b8dec4'>\n",
    "In this section, we will investigate on the proper ways to impute missing values\n",
    "<ol>\n",
    "    <li>Use IterativeImputer to impute missing values in Arrival Delay in Minutes since it is linearly correlated with values in Departure Delay in Minutes according to the visualization in the notebook <b>Airline_DataVisualization</b></li>\n",
    "    <li>Use KNN Imputer to impute non-applicable satisfaction scores (score = 0)</li>\n",
    "</ol>\n",
    "<div align = \"right\"><a href = '#top'>Back to Top</a></div>\n",
    "</div>"
   ]
  },
  {
   "cell_type": "code",
   "execution_count": 8,
   "id": "d4f1a82b",
   "metadata": {},
   "outputs": [
    {
     "data": {
      "text/html": [
       "<img src onerror=\"var cell = this.closest('.code_cell');var editor = cell.querySelector('.input_area');editor.style.background='#b8dec4';this.parentNode.removeChild(this)\">"
      ],
      "text/plain": [
       "<IPython.core.display.HTML object>"
      ]
     },
     "metadata": {},
     "output_type": "display_data"
    },
    {
     "name": "stderr",
     "output_type": "stream",
     "text": [
      "*c* argument looks like a single numeric RGB or RGBA sequence, which should be avoided as value-mapping will have precedence in case its length matches with *x* & *y*.  Please use the *color* keyword-argument or provide a 2D array with a single row if you intend to specify the same RGB or RGBA value for all points.\n"
     ]
    },
    {
     "data": {
      "text/plain": [
       "<matplotlib.collections.PathCollection at 0x22421bd0790>"
      ]
     },
     "execution_count": 8,
     "metadata": {},
     "output_type": "execute_result"
    },
    {
     "data": {
      "image/png": "[encoded data removed]",
      "text/plain": [
       "<Figure size 1500x500 with 1 Axes>"
      ]
     },
     "metadata": {},
     "output_type": "display_data"
    }
   ],
   "source": [
    "set_background(\"#b8dec4\")\n",
    "plt.figure(figsize = (15,5))\n",
    "plt.title(\"Arrival Delay vs. Departure Delay\")\n",
    "plt.scatter(df_train['Arrival Delay in Minutes'], df_train['Departure Delay in Minutes'], alpha = 0.5, c = sns.color_palette(\"Set2\")[0])"
   ]
  },
  {
   "cell_type": "code",
   "execution_count": 9,
   "id": "3c431dce",
   "metadata": {},
   "outputs": [
    {
     "data": {
      "text/html": [
       "<img src onerror=\"var cell = this.closest('.code_cell');var editor = cell.querySelector('.input_area');editor.style.background='#b8dec4';this.parentNode.removeChild(this)\">"
      ],
      "text/plain": [
       "<IPython.core.display.HTML object>"
      ]
     },
     "metadata": {},
     "output_type": "display_data"
    },
    {
     "data": {
      "text/html": [
       "<div>\n",
       "<style scoped>\n",
       "    .dataframe tbody tr th:only-of-type {\n",
       "        vertical-align: middle;\n",
       "    }\n",
       "\n",
       "    .dataframe tbody tr th {\n",
       "        vertical-align: top;\n",
       "    }\n",
       "\n",
       "    .dataframe thead th {\n",
       "        text-align: right;\n",
       "    }\n",
       "</style>\n",
       "<table border=\"1\" class=\"dataframe\">\n",
       "  <thead>\n",
       "    <tr style=\"text-align: right;\">\n",
       "      <th></th>\n",
       "      <th>id</th>\n",
       "      <th>Gender</th>\n",
       "      <th>Customer Type</th>\n",
       "      <th>Age</th>\n",
       "      <th>Type of Travel</th>\n",
       "      <th>Class</th>\n",
       "      <th>Flight Distance</th>\n",
       "      <th>Inflight wifi service</th>\n",
       "      <th>Departure/Arrival time convenient</th>\n",
       "      <th>Ease of Online booking</th>\n",
       "      <th>Gate location</th>\n",
       "      <th>Food and drink</th>\n",
       "      <th>Online boarding</th>\n",
       "      <th>Seat comfort</th>\n",
       "      <th>Inflight entertainment</th>\n",
       "      <th>On-board service</th>\n",
       "      <th>Leg room service</th>\n",
       "      <th>Baggage handling</th>\n",
       "      <th>Checkin service</th>\n",
       "      <th>Inflight service</th>\n",
       "      <th>Cleanliness</th>\n",
       "      <th>Departure Delay in Minutes</th>\n",
       "      <th>Arrival Delay in Minutes</th>\n",
       "      <th>satisfaction</th>\n",
       "    </tr>\n",
       "  </thead>\n",
       "  <tbody>\n",
       "    <tr>\n",
       "      <th>213</th>\n",
       "      <td>49608</td>\n",
       "      <td>Female</td>\n",
       "      <td>Loyal Customer</td>\n",
       "      <td>38</td>\n",
       "      <td>Business travel</td>\n",
       "      <td>Eco</td>\n",
       "      <td>109</td>\n",
       "      <td>5</td>\n",
       "      <td>3</td>\n",
       "      <td>3</td>\n",
       "      <td>3</td>\n",
       "      <td>5</td>\n",
       "      <td>5</td>\n",
       "      <td>5</td>\n",
       "      <td>5</td>\n",
       "      <td>5</td>\n",
       "      <td>2</td>\n",
       "      <td>4</td>\n",
       "      <td>1</td>\n",
       "      <td>1</td>\n",
       "      <td>5</td>\n",
       "      <td>31</td>\n",
       "      <td>NaN</td>\n",
       "      <td>satisfied</td>\n",
       "    </tr>\n",
       "    <tr>\n",
       "      <th>1124</th>\n",
       "      <td>73442</td>\n",
       "      <td>Male</td>\n",
       "      <td>Loyal Customer</td>\n",
       "      <td>53</td>\n",
       "      <td>Personal Travel</td>\n",
       "      <td>Eco</td>\n",
       "      <td>1012</td>\n",
       "      <td>3</td>\n",
       "      <td>2</td>\n",
       "      <td>3</td>\n",
       "      <td>4</td>\n",
       "      <td>4</td>\n",
       "      <td>3</td>\n",
       "      <td>4</td>\n",
       "      <td>4</td>\n",
       "      <td>4</td>\n",
       "      <td>4</td>\n",
       "      <td>4</td>\n",
       "      <td>3</td>\n",
       "      <td>3</td>\n",
       "      <td>4</td>\n",
       "      <td>38</td>\n",
       "      <td>NaN</td>\n",
       "      <td>neutral or dissatisfied</td>\n",
       "    </tr>\n",
       "    <tr>\n",
       "      <th>1529</th>\n",
       "      <td>71178</td>\n",
       "      <td>Male</td>\n",
       "      <td>Loyal Customer</td>\n",
       "      <td>39</td>\n",
       "      <td>Business travel</td>\n",
       "      <td>Business</td>\n",
       "      <td>733</td>\n",
       "      <td>2</td>\n",
       "      <td>5</td>\n",
       "      <td>5</td>\n",
       "      <td>5</td>\n",
       "      <td>2</td>\n",
       "      <td>4</td>\n",
       "      <td>3</td>\n",
       "      <td>2</td>\n",
       "      <td>2</td>\n",
       "      <td>2</td>\n",
       "      <td>2</td>\n",
       "      <td>2</td>\n",
       "      <td>2</td>\n",
       "      <td>3</td>\n",
       "      <td>11</td>\n",
       "      <td>NaN</td>\n",
       "      <td>neutral or dissatisfied</td>\n",
       "    </tr>\n",
       "    <tr>\n",
       "      <th>2004</th>\n",
       "      <td>72940</td>\n",
       "      <td>Female</td>\n",
       "      <td>disloyal Customer</td>\n",
       "      <td>26</td>\n",
       "      <td>Business travel</td>\n",
       "      <td>Business</td>\n",
       "      <td>1035</td>\n",
       "      <td>3</td>\n",
       "      <td>3</td>\n",
       "      <td>3</td>\n",
       "      <td>1</td>\n",
       "      <td>2</td>\n",
       "      <td>3</td>\n",
       "      <td>2</td>\n",
       "      <td>2</td>\n",
       "      <td>3</td>\n",
       "      <td>3</td>\n",
       "      <td>4</td>\n",
       "      <td>5</td>\n",
       "      <td>5</td>\n",
       "      <td>2</td>\n",
       "      <td>41</td>\n",
       "      <td>NaN</td>\n",
       "      <td>neutral or dissatisfied</td>\n",
       "    </tr>\n",
       "    <tr>\n",
       "      <th>2108</th>\n",
       "      <td>116374</td>\n",
       "      <td>Female</td>\n",
       "      <td>Loyal Customer</td>\n",
       "      <td>24</td>\n",
       "      <td>Personal Travel</td>\n",
       "      <td>Eco</td>\n",
       "      <td>417</td>\n",
       "      <td>2</td>\n",
       "      <td>1</td>\n",
       "      <td>2</td>\n",
       "      <td>2</td>\n",
       "      <td>5</td>\n",
       "      <td>2</td>\n",
       "      <td>5</td>\n",
       "      <td>5</td>\n",
       "      <td>1</td>\n",
       "      <td>4</td>\n",
       "      <td>2</td>\n",
       "      <td>1</td>\n",
       "      <td>2</td>\n",
       "      <td>5</td>\n",
       "      <td>1</td>\n",
       "      <td>NaN</td>\n",
       "      <td>neutral or dissatisfied</td>\n",
       "    </tr>\n",
       "  </tbody>\n",
       "</table>\n",
       "</div>"
      ],
      "text/plain": [
       "          id  Gender      Customer Type  Age   Type of Travel     Class  \\\n",
       "213    49608  Female     Loyal Customer   38  Business travel       Eco   \n",
       "1124   73442    Male     Loyal Customer   53  Personal Travel       Eco   \n",
       "1529   71178    Male     Loyal Customer   39  Business travel  Business   \n",
       "2004   72940  Female  disloyal Customer   26  Business travel  Business   \n",
       "2108  116374  Female     Loyal Customer   24  Personal Travel       Eco   \n",
       "\n",
       "      Flight Distance  Inflight wifi service  \\\n",
       "213               109                      5   \n",
       "1124             1012                      3   \n",
       "1529              733                      2   \n",
       "2004             1035                      3   \n",
       "2108              417                      2   \n",
       "\n",
       "      Departure/Arrival time convenient  Ease of Online booking  \\\n",
       "213                                   3                       3   \n",
       "1124                                  2                       3   \n",
       "1529                                  5                       5   \n",
       "2004                                  3                       3   \n",
       "2108                                  1                       2   \n",
       "\n",
       "      Gate location  Food and drink  Online boarding  Seat comfort  \\\n",
       "213               3               5                5             5   \n",
       "1124              4               4                3             4   \n",
       "1529              5               2                4             3   \n",
       "2004              1               2                3             2   \n",
       "2108              2               5                2             5   \n",
       "\n",
       "      Inflight entertainment  On-board service  Leg room service  \\\n",
       "213                        5                 5                 2   \n",
       "1124                       4                 4                 4   \n",
       "1529                       2                 2                 2   \n",
       "2004                       2                 3                 3   \n",
       "2108                       5                 1                 4   \n",
       "\n",
       "      Baggage handling  Checkin service  Inflight service  Cleanliness  \\\n",
       "213                  4                1                 1            5   \n",
       "1124                 4                3                 3            4   \n",
       "1529                 2                2                 2            3   \n",
       "2004                 4                5                 5            2   \n",
       "2108                 2                1                 2            5   \n",
       "\n",
       "      Departure Delay in Minutes  Arrival Delay in Minutes  \\\n",
       "213                           31                       NaN   \n",
       "1124                          38                       NaN   \n",
       "1529                          11                       NaN   \n",
       "2004                          41                       NaN   \n",
       "2108                           1                       NaN   \n",
       "\n",
       "                 satisfaction  \n",
       "213                 satisfied  \n",
       "1124  neutral or dissatisfied  \n",
       "1529  neutral or dissatisfied  \n",
       "2004  neutral or dissatisfied  \n",
       "2108  neutral or dissatisfied  "
      ]
     },
     "execution_count": 9,
     "metadata": {},
     "output_type": "execute_result"
    }
   ],
   "source": [
    "set_background(\"#b8dec4\")\n",
    "## Checking for null values\n",
    "null_rows_idx = df_train.isnull().any(axis=1)\n",
    "df_train.loc[null_rows_idx].head()"
   ]
  },
  {
   "cell_type": "markdown",
   "id": "0646badf",
   "metadata": {},
   "source": [
    "<div style=\"background:#b8dec4\"><font size=\"4\"><br>Imputing null values<br></font></div>"
   ]
  },
  {
   "cell_type": "code",
   "execution_count": 10,
   "id": "1433ca8d",
   "metadata": {},
   "outputs": [
    {
     "data": {
      "text/html": [
       "<img src onerror=\"var cell = this.closest('.code_cell');var editor = cell.querySelector('.input_area');editor.style.background='#b8dec4';this.parentNode.removeChild(this)\">"
      ],
      "text/plain": [
       "<IPython.core.display.HTML object>"
      ]
     },
     "metadata": {},
     "output_type": "display_data"
    },
    {
     "data": {
      "text/plain": [
       "0"
      ]
     },
     "execution_count": 10,
     "metadata": {},
     "output_type": "execute_result"
    }
   ],
   "source": [
    "set_background(\"#b8dec4\")\n",
    "df_train_null = df_train[['Departure Delay in Minutes', 'Arrival Delay in Minutes']]\n",
    "imputer = IterativeImputer()\n",
    "imputed = imputer.fit_transform(df_train_null)\n",
    "gc.collect()"
   ]
  },
  {
   "cell_type": "code",
   "execution_count": 11,
   "id": "ef254c75",
   "metadata": {},
   "outputs": [
    {
     "data": {
      "text/html": [
       "<img src onerror=\"var cell = this.closest('.code_cell');var editor = cell.querySelector('.input_area');editor.style.background='#b8dec4';this.parentNode.removeChild(this)\">"
      ],
      "text/plain": [
       "<IPython.core.display.HTML object>"
      ]
     },
     "metadata": {},
     "output_type": "display_data"
    },
    {
     "data": {
      "text/html": [
       "<div>\n",
       "<style scoped>\n",
       "    .dataframe tbody tr th:only-of-type {\n",
       "        vertical-align: middle;\n",
       "    }\n",
       "\n",
       "    .dataframe tbody tr th {\n",
       "        vertical-align: top;\n",
       "    }\n",
       "\n",
       "    .dataframe thead th {\n",
       "        text-align: right;\n",
       "    }\n",
       "</style>\n",
       "<table border=\"1\" class=\"dataframe\">\n",
       "  <thead>\n",
       "    <tr style=\"text-align: right;\">\n",
       "      <th></th>\n",
       "      <th>id</th>\n",
       "      <th>Gender</th>\n",
       "      <th>Customer Type</th>\n",
       "      <th>Age</th>\n",
       "      <th>Type of Travel</th>\n",
       "      <th>Class</th>\n",
       "      <th>Flight Distance</th>\n",
       "      <th>Inflight wifi service</th>\n",
       "      <th>Departure/Arrival time convenient</th>\n",
       "      <th>Ease of Online booking</th>\n",
       "      <th>Gate location</th>\n",
       "      <th>Food and drink</th>\n",
       "      <th>Online boarding</th>\n",
       "      <th>Seat comfort</th>\n",
       "      <th>Inflight entertainment</th>\n",
       "      <th>On-board service</th>\n",
       "      <th>Leg room service</th>\n",
       "      <th>Baggage handling</th>\n",
       "      <th>Checkin service</th>\n",
       "      <th>Inflight service</th>\n",
       "      <th>Cleanliness</th>\n",
       "      <th>Departure Delay in Minutes</th>\n",
       "      <th>Arrival Delay in Minutes</th>\n",
       "      <th>satisfaction</th>\n",
       "    </tr>\n",
       "  </thead>\n",
       "  <tbody>\n",
       "    <tr>\n",
       "      <th>213</th>\n",
       "      <td>49608</td>\n",
       "      <td>Female</td>\n",
       "      <td>Loyal Customer</td>\n",
       "      <td>38</td>\n",
       "      <td>Business travel</td>\n",
       "      <td>Eco</td>\n",
       "      <td>109</td>\n",
       "      <td>5</td>\n",
       "      <td>3</td>\n",
       "      <td>3</td>\n",
       "      <td>3</td>\n",
       "      <td>5</td>\n",
       "      <td>5</td>\n",
       "      <td>5</td>\n",
       "      <td>5</td>\n",
       "      <td>5</td>\n",
       "      <td>2</td>\n",
       "      <td>4</td>\n",
       "      <td>1</td>\n",
       "      <td>1</td>\n",
       "      <td>5</td>\n",
       "      <td>31.0</td>\n",
       "      <td>31.109284</td>\n",
       "      <td>satisfied</td>\n",
       "    </tr>\n",
       "    <tr>\n",
       "      <th>1124</th>\n",
       "      <td>73442</td>\n",
       "      <td>Male</td>\n",
       "      <td>Loyal Customer</td>\n",
       "      <td>53</td>\n",
       "      <td>Personal Travel</td>\n",
       "      <td>Eco</td>\n",
       "      <td>1012</td>\n",
       "      <td>3</td>\n",
       "      <td>2</td>\n",
       "      <td>3</td>\n",
       "      <td>4</td>\n",
       "      <td>4</td>\n",
       "      <td>3</td>\n",
       "      <td>4</td>\n",
       "      <td>4</td>\n",
       "      <td>4</td>\n",
       "      <td>4</td>\n",
       "      <td>4</td>\n",
       "      <td>3</td>\n",
       "      <td>3</td>\n",
       "      <td>4</td>\n",
       "      <td>38.0</td>\n",
       "      <td>37.970828</td>\n",
       "      <td>neutral or dissatisfied</td>\n",
       "    </tr>\n",
       "    <tr>\n",
       "      <th>1529</th>\n",
       "      <td>71178</td>\n",
       "      <td>Male</td>\n",
       "      <td>Loyal Customer</td>\n",
       "      <td>39</td>\n",
       "      <td>Business travel</td>\n",
       "      <td>Business</td>\n",
       "      <td>733</td>\n",
       "      <td>2</td>\n",
       "      <td>5</td>\n",
       "      <td>5</td>\n",
       "      <td>5</td>\n",
       "      <td>2</td>\n",
       "      <td>4</td>\n",
       "      <td>3</td>\n",
       "      <td>2</td>\n",
       "      <td>2</td>\n",
       "      <td>2</td>\n",
       "      <td>2</td>\n",
       "      <td>2</td>\n",
       "      <td>2</td>\n",
       "      <td>3</td>\n",
       "      <td>11.0</td>\n",
       "      <td>11.504871</td>\n",
       "      <td>neutral or dissatisfied</td>\n",
       "    </tr>\n",
       "    <tr>\n",
       "      <th>2004</th>\n",
       "      <td>72940</td>\n",
       "      <td>Female</td>\n",
       "      <td>disloyal Customer</td>\n",
       "      <td>26</td>\n",
       "      <td>Business travel</td>\n",
       "      <td>Business</td>\n",
       "      <td>1035</td>\n",
       "      <td>3</td>\n",
       "      <td>3</td>\n",
       "      <td>3</td>\n",
       "      <td>1</td>\n",
       "      <td>2</td>\n",
       "      <td>3</td>\n",
       "      <td>2</td>\n",
       "      <td>2</td>\n",
       "      <td>3</td>\n",
       "      <td>3</td>\n",
       "      <td>4</td>\n",
       "      <td>5</td>\n",
       "      <td>5</td>\n",
       "      <td>2</td>\n",
       "      <td>41.0</td>\n",
       "      <td>40.911490</td>\n",
       "      <td>neutral or dissatisfied</td>\n",
       "    </tr>\n",
       "    <tr>\n",
       "      <th>2108</th>\n",
       "      <td>116374</td>\n",
       "      <td>Female</td>\n",
       "      <td>Loyal Customer</td>\n",
       "      <td>24</td>\n",
       "      <td>Personal Travel</td>\n",
       "      <td>Eco</td>\n",
       "      <td>417</td>\n",
       "      <td>2</td>\n",
       "      <td>1</td>\n",
       "      <td>2</td>\n",
       "      <td>2</td>\n",
       "      <td>5</td>\n",
       "      <td>2</td>\n",
       "      <td>5</td>\n",
       "      <td>5</td>\n",
       "      <td>1</td>\n",
       "      <td>4</td>\n",
       "      <td>2</td>\n",
       "      <td>1</td>\n",
       "      <td>2</td>\n",
       "      <td>5</td>\n",
       "      <td>1.0</td>\n",
       "      <td>1.702665</td>\n",
       "      <td>neutral or dissatisfied</td>\n",
       "    </tr>\n",
       "  </tbody>\n",
       "</table>\n",
       "</div>"
      ],
      "text/plain": [
       "          id  Gender      Customer Type  Age   Type of Travel     Class  \\\n",
       "213    49608  Female     Loyal Customer   38  Business travel       Eco   \n",
       "1124   73442    Male     Loyal Customer   53  Personal Travel       Eco   \n",
       "1529   71178    Male     Loyal Customer   39  Business travel  Business   \n",
       "2004   72940  Female  disloyal Customer   26  Business travel  Business   \n",
       "2108  116374  Female     Loyal Customer   24  Personal Travel       Eco   \n",
       "\n",
       "      Flight Distance  Inflight wifi service  \\\n",
       "213               109                      5   \n",
       "1124             1012                      3   \n",
       "1529              733                      2   \n",
       "2004             1035                      3   \n",
       "2108              417                      2   \n",
       "\n",
       "      Departure/Arrival time convenient  Ease of Online booking  \\\n",
       "213                                   3                       3   \n",
       "1124                                  2                       3   \n",
       "1529                                  5                       5   \n",
       "2004                                  3                       3   \n",
       "2108                                  1                       2   \n",
       "\n",
       "      Gate location  Food and drink  Online boarding  Seat comfort  \\\n",
       "213               3               5                5             5   \n",
       "1124              4               4                3             4   \n",
       "1529              5               2                4             3   \n",
       "2004              1               2                3             2   \n",
       "2108              2               5                2             5   \n",
       "\n",
       "      Inflight entertainment  On-board service  Leg room service  \\\n",
       "213                        5                 5                 2   \n",
       "1124                       4                 4                 4   \n",
       "1529                       2                 2                 2   \n",
       "2004                       2                 3                 3   \n",
       "2108                       5                 1                 4   \n",
       "\n",
       "      Baggage handling  Checkin service  Inflight service  Cleanliness  \\\n",
       "213                  4                1                 1            5   \n",
       "1124                 4                3                 3            4   \n",
       "1529                 2                2                 2            3   \n",
       "2004                 4                5                 5            2   \n",
       "2108                 2                1                 2            5   \n",
       "\n",
       "      Departure Delay in Minutes  Arrival Delay in Minutes  \\\n",
       "213                         31.0                 31.109284   \n",
       "1124                        38.0                 37.970828   \n",
       "1529                        11.0                 11.504871   \n",
       "2004                        41.0                 40.911490   \n",
       "2108                         1.0                  1.702665   \n",
       "\n",
       "                 satisfaction  \n",
       "213                 satisfied  \n",
       "1124  neutral or dissatisfied  \n",
       "1529  neutral or dissatisfied  \n",
       "2004  neutral or dissatisfied  \n",
       "2108  neutral or dissatisfied  "
      ]
     },
     "execution_count": 11,
     "metadata": {},
     "output_type": "execute_result"
    }
   ],
   "source": [
    "set_background(\"#b8dec4\")\n",
    "df_train_cleaned = df_train.copy()\n",
    "df_train_cleaned.loc[:, ['Departure Delay in Minutes', 'Arrival Delay in Minutes']] = imputed\n",
    "df_train_cleaned.loc[null_rows_idx].head()"
   ]
  },
  {
   "cell_type": "markdown",
   "id": "fcdedf85",
   "metadata": {},
   "source": [
    "\n",
    "<font color='#4444AA' size = '4' face = 'Calibri'><a id = \"EDA2_2\">2.2 <u>  Handling Outliers</u></a></font>\n",
    "<hr>\n",
    "<div align = \"right\"><a href = '#top'>Back to Top</a></div>\n",
    "<div style ='background:#b8dec4'>\n",
    "In this section, we will first detect outliers in the training set using Isolation Forest. Contamination = 0.01 is chosen since this filters out proper number of outliers. Secondly, columns with Flight Distance>4500 will be brutally removed. No outliers in the testing set should be removed.\n",
    "<br>    \n",
    "</div>"
   ]
  },
  {
   "cell_type": "code",
   "execution_count": 12,
   "id": "805eefa6",
   "metadata": {},
   "outputs": [
    {
     "data": {
      "text/html": [
       "<img src onerror=\"var cell = this.closest('.code_cell');var editor = cell.querySelector('.input_area');editor.style.background='#b8dec4';this.parentNode.removeChild(this)\">"
      ],
      "text/plain": [
       "<IPython.core.display.HTML object>"
      ]
     },
     "metadata": {},
     "output_type": "display_data"
    },
    {
     "name": "stdout",
     "output_type": "stream",
     "text": [
      "dropped rows: 1040\n"
     ]
    },
    {
     "data": {
      "text/plain": [
       "24"
      ]
     },
     "execution_count": 12,
     "metadata": {},
     "output_type": "execute_result"
    }
   ],
   "source": [
    "set_background(\"#b8dec4\")\n",
    "X = df_train_cleaned[outlier_cols]\n",
    "\n",
    "isolation_forest = IsolationForest(random_state=42, contamination = 0.01)\n",
    "outlier_pred = isolation_forest.fit_predict(X)\n",
    "\n",
    "df_train_no_outlier = df_train_cleaned.iloc[outlier_pred == 1]\n",
    "\n",
    "df_train_outlier = df_train_cleaned.iloc[outlier_pred == -1]\n",
    "print('dropped rows:', df_train_outlier.shape[0])\n",
    "gc.collect()"
   ]
  },
  {
   "cell_type": "code",
   "execution_count": 13,
   "id": "be90f9ca",
   "metadata": {},
   "outputs": [
    {
     "data": {
      "text/html": [
       "<img src onerror=\"var cell = this.closest('.code_cell');var editor = cell.querySelector('.input_area');editor.style.background='#b8dec4';this.parentNode.removeChild(this)\">"
      ],
      "text/plain": [
       "<IPython.core.display.HTML object>"
      ]
     },
     "metadata": {},
     "output_type": "display_data"
    },
    {
     "data": {
      "text/html": [
       "<div>\n",
       "<style scoped>\n",
       "    .dataframe tbody tr th:only-of-type {\n",
       "        vertical-align: middle;\n",
       "    }\n",
       "\n",
       "    .dataframe tbody tr th {\n",
       "        vertical-align: top;\n",
       "    }\n",
       "\n",
       "    .dataframe thead th {\n",
       "        text-align: right;\n",
       "    }\n",
       "</style>\n",
       "<table border=\"1\" class=\"dataframe\">\n",
       "  <thead>\n",
       "    <tr style=\"text-align: right;\">\n",
       "      <th></th>\n",
       "      <th>Age</th>\n",
       "      <th>Flight Distance</th>\n",
       "      <th>Departure Delay in Minutes</th>\n",
       "      <th>Arrival Delay in Minutes</th>\n",
       "    </tr>\n",
       "  </thead>\n",
       "  <tbody>\n",
       "    <tr>\n",
       "      <th>count</th>\n",
       "      <td>1040.000000</td>\n",
       "      <td>1040.000000</td>\n",
       "      <td>1040.000000</td>\n",
       "      <td>1040.000000</td>\n",
       "    </tr>\n",
       "    <tr>\n",
       "      <th>mean</th>\n",
       "      <td>39.602885</td>\n",
       "      <td>1523.594231</td>\n",
       "      <td>261.789423</td>\n",
       "      <td>265.106537</td>\n",
       "    </tr>\n",
       "    <tr>\n",
       "      <th>std</th>\n",
       "      <td>16.235662</td>\n",
       "      <td>1179.397409</td>\n",
       "      <td>118.309202</td>\n",
       "      <td>117.906445</td>\n",
       "    </tr>\n",
       "    <tr>\n",
       "      <th>min</th>\n",
       "      <td>7.000000</td>\n",
       "      <td>67.000000</td>\n",
       "      <td>69.000000</td>\n",
       "      <td>81.000000</td>\n",
       "    </tr>\n",
       "    <tr>\n",
       "      <th>25%</th>\n",
       "      <td>26.000000</td>\n",
       "      <td>486.750000</td>\n",
       "      <td>196.000000</td>\n",
       "      <td>195.000000</td>\n",
       "    </tr>\n",
       "    <tr>\n",
       "      <th>50%</th>\n",
       "      <td>40.000000</td>\n",
       "      <td>1076.000000</td>\n",
       "      <td>233.000000</td>\n",
       "      <td>239.000000</td>\n",
       "    </tr>\n",
       "    <tr>\n",
       "      <th>75%</th>\n",
       "      <td>52.000000</td>\n",
       "      <td>2455.000000</td>\n",
       "      <td>296.000000</td>\n",
       "      <td>299.000000</td>\n",
       "    </tr>\n",
       "    <tr>\n",
       "      <th>max</th>\n",
       "      <td>80.000000</td>\n",
       "      <td>4963.000000</td>\n",
       "      <td>1592.000000</td>\n",
       "      <td>1584.000000</td>\n",
       "    </tr>\n",
       "  </tbody>\n",
       "</table>\n",
       "</div>"
      ],
      "text/plain": [
       "               Age  Flight Distance  Departure Delay in Minutes  \\\n",
       "count  1040.000000      1040.000000                 1040.000000   \n",
       "mean     39.602885      1523.594231                  261.789423   \n",
       "std      16.235662      1179.397409                  118.309202   \n",
       "min       7.000000        67.000000                   69.000000   \n",
       "25%      26.000000       486.750000                  196.000000   \n",
       "50%      40.000000      1076.000000                  233.000000   \n",
       "75%      52.000000      2455.000000                  296.000000   \n",
       "max      80.000000      4963.000000                 1592.000000   \n",
       "\n",
       "       Arrival Delay in Minutes  \n",
       "count               1040.000000  \n",
       "mean                 265.106537  \n",
       "std                  117.906445  \n",
       "min                   81.000000  \n",
       "25%                  195.000000  \n",
       "50%                  239.000000  \n",
       "75%                  299.000000  \n",
       "max                 1584.000000  "
      ]
     },
     "execution_count": 13,
     "metadata": {},
     "output_type": "execute_result"
    }
   ],
   "source": [
    "set_background(\"#b8dec4\")\n",
    "df_train_outlier[outlier_cols].describe()"
   ]
  },
  {
   "cell_type": "code",
   "execution_count": 14,
   "id": "67ef88d3",
   "metadata": {},
   "outputs": [
    {
     "data": {
      "text/html": [
       "<img src onerror=\"var cell = this.closest('.code_cell');var editor = cell.querySelector('.input_area');editor.style.background='#b8dec4';this.parentNode.removeChild(this)\">"
      ],
      "text/plain": [
       "<IPython.core.display.HTML object>"
      ]
     },
     "metadata": {},
     "output_type": "display_data"
    }
   ],
   "source": [
    "set_background(\"#b8dec4\")\n",
    "df_train_no_outlier = df_train_no_outlier[df_train_no_outlier['Flight Distance']<4500]"
   ]
  },
  {
   "cell_type": "markdown",
   "id": "af223497",
   "metadata": {},
   "source": [
    "<div style=\"background:#b8dec4\"><font size=\"3\"><br>Profiling data after removing outliers<br></font></div>"
   ]
  },
  {
   "cell_type": "code",
   "execution_count": 15,
   "id": "2bdc3939",
   "metadata": {},
   "outputs": [
    {
     "data": {
      "text/html": [
       "<img src onerror=\"var cell = this.closest('.code_cell');var editor = cell.querySelector('.input_area');editor.style.background='#b8dec4';this.parentNode.removeChild(this)\">"
      ],
      "text/plain": [
       "<IPython.core.display.HTML object>"
      ]
     },
     "metadata": {},
     "output_type": "display_data"
    },
    {
     "data": {
      "application/vnd.jupyter.widget-view+json": {
       "model_id": "b603d7a6217d4edb96b51c8597bf32be",
       "version_major": 2,
       "version_minor": 0
      },
      "text/plain": [
       "Summarize dataset:   0%|          | 0/5 [00:00<?, ?it/s]"
      ]
     },
     "metadata": {},
     "output_type": "display_data"
    },
    {
     "data": {
      "application/vnd.jupyter.widget-view+json": {
       "model_id": "c8ac2b9b34ff429b9131f8c230d7942a",
       "version_major": 2,
       "version_minor": 0
      },
      "text/plain": [
       "Generate report structure:   0%|          | 0/1 [00:00<?, ?it/s]"
      ]
     },
     "metadata": {},
     "output_type": "display_data"
    },
    {
     "data": {
      "application/vnd.jupyter.widget-view+json": {
       "model_id": "8090cdf8ff124370b3b3b5c2f212b29e",
       "version_major": 2,
       "version_minor": 0
      },
      "text/plain": [
       "Render HTML:   0%|          | 0/1 [00:00<?, ?it/s]"
      ]
     },
     "metadata": {},
     "output_type": "display_data"
    },
    {
     "data": {
      "application/vnd.jupyter.widget-view+json": {
       "model_id": "b378215e6da64674ba7d953d83200b65",
       "version_major": 2,
       "version_minor": 0
      },
      "text/plain": [
       "Export report to file:   0%|          | 0/1 [00:00<?, ?it/s]"
      ]
     },
     "metadata": {},
     "output_type": "display_data"
    },
    {
     "data": {
      "text/plain": [
       "85"
      ]
     },
     "execution_count": 15,
     "metadata": {},
     "output_type": "execute_result"
    }
   ],
   "source": [
    "set_background(\"#b8dec4\")\n",
    "profile2 = df_train_no_outlier.profile_report(\n",
    "    title=\"Report without correlations\",\n",
    "    correlations=None,\n",
    ")\n",
    "profile2.to_file(base_path + \"\\\\data\\\\airline_train_profile_no_outlier.html\")\n",
    "gc.collect()"
   ]
  },
  {
   "cell_type": "markdown",
   "id": "28e6dc2e",
   "metadata": {},
   "source": [
    "<hr>\n",
    "<font color='#4444AA' size = '4' face = 'Calibri'><a id = \"EDA2_3\">2.3 <u>  Normalization and Imputation Pipelines</u></a></font><hr>\n",
    "<div align = \"right\"><a href = '#top'>Back to Top</a></div>\n",
    "<div style ='background:#b8dec4'>\n",
    "<ol>\n",
    "    <li><i>normalize_preprocessing</i>: Normalization pipeline to facilitate certain distance-based models imputing_preprocessing: Imputatin pipeline to generate dataset for tree-based models</li>\n",
    "    <li>Prepare both training and testing set for modelling part</li>\n",
    "</ol>\n",
    "</div>"
   ]
  },
  {
   "cell_type": "code",
   "execution_count": 16,
   "id": "75ea851a",
   "metadata": {},
   "outputs": [
    {
     "data": {
      "text/html": [
       "<img src onerror=\"var cell = this.closest('.code_cell');var editor = cell.querySelector('.input_area');editor.style.background='#b8dec4';this.parentNode.removeChild(this)\">"
      ],
      "text/plain": [
       "<IPython.core.display.HTML object>"
      ]
     },
     "metadata": {},
     "output_type": "display_data"
    }
   ],
   "source": [
    "set_background(\"#b8dec4\")\n",
    "def log_transform(x):\n",
    "    return np.log(x + 1)\n",
    "def non_transform(x):\n",
    "    return x\n",
    "\n",
    "log_pipeline = make_pipeline(\n",
    "#    SimpleImputer(strategy=\"median\"),\n",
    "    IterativeImputer(),\n",
    "    FunctionTransformer(log_transform, feature_names_out=\"one-to-one\"))\n",
    "\n",
    "iterative_impute_pipeline = make_pipeline(\n",
    "    IterativeImputer(),\n",
    "    FunctionTransformer(non_transform, feature_names_out=\"one-to-one\"))\n",
    "\n",
    "cat_pipeline = make_pipeline(\n",
    "    SimpleImputer(strategy=\"most_frequent\"),\n",
    "    OneHotEncoder(handle_unknown=\"ignore\"))\n",
    "\n",
    "knn_impute_pipeline = make_pipeline(\n",
    "    KNNImputer(missing_values = 0, n_neighbors=5, weights='uniform', metric='nan_euclidean'))\n",
    "\n",
    "default_num_pipeline = make_pipeline(StandardScaler())\n",
    "\n",
    "normalize_preprocessing = ColumnTransformer([\n",
    "    (\"log\", log_pipeline, ['Flight Distance', 'Departure Delay in Minutes', 'Arrival Delay in Minutes']),\n",
    "    (\"cat\", cat_pipeline, categorical_cols),\n",
    "    (\"std\", default_num_pipeline, ['Age']),\n",
    "    (\"score\", knn_impute_pipeline, satisfaction_cols)\n",
    "    ],\n",
    "    remainder='passthrough',\n",
    "    verbose_feature_names_out = False\n",
    "    )\n",
    "\n",
    "imputing_preprocessing = ColumnTransformer([\n",
    "    (\"iter\", iterative_impute_pipeline, ['Departure Delay in Minutes', 'Arrival Delay in Minutes']),\n",
    "    (\"cat\", cat_pipeline, categorical_cols),\n",
    "    (\"score\", knn_impute_pipeline, satisfaction_cols)\n",
    "    ],\n",
    "    remainder='passthrough',\n",
    "    verbose_feature_names_out = False\n",
    "    )"
   ]
  },
  {
   "cell_type": "markdown",
   "id": "bfb11e1f",
   "metadata": {},
   "source": [
    "<div style=\"background:#b8dec4\"><font size=\"3\"><br>Training Datasets<br></font></div>"
   ]
  },
  {
   "cell_type": "code",
   "execution_count": 17,
   "id": "c76f5bfe",
   "metadata": {},
   "outputs": [
    {
     "data": {
      "text/html": [
       "<img src onerror=\"var cell = this.closest('.code_cell');var editor = cell.querySelector('.input_area');editor.style.background='#b8dec4';this.parentNode.removeChild(this)\">"
      ],
      "text/plain": [
       "<IPython.core.display.HTML object>"
      ]
     },
     "metadata": {},
     "output_type": "display_data"
    },
    {
     "data": {
      "text/html": [
       "<div>\n",
       "<style scoped>\n",
       "    .dataframe tbody tr th:only-of-type {\n",
       "        vertical-align: middle;\n",
       "    }\n",
       "\n",
       "    .dataframe tbody tr th {\n",
       "        vertical-align: top;\n",
       "    }\n",
       "\n",
       "    .dataframe thead th {\n",
       "        text-align: right;\n",
       "    }\n",
       "</style>\n",
       "<table border=\"1\" class=\"dataframe\">\n",
       "  <thead>\n",
       "    <tr style=\"text-align: right;\">\n",
       "      <th></th>\n",
       "      <th>Departure Delay in Minutes</th>\n",
       "      <th>Arrival Delay in Minutes</th>\n",
       "      <th>Gender_Female</th>\n",
       "      <th>Gender_Male</th>\n",
       "      <th>Customer Type_Loyal Customer</th>\n",
       "      <th>Customer Type_disloyal Customer</th>\n",
       "      <th>Type of Travel_Business travel</th>\n",
       "      <th>Type of Travel_Personal Travel</th>\n",
       "      <th>Class_Business</th>\n",
       "      <th>Class_Eco</th>\n",
       "      <th>Class_Eco Plus</th>\n",
       "      <th>Inflight wifi service</th>\n",
       "      <th>Departure/Arrival time convenient</th>\n",
       "      <th>Ease of Online booking</th>\n",
       "      <th>Gate location</th>\n",
       "      <th>Food and drink</th>\n",
       "      <th>Online boarding</th>\n",
       "      <th>Seat comfort</th>\n",
       "      <th>Inflight entertainment</th>\n",
       "      <th>On-board service</th>\n",
       "      <th>Leg room service</th>\n",
       "      <th>Baggage handling</th>\n",
       "      <th>Checkin service</th>\n",
       "      <th>Inflight service</th>\n",
       "      <th>Cleanliness</th>\n",
       "      <th>Age</th>\n",
       "      <th>Flight Distance</th>\n",
       "      <th>satisfaction</th>\n",
       "    </tr>\n",
       "  </thead>\n",
       "  <tbody>\n",
       "    <tr>\n",
       "      <th>0</th>\n",
       "      <td>25.0</td>\n",
       "      <td>18.0</td>\n",
       "      <td>0.0</td>\n",
       "      <td>1.0</td>\n",
       "      <td>1.0</td>\n",
       "      <td>0.0</td>\n",
       "      <td>0.0</td>\n",
       "      <td>1.0</td>\n",
       "      <td>0.0</td>\n",
       "      <td>0.0</td>\n",
       "      <td>1.0</td>\n",
       "      <td>3.0</td>\n",
       "      <td>4.0</td>\n",
       "      <td>3.0</td>\n",
       "      <td>1.0</td>\n",
       "      <td>5.0</td>\n",
       "      <td>3.0</td>\n",
       "      <td>5.0</td>\n",
       "      <td>5.0</td>\n",
       "      <td>4.0</td>\n",
       "      <td>3.0</td>\n",
       "      <td>4.0</td>\n",
       "      <td>4.0</td>\n",
       "      <td>5.0</td>\n",
       "      <td>5.0</td>\n",
       "      <td>13</td>\n",
       "      <td>460</td>\n",
       "      <td>neutral or dissatisfied</td>\n",
       "    </tr>\n",
       "    <tr>\n",
       "      <th>1</th>\n",
       "      <td>1.0</td>\n",
       "      <td>6.0</td>\n",
       "      <td>0.0</td>\n",
       "      <td>1.0</td>\n",
       "      <td>0.0</td>\n",
       "      <td>1.0</td>\n",
       "      <td>1.0</td>\n",
       "      <td>0.0</td>\n",
       "      <td>1.0</td>\n",
       "      <td>0.0</td>\n",
       "      <td>0.0</td>\n",
       "      <td>3.0</td>\n",
       "      <td>2.0</td>\n",
       "      <td>3.0</td>\n",
       "      <td>3.0</td>\n",
       "      <td>1.0</td>\n",
       "      <td>3.0</td>\n",
       "      <td>1.0</td>\n",
       "      <td>1.0</td>\n",
       "      <td>1.0</td>\n",
       "      <td>5.0</td>\n",
       "      <td>3.0</td>\n",
       "      <td>1.0</td>\n",
       "      <td>4.0</td>\n",
       "      <td>1.0</td>\n",
       "      <td>25</td>\n",
       "      <td>235</td>\n",
       "      <td>neutral or dissatisfied</td>\n",
       "    </tr>\n",
       "    <tr>\n",
       "      <th>2</th>\n",
       "      <td>0.0</td>\n",
       "      <td>0.0</td>\n",
       "      <td>1.0</td>\n",
       "      <td>0.0</td>\n",
       "      <td>1.0</td>\n",
       "      <td>0.0</td>\n",
       "      <td>1.0</td>\n",
       "      <td>0.0</td>\n",
       "      <td>1.0</td>\n",
       "      <td>0.0</td>\n",
       "      <td>0.0</td>\n",
       "      <td>2.0</td>\n",
       "      <td>2.0</td>\n",
       "      <td>2.0</td>\n",
       "      <td>2.0</td>\n",
       "      <td>5.0</td>\n",
       "      <td>5.0</td>\n",
       "      <td>5.0</td>\n",
       "      <td>5.0</td>\n",
       "      <td>4.0</td>\n",
       "      <td>3.0</td>\n",
       "      <td>4.0</td>\n",
       "      <td>4.0</td>\n",
       "      <td>4.0</td>\n",
       "      <td>5.0</td>\n",
       "      <td>26</td>\n",
       "      <td>1142</td>\n",
       "      <td>satisfied</td>\n",
       "    </tr>\n",
       "    <tr>\n",
       "      <th>3</th>\n",
       "      <td>11.0</td>\n",
       "      <td>9.0</td>\n",
       "      <td>1.0</td>\n",
       "      <td>0.0</td>\n",
       "      <td>1.0</td>\n",
       "      <td>0.0</td>\n",
       "      <td>1.0</td>\n",
       "      <td>0.0</td>\n",
       "      <td>1.0</td>\n",
       "      <td>0.0</td>\n",
       "      <td>0.0</td>\n",
       "      <td>2.0</td>\n",
       "      <td>5.0</td>\n",
       "      <td>5.0</td>\n",
       "      <td>5.0</td>\n",
       "      <td>2.0</td>\n",
       "      <td>2.0</td>\n",
       "      <td>2.0</td>\n",
       "      <td>2.0</td>\n",
       "      <td>2.0</td>\n",
       "      <td>5.0</td>\n",
       "      <td>3.0</td>\n",
       "      <td>1.0</td>\n",
       "      <td>4.0</td>\n",
       "      <td>2.0</td>\n",
       "      <td>25</td>\n",
       "      <td>562</td>\n",
       "      <td>neutral or dissatisfied</td>\n",
       "    </tr>\n",
       "    <tr>\n",
       "      <th>4</th>\n",
       "      <td>0.0</td>\n",
       "      <td>0.0</td>\n",
       "      <td>0.0</td>\n",
       "      <td>1.0</td>\n",
       "      <td>1.0</td>\n",
       "      <td>0.0</td>\n",
       "      <td>1.0</td>\n",
       "      <td>0.0</td>\n",
       "      <td>1.0</td>\n",
       "      <td>0.0</td>\n",
       "      <td>0.0</td>\n",
       "      <td>3.0</td>\n",
       "      <td>3.0</td>\n",
       "      <td>3.0</td>\n",
       "      <td>3.0</td>\n",
       "      <td>4.0</td>\n",
       "      <td>5.0</td>\n",
       "      <td>5.0</td>\n",
       "      <td>3.0</td>\n",
       "      <td>3.0</td>\n",
       "      <td>4.0</td>\n",
       "      <td>4.0</td>\n",
       "      <td>3.0</td>\n",
       "      <td>3.0</td>\n",
       "      <td>3.0</td>\n",
       "      <td>61</td>\n",
       "      <td>214</td>\n",
       "      <td>satisfied</td>\n",
       "    </tr>\n",
       "  </tbody>\n",
       "</table>\n",
       "</div>"
      ],
      "text/plain": [
       "  Departure Delay in Minutes Arrival Delay in Minutes Gender_Female  \\\n",
       "0                       25.0                     18.0           0.0   \n",
       "1                        1.0                      6.0           0.0   \n",
       "2                        0.0                      0.0           1.0   \n",
       "3                       11.0                      9.0           1.0   \n",
       "4                        0.0                      0.0           0.0   \n",
       "\n",
       "  Gender_Male Customer Type_Loyal Customer Customer Type_disloyal Customer  \\\n",
       "0         1.0                          1.0                             0.0   \n",
       "1         1.0                          0.0                             1.0   \n",
       "2         0.0                          1.0                             0.0   \n",
       "3         0.0                          1.0                             0.0   \n",
       "4         1.0                          1.0                             0.0   \n",
       "\n",
       "  Type of Travel_Business travel Type of Travel_Personal Travel  \\\n",
       "0                            0.0                            1.0   \n",
       "1                            1.0                            0.0   \n",
       "2                            1.0                            0.0   \n",
       "3                            1.0                            0.0   \n",
       "4                            1.0                            0.0   \n",
       "\n",
       "  Class_Business Class_Eco Class_Eco Plus Inflight wifi service  \\\n",
       "0            0.0       0.0            1.0                   3.0   \n",
       "1            1.0       0.0            0.0                   3.0   \n",
       "2            1.0       0.0            0.0                   2.0   \n",
       "3            1.0       0.0            0.0                   2.0   \n",
       "4            1.0       0.0            0.0                   3.0   \n",
       "\n",
       "  Departure/Arrival time convenient Ease of Online booking Gate location  \\\n",
       "0                               4.0                    3.0           1.0   \n",
       "1                               2.0                    3.0           3.0   \n",
       "2                               2.0                    2.0           2.0   \n",
       "3                               5.0                    5.0           5.0   \n",
       "4                               3.0                    3.0           3.0   \n",
       "\n",
       "  Food and drink Online boarding Seat comfort Inflight entertainment  \\\n",
       "0            5.0             3.0          5.0                    5.0   \n",
       "1            1.0             3.0          1.0                    1.0   \n",
       "2            5.0             5.0          5.0                    5.0   \n",
       "3            2.0             2.0          2.0                    2.0   \n",
       "4            4.0             5.0          5.0                    3.0   \n",
       "\n",
       "  On-board service Leg room service Baggage handling Checkin service  \\\n",
       "0              4.0              3.0              4.0             4.0   \n",
       "1              1.0              5.0              3.0             1.0   \n",
       "2              4.0              3.0              4.0             4.0   \n",
       "3              2.0              5.0              3.0             1.0   \n",
       "4              3.0              4.0              4.0             3.0   \n",
       "\n",
       "  Inflight service Cleanliness Age Flight Distance             satisfaction  \n",
       "0              5.0         5.0  13             460  neutral or dissatisfied  \n",
       "1              4.0         1.0  25             235  neutral or dissatisfied  \n",
       "2              4.0         5.0  26            1142                satisfied  \n",
       "3              4.0         2.0  25             562  neutral or dissatisfied  \n",
       "4              3.0         3.0  61             214                satisfied  "
      ]
     },
     "execution_count": 17,
     "metadata": {},
     "output_type": "execute_result"
    }
   ],
   "source": [
    "set_background(\"#b8dec4\")\n",
    "airplane_train = df_train_no_outlier.copy()\n",
    "airplane_train = imputing_preprocessing.fit_transform(airplane_train)\n",
    "airplane_train = pd.DataFrame(airplane_train,\n",
    "    columns=imputing_preprocessing.get_feature_names_out(),\n",
    "    index=df_train_no_outlier.index)\n",
    "airplane_train.drop(columns = ['id'], inplace = True)\n",
    "gc.collect()\n",
    "airplane_train.head(5)"
   ]
  },
  {
   "cell_type": "code",
   "execution_count": 18,
   "id": "4081a24d",
   "metadata": {},
   "outputs": [
    {
     "data": {
      "text/html": [
       "<img src onerror=\"var cell = this.closest('.code_cell');var editor = cell.querySelector('.input_area');editor.style.background='#b8dec4';this.parentNode.removeChild(this)\">"
      ],
      "text/plain": [
       "<IPython.core.display.HTML object>"
      ]
     },
     "metadata": {},
     "output_type": "display_data"
    },
    {
     "data": {
      "text/html": [
       "<div>\n",
       "<style scoped>\n",
       "    .dataframe tbody tr th:only-of-type {\n",
       "        vertical-align: middle;\n",
       "    }\n",
       "\n",
       "    .dataframe tbody tr th {\n",
       "        vertical-align: top;\n",
       "    }\n",
       "\n",
       "    .dataframe thead th {\n",
       "        text-align: right;\n",
       "    }\n",
       "</style>\n",
       "<table border=\"1\" class=\"dataframe\">\n",
       "  <thead>\n",
       "    <tr style=\"text-align: right;\">\n",
       "      <th></th>\n",
       "      <th>Flight Distance</th>\n",
       "      <th>Departure Delay in Minutes</th>\n",
       "      <th>Arrival Delay in Minutes</th>\n",
       "      <th>Gender_Female</th>\n",
       "      <th>Gender_Male</th>\n",
       "      <th>Customer Type_Loyal Customer</th>\n",
       "      <th>Customer Type_disloyal Customer</th>\n",
       "      <th>Type of Travel_Business travel</th>\n",
       "      <th>Type of Travel_Personal Travel</th>\n",
       "      <th>Class_Business</th>\n",
       "      <th>Class_Eco</th>\n",
       "      <th>Class_Eco Plus</th>\n",
       "      <th>Age</th>\n",
       "      <th>Inflight wifi service</th>\n",
       "      <th>Departure/Arrival time convenient</th>\n",
       "      <th>Ease of Online booking</th>\n",
       "      <th>Gate location</th>\n",
       "      <th>Food and drink</th>\n",
       "      <th>Online boarding</th>\n",
       "      <th>Seat comfort</th>\n",
       "      <th>Inflight entertainment</th>\n",
       "      <th>On-board service</th>\n",
       "      <th>Leg room service</th>\n",
       "      <th>Baggage handling</th>\n",
       "      <th>Checkin service</th>\n",
       "      <th>Inflight service</th>\n",
       "      <th>Cleanliness</th>\n",
       "      <th>satisfaction</th>\n",
       "    </tr>\n",
       "  </thead>\n",
       "  <tbody>\n",
       "    <tr>\n",
       "      <th>0</th>\n",
       "      <td>6.133398</td>\n",
       "      <td>3.258097</td>\n",
       "      <td>2.944439</td>\n",
       "      <td>0.0</td>\n",
       "      <td>1.0</td>\n",
       "      <td>1.0</td>\n",
       "      <td>0.0</td>\n",
       "      <td>0.0</td>\n",
       "      <td>1.0</td>\n",
       "      <td>0.0</td>\n",
       "      <td>0.0</td>\n",
       "      <td>1.0</td>\n",
       "      <td>-1.746468</td>\n",
       "      <td>3.0</td>\n",
       "      <td>4.0</td>\n",
       "      <td>3.0</td>\n",
       "      <td>1.0</td>\n",
       "      <td>5.0</td>\n",
       "      <td>3.0</td>\n",
       "      <td>5.0</td>\n",
       "      <td>5.0</td>\n",
       "      <td>4.0</td>\n",
       "      <td>3.0</td>\n",
       "      <td>4.0</td>\n",
       "      <td>4.0</td>\n",
       "      <td>5.0</td>\n",
       "      <td>5.0</td>\n",
       "      <td>neutral or dissatisfied</td>\n",
       "    </tr>\n",
       "    <tr>\n",
       "      <th>1</th>\n",
       "      <td>5.463832</td>\n",
       "      <td>0.693147</td>\n",
       "      <td>1.94591</td>\n",
       "      <td>0.0</td>\n",
       "      <td>1.0</td>\n",
       "      <td>0.0</td>\n",
       "      <td>1.0</td>\n",
       "      <td>1.0</td>\n",
       "      <td>0.0</td>\n",
       "      <td>1.0</td>\n",
       "      <td>0.0</td>\n",
       "      <td>0.0</td>\n",
       "      <td>-0.951927</td>\n",
       "      <td>3.0</td>\n",
       "      <td>2.0</td>\n",
       "      <td>3.0</td>\n",
       "      <td>3.0</td>\n",
       "      <td>1.0</td>\n",
       "      <td>3.0</td>\n",
       "      <td>1.0</td>\n",
       "      <td>1.0</td>\n",
       "      <td>1.0</td>\n",
       "      <td>5.0</td>\n",
       "      <td>3.0</td>\n",
       "      <td>1.0</td>\n",
       "      <td>4.0</td>\n",
       "      <td>1.0</td>\n",
       "      <td>neutral or dissatisfied</td>\n",
       "    </tr>\n",
       "    <tr>\n",
       "      <th>2</th>\n",
       "      <td>7.041412</td>\n",
       "      <td>0.0</td>\n",
       "      <td>0.0</td>\n",
       "      <td>1.0</td>\n",
       "      <td>0.0</td>\n",
       "      <td>1.0</td>\n",
       "      <td>0.0</td>\n",
       "      <td>1.0</td>\n",
       "      <td>0.0</td>\n",
       "      <td>1.0</td>\n",
       "      <td>0.0</td>\n",
       "      <td>0.0</td>\n",
       "      <td>-0.885715</td>\n",
       "      <td>2.0</td>\n",
       "      <td>2.0</td>\n",
       "      <td>2.0</td>\n",
       "      <td>2.0</td>\n",
       "      <td>5.0</td>\n",
       "      <td>5.0</td>\n",
       "      <td>5.0</td>\n",
       "      <td>5.0</td>\n",
       "      <td>4.0</td>\n",
       "      <td>3.0</td>\n",
       "      <td>4.0</td>\n",
       "      <td>4.0</td>\n",
       "      <td>4.0</td>\n",
       "      <td>5.0</td>\n",
       "      <td>satisfied</td>\n",
       "    </tr>\n",
       "    <tr>\n",
       "      <th>3</th>\n",
       "      <td>6.33328</td>\n",
       "      <td>2.484907</td>\n",
       "      <td>2.302585</td>\n",
       "      <td>1.0</td>\n",
       "      <td>0.0</td>\n",
       "      <td>1.0</td>\n",
       "      <td>0.0</td>\n",
       "      <td>1.0</td>\n",
       "      <td>0.0</td>\n",
       "      <td>1.0</td>\n",
       "      <td>0.0</td>\n",
       "      <td>0.0</td>\n",
       "      <td>-0.951927</td>\n",
       "      <td>2.0</td>\n",
       "      <td>5.0</td>\n",
       "      <td>5.0</td>\n",
       "      <td>5.0</td>\n",
       "      <td>2.0</td>\n",
       "      <td>2.0</td>\n",
       "      <td>2.0</td>\n",
       "      <td>2.0</td>\n",
       "      <td>2.0</td>\n",
       "      <td>5.0</td>\n",
       "      <td>3.0</td>\n",
       "      <td>1.0</td>\n",
       "      <td>4.0</td>\n",
       "      <td>2.0</td>\n",
       "      <td>neutral or dissatisfied</td>\n",
       "    </tr>\n",
       "    <tr>\n",
       "      <th>4</th>\n",
       "      <td>5.370638</td>\n",
       "      <td>0.0</td>\n",
       "      <td>0.0</td>\n",
       "      <td>0.0</td>\n",
       "      <td>1.0</td>\n",
       "      <td>1.0</td>\n",
       "      <td>0.0</td>\n",
       "      <td>1.0</td>\n",
       "      <td>0.0</td>\n",
       "      <td>1.0</td>\n",
       "      <td>0.0</td>\n",
       "      <td>0.0</td>\n",
       "      <td>1.431697</td>\n",
       "      <td>3.0</td>\n",
       "      <td>3.0</td>\n",
       "      <td>3.0</td>\n",
       "      <td>3.0</td>\n",
       "      <td>4.0</td>\n",
       "      <td>5.0</td>\n",
       "      <td>5.0</td>\n",
       "      <td>3.0</td>\n",
       "      <td>3.0</td>\n",
       "      <td>4.0</td>\n",
       "      <td>4.0</td>\n",
       "      <td>3.0</td>\n",
       "      <td>3.0</td>\n",
       "      <td>3.0</td>\n",
       "      <td>satisfied</td>\n",
       "    </tr>\n",
       "  </tbody>\n",
       "</table>\n",
       "</div>"
      ],
      "text/plain": [
       "  Flight Distance Departure Delay in Minutes Arrival Delay in Minutes  \\\n",
       "0        6.133398                   3.258097                 2.944439   \n",
       "1        5.463832                   0.693147                  1.94591   \n",
       "2        7.041412                        0.0                      0.0   \n",
       "3         6.33328                   2.484907                 2.302585   \n",
       "4        5.370638                        0.0                      0.0   \n",
       "\n",
       "  Gender_Female Gender_Male Customer Type_Loyal Customer  \\\n",
       "0           0.0         1.0                          1.0   \n",
       "1           0.0         1.0                          0.0   \n",
       "2           1.0         0.0                          1.0   \n",
       "3           1.0         0.0                          1.0   \n",
       "4           0.0         1.0                          1.0   \n",
       "\n",
       "  Customer Type_disloyal Customer Type of Travel_Business travel  \\\n",
       "0                             0.0                            0.0   \n",
       "1                             1.0                            1.0   \n",
       "2                             0.0                            1.0   \n",
       "3                             0.0                            1.0   \n",
       "4                             0.0                            1.0   \n",
       "\n",
       "  Type of Travel_Personal Travel Class_Business Class_Eco Class_Eco Plus  \\\n",
       "0                            1.0            0.0       0.0            1.0   \n",
       "1                            0.0            1.0       0.0            0.0   \n",
       "2                            0.0            1.0       0.0            0.0   \n",
       "3                            0.0            1.0       0.0            0.0   \n",
       "4                            0.0            1.0       0.0            0.0   \n",
       "\n",
       "        Age Inflight wifi service Departure/Arrival time convenient  \\\n",
       "0 -1.746468                   3.0                               4.0   \n",
       "1 -0.951927                   3.0                               2.0   \n",
       "2 -0.885715                   2.0                               2.0   \n",
       "3 -0.951927                   2.0                               5.0   \n",
       "4  1.431697                   3.0                               3.0   \n",
       "\n",
       "  Ease of Online booking Gate location Food and drink Online boarding  \\\n",
       "0                    3.0           1.0            5.0             3.0   \n",
       "1                    3.0           3.0            1.0             3.0   \n",
       "2                    2.0           2.0            5.0             5.0   \n",
       "3                    5.0           5.0            2.0             2.0   \n",
       "4                    3.0           3.0            4.0             5.0   \n",
       "\n",
       "  Seat comfort Inflight entertainment On-board service Leg room service  \\\n",
       "0          5.0                    5.0              4.0              3.0   \n",
       "1          1.0                    1.0              1.0              5.0   \n",
       "2          5.0                    5.0              4.0              3.0   \n",
       "3          2.0                    2.0              2.0              5.0   \n",
       "4          5.0                    3.0              3.0              4.0   \n",
       "\n",
       "  Baggage handling Checkin service Inflight service Cleanliness  \\\n",
       "0              4.0             4.0              5.0         5.0   \n",
       "1              3.0             1.0              4.0         1.0   \n",
       "2              4.0             4.0              4.0         5.0   \n",
       "3              3.0             1.0              4.0         2.0   \n",
       "4              4.0             3.0              3.0         3.0   \n",
       "\n",
       "              satisfaction  \n",
       "0  neutral or dissatisfied  \n",
       "1  neutral or dissatisfied  \n",
       "2                satisfied  \n",
       "3  neutral or dissatisfied  \n",
       "4                satisfied  "
      ]
     },
     "execution_count": 18,
     "metadata": {},
     "output_type": "execute_result"
    }
   ],
   "source": [
    "set_background(\"#b8dec4\")\n",
    "airplane_train_normalized = normalize_preprocessing.fit_transform(df_train_no_outlier)\n",
    "airplane_train_normalized = pd.DataFrame(airplane_train_normalized,\n",
    "    columns=normalize_preprocessing.get_feature_names_out(),\n",
    "    index=df_train_no_outlier.index)\n",
    "airplane_train_normalized.drop(columns = ['id'], inplace = True)\n",
    "gc.collect()\n",
    "airplane_train_normalized.head(5)"
   ]
  },
  {
   "cell_type": "code",
   "execution_count": 19,
   "id": "3fff8dfe",
   "metadata": {},
   "outputs": [
    {
     "data": {
      "text/html": [
       "<img src onerror=\"var cell = this.closest('.code_cell');var editor = cell.querySelector('.input_area');editor.style.background='#b8dec4';this.parentNode.removeChild(this)\">"
      ],
      "text/plain": [
       "<IPython.core.display.HTML object>"
      ]
     },
     "metadata": {},
     "output_type": "display_data"
    },
    {
     "data": {
      "application/vnd.jupyter.widget-view+json": {
       "model_id": "97f136d02bbb478190c9a03230c0a15b",
       "version_major": 2,
       "version_minor": 0
      },
      "text/plain": [
       "Summarize dataset:   0%|          | 0/5 [00:00<?, ?it/s]"
      ]
     },
     "metadata": {},
     "output_type": "display_data"
    },
    {
     "data": {
      "application/vnd.jupyter.widget-view+json": {
       "model_id": "f018680f1aa24364a91b4de6b891a06c",
       "version_major": 2,
       "version_minor": 0
      },
      "text/plain": [
       "Generate report structure:   0%|          | 0/1 [00:00<?, ?it/s]"
      ]
     },
     "metadata": {},
     "output_type": "display_data"
    },
    {
     "data": {
      "application/vnd.jupyter.widget-view+json": {
       "model_id": "2e2e068dd74c4c86b6b2e0e7bab20381",
       "version_major": 2,
       "version_minor": 0
      },
      "text/plain": [
       "Render HTML:   0%|          | 0/1 [00:00<?, ?it/s]"
      ]
     },
     "metadata": {},
     "output_type": "display_data"
    },
    {
     "data": {
      "application/vnd.jupyter.widget-view+json": {
       "model_id": "a564555130a749fca863a48f40240120",
       "version_major": 2,
       "version_minor": 0
      },
      "text/plain": [
       "Export report to file:   0%|          | 0/1 [00:00<?, ?it/s]"
      ]
     },
     "metadata": {},
     "output_type": "display_data"
    },
    {
     "data": {
      "text/plain": [
       "68"
      ]
     },
     "execution_count": 19,
     "metadata": {},
     "output_type": "execute_result"
    }
   ],
   "source": [
    "set_background(\"#b8dec4\")\n",
    "profile3 = airplane_train_normalized.profile_report(\n",
    "    title=\"Report without correlations\",\n",
    "    correlations=None,\n",
    ")\n",
    "profile3.to_file(base_path + \"\\\\data\\\\airline_train_profile_normalized.html\")\n",
    "gc.collect()"
   ]
  },
  {
   "cell_type": "markdown",
   "id": "ed22b8f2",
   "metadata": {},
   "source": [
    "<div style=\"background:#b8dec4\"><font size=\"3\"><br>Testing Datasets<br></font></div>"
   ]
  },
  {
   "cell_type": "code",
   "execution_count": 20,
   "id": "c0f35e54",
   "metadata": {},
   "outputs": [
    {
     "data": {
      "text/html": [
       "<img src onerror=\"var cell = this.closest('.code_cell');var editor = cell.querySelector('.input_area');editor.style.background='#b8dec4';this.parentNode.removeChild(this)\">"
      ],
      "text/plain": [
       "<IPython.core.display.HTML object>"
      ]
     },
     "metadata": {},
     "output_type": "display_data"
    },
    {
     "data": {
      "text/html": [
       "<div>\n",
       "<style scoped>\n",
       "    .dataframe tbody tr th:only-of-type {\n",
       "        vertical-align: middle;\n",
       "    }\n",
       "\n",
       "    .dataframe tbody tr th {\n",
       "        vertical-align: top;\n",
       "    }\n",
       "\n",
       "    .dataframe thead th {\n",
       "        text-align: right;\n",
       "    }\n",
       "</style>\n",
       "<table border=\"1\" class=\"dataframe\">\n",
       "  <thead>\n",
       "    <tr style=\"text-align: right;\">\n",
       "      <th></th>\n",
       "      <th>Departure Delay in Minutes</th>\n",
       "      <th>Arrival Delay in Minutes</th>\n",
       "      <th>Gender_Female</th>\n",
       "      <th>Gender_Male</th>\n",
       "      <th>Customer Type_Loyal Customer</th>\n",
       "      <th>Customer Type_disloyal Customer</th>\n",
       "      <th>Type of Travel_Business travel</th>\n",
       "      <th>Type of Travel_Personal Travel</th>\n",
       "      <th>Class_Business</th>\n",
       "      <th>Class_Eco</th>\n",
       "      <th>Class_Eco Plus</th>\n",
       "      <th>Inflight wifi service</th>\n",
       "      <th>Departure/Arrival time convenient</th>\n",
       "      <th>Ease of Online booking</th>\n",
       "      <th>Gate location</th>\n",
       "      <th>Food and drink</th>\n",
       "      <th>Online boarding</th>\n",
       "      <th>Seat comfort</th>\n",
       "      <th>Inflight entertainment</th>\n",
       "      <th>On-board service</th>\n",
       "      <th>Leg room service</th>\n",
       "      <th>Baggage handling</th>\n",
       "      <th>Checkin service</th>\n",
       "      <th>Inflight service</th>\n",
       "      <th>Cleanliness</th>\n",
       "      <th>Age</th>\n",
       "      <th>Flight Distance</th>\n",
       "      <th>satisfaction</th>\n",
       "    </tr>\n",
       "  </thead>\n",
       "  <tbody>\n",
       "    <tr>\n",
       "      <th>0</th>\n",
       "      <td>50.0</td>\n",
       "      <td>44.0</td>\n",
       "      <td>1.0</td>\n",
       "      <td>0.0</td>\n",
       "      <td>1.0</td>\n",
       "      <td>0.0</td>\n",
       "      <td>1.0</td>\n",
       "      <td>0.0</td>\n",
       "      <td>0.0</td>\n",
       "      <td>1.0</td>\n",
       "      <td>0.0</td>\n",
       "      <td>5.0</td>\n",
       "      <td>4.0</td>\n",
       "      <td>3.0</td>\n",
       "      <td>4.0</td>\n",
       "      <td>3.0</td>\n",
       "      <td>4.0</td>\n",
       "      <td>3.0</td>\n",
       "      <td>5.0</td>\n",
       "      <td>5.0</td>\n",
       "      <td>5.0</td>\n",
       "      <td>5.0</td>\n",
       "      <td>2.0</td>\n",
       "      <td>5.0</td>\n",
       "      <td>5.0</td>\n",
       "      <td>52</td>\n",
       "      <td>160</td>\n",
       "      <td>satisfied</td>\n",
       "    </tr>\n",
       "    <tr>\n",
       "      <th>1</th>\n",
       "      <td>0.0</td>\n",
       "      <td>0.0</td>\n",
       "      <td>1.0</td>\n",
       "      <td>0.0</td>\n",
       "      <td>1.0</td>\n",
       "      <td>0.0</td>\n",
       "      <td>1.0</td>\n",
       "      <td>0.0</td>\n",
       "      <td>1.0</td>\n",
       "      <td>0.0</td>\n",
       "      <td>0.0</td>\n",
       "      <td>1.0</td>\n",
       "      <td>1.0</td>\n",
       "      <td>3.0</td>\n",
       "      <td>1.0</td>\n",
       "      <td>5.0</td>\n",
       "      <td>4.0</td>\n",
       "      <td>5.0</td>\n",
       "      <td>4.0</td>\n",
       "      <td>4.0</td>\n",
       "      <td>4.0</td>\n",
       "      <td>4.0</td>\n",
       "      <td>3.0</td>\n",
       "      <td>4.0</td>\n",
       "      <td>5.0</td>\n",
       "      <td>36</td>\n",
       "      <td>2863</td>\n",
       "      <td>satisfied</td>\n",
       "    </tr>\n",
       "    <tr>\n",
       "      <th>2</th>\n",
       "      <td>0.0</td>\n",
       "      <td>0.0</td>\n",
       "      <td>0.0</td>\n",
       "      <td>1.0</td>\n",
       "      <td>0.0</td>\n",
       "      <td>1.0</td>\n",
       "      <td>1.0</td>\n",
       "      <td>0.0</td>\n",
       "      <td>0.0</td>\n",
       "      <td>1.0</td>\n",
       "      <td>0.0</td>\n",
       "      <td>2.0</td>\n",
       "      <td>2.6</td>\n",
       "      <td>2.0</td>\n",
       "      <td>4.0</td>\n",
       "      <td>2.0</td>\n",
       "      <td>2.0</td>\n",
       "      <td>2.0</td>\n",
       "      <td>2.0</td>\n",
       "      <td>4.0</td>\n",
       "      <td>1.0</td>\n",
       "      <td>3.0</td>\n",
       "      <td>2.0</td>\n",
       "      <td>2.0</td>\n",
       "      <td>2.0</td>\n",
       "      <td>20</td>\n",
       "      <td>192</td>\n",
       "      <td>neutral or dissatisfied</td>\n",
       "    </tr>\n",
       "    <tr>\n",
       "      <th>3</th>\n",
       "      <td>0.0</td>\n",
       "      <td>6.0</td>\n",
       "      <td>0.0</td>\n",
       "      <td>1.0</td>\n",
       "      <td>1.0</td>\n",
       "      <td>0.0</td>\n",
       "      <td>1.0</td>\n",
       "      <td>0.0</td>\n",
       "      <td>1.0</td>\n",
       "      <td>0.0</td>\n",
       "      <td>0.0</td>\n",
       "      <td>1.4</td>\n",
       "      <td>2.4</td>\n",
       "      <td>1.4</td>\n",
       "      <td>2.0</td>\n",
       "      <td>3.0</td>\n",
       "      <td>4.0</td>\n",
       "      <td>4.0</td>\n",
       "      <td>1.0</td>\n",
       "      <td>1.0</td>\n",
       "      <td>1.0</td>\n",
       "      <td>1.0</td>\n",
       "      <td>3.0</td>\n",
       "      <td>1.0</td>\n",
       "      <td>4.0</td>\n",
       "      <td>44</td>\n",
       "      <td>3377</td>\n",
       "      <td>satisfied</td>\n",
       "    </tr>\n",
       "    <tr>\n",
       "      <th>4</th>\n",
       "      <td>0.0</td>\n",
       "      <td>20.0</td>\n",
       "      <td>1.0</td>\n",
       "      <td>0.0</td>\n",
       "      <td>1.0</td>\n",
       "      <td>0.0</td>\n",
       "      <td>1.0</td>\n",
       "      <td>0.0</td>\n",
       "      <td>0.0</td>\n",
       "      <td>1.0</td>\n",
       "      <td>0.0</td>\n",
       "      <td>2.0</td>\n",
       "      <td>3.0</td>\n",
       "      <td>4.0</td>\n",
       "      <td>3.0</td>\n",
       "      <td>4.0</td>\n",
       "      <td>1.0</td>\n",
       "      <td>2.0</td>\n",
       "      <td>2.0</td>\n",
       "      <td>2.0</td>\n",
       "      <td>2.0</td>\n",
       "      <td>2.0</td>\n",
       "      <td>4.0</td>\n",
       "      <td>2.0</td>\n",
       "      <td>4.0</td>\n",
       "      <td>49</td>\n",
       "      <td>1182</td>\n",
       "      <td>satisfied</td>\n",
       "    </tr>\n",
       "  </tbody>\n",
       "</table>\n",
       "</div>"
      ],
      "text/plain": [
       "  Departure Delay in Minutes Arrival Delay in Minutes Gender_Female  \\\n",
       "0                       50.0                     44.0           1.0   \n",
       "1                        0.0                      0.0           1.0   \n",
       "2                        0.0                      0.0           0.0   \n",
       "3                        0.0                      6.0           0.0   \n",
       "4                        0.0                     20.0           1.0   \n",
       "\n",
       "  Gender_Male Customer Type_Loyal Customer Customer Type_disloyal Customer  \\\n",
       "0         0.0                          1.0                             0.0   \n",
       "1         0.0                          1.0                             0.0   \n",
       "2         1.0                          0.0                             1.0   \n",
       "3         1.0                          1.0                             0.0   \n",
       "4         0.0                          1.0                             0.0   \n",
       "\n",
       "  Type of Travel_Business travel Type of Travel_Personal Travel  \\\n",
       "0                            1.0                            0.0   \n",
       "1                            1.0                            0.0   \n",
       "2                            1.0                            0.0   \n",
       "3                            1.0                            0.0   \n",
       "4                            1.0                            0.0   \n",
       "\n",
       "  Class_Business Class_Eco Class_Eco Plus Inflight wifi service  \\\n",
       "0            0.0       1.0            0.0                   5.0   \n",
       "1            1.0       0.0            0.0                   1.0   \n",
       "2            0.0       1.0            0.0                   2.0   \n",
       "3            1.0       0.0            0.0                   1.4   \n",
       "4            0.0       1.0            0.0                   2.0   \n",
       "\n",
       "  Departure/Arrival time convenient Ease of Online booking Gate location  \\\n",
       "0                               4.0                    3.0           4.0   \n",
       "1                               1.0                    3.0           1.0   \n",
       "2                               2.6                    2.0           4.0   \n",
       "3                               2.4                    1.4           2.0   \n",
       "4                               3.0                    4.0           3.0   \n",
       "\n",
       "  Food and drink Online boarding Seat comfort Inflight entertainment  \\\n",
       "0            3.0             4.0          3.0                    5.0   \n",
       "1            5.0             4.0          5.0                    4.0   \n",
       "2            2.0             2.0          2.0                    2.0   \n",
       "3            3.0             4.0          4.0                    1.0   \n",
       "4            4.0             1.0          2.0                    2.0   \n",
       "\n",
       "  On-board service Leg room service Baggage handling Checkin service  \\\n",
       "0              5.0              5.0              5.0             2.0   \n",
       "1              4.0              4.0              4.0             3.0   \n",
       "2              4.0              1.0              3.0             2.0   \n",
       "3              1.0              1.0              1.0             3.0   \n",
       "4              2.0              2.0              2.0             4.0   \n",
       "\n",
       "  Inflight service Cleanliness Age Flight Distance             satisfaction  \n",
       "0              5.0         5.0  52             160                satisfied  \n",
       "1              4.0         5.0  36            2863                satisfied  \n",
       "2              2.0         2.0  20             192  neutral or dissatisfied  \n",
       "3              1.0         4.0  44            3377                satisfied  \n",
       "4              2.0         4.0  49            1182                satisfied  "
      ]
     },
     "execution_count": 20,
     "metadata": {},
     "output_type": "execute_result"
    }
   ],
   "source": [
    "set_background(\"#b8dec4\")\n",
    "airplane_test = df_test.copy()\n",
    "airplane_test = imputing_preprocessing.fit_transform(airplane_test)\n",
    "airplane_test = pd.DataFrame(airplane_test,\n",
    "    columns=imputing_preprocessing.get_feature_names_out(),\n",
    "    index=df_test.index)\n",
    "airplane_test.drop(columns = [ 'id'], inplace = True)\n",
    "gc.collect()\n",
    "airplane_test.head(5)"
   ]
  },
  {
   "cell_type": "code",
   "execution_count": 21,
   "id": "89f026d1",
   "metadata": {},
   "outputs": [
    {
     "data": {
      "text/html": [
       "<img src onerror=\"var cell = this.closest('.code_cell');var editor = cell.querySelector('.input_area');editor.style.background='#b8dec4';this.parentNode.removeChild(this)\">"
      ],
      "text/plain": [
       "<IPython.core.display.HTML object>"
      ]
     },
     "metadata": {},
     "output_type": "display_data"
    },
    {
     "data": {
      "text/html": [
       "<div>\n",
       "<style scoped>\n",
       "    .dataframe tbody tr th:only-of-type {\n",
       "        vertical-align: middle;\n",
       "    }\n",
       "\n",
       "    .dataframe tbody tr th {\n",
       "        vertical-align: top;\n",
       "    }\n",
       "\n",
       "    .dataframe thead th {\n",
       "        text-align: right;\n",
       "    }\n",
       "</style>\n",
       "<table border=\"1\" class=\"dataframe\">\n",
       "  <thead>\n",
       "    <tr style=\"text-align: right;\">\n",
       "      <th></th>\n",
       "      <th>Flight Distance</th>\n",
       "      <th>Departure Delay in Minutes</th>\n",
       "      <th>Arrival Delay in Minutes</th>\n",
       "      <th>Gender_Female</th>\n",
       "      <th>Gender_Male</th>\n",
       "      <th>Customer Type_Loyal Customer</th>\n",
       "      <th>Customer Type_disloyal Customer</th>\n",
       "      <th>Type of Travel_Business travel</th>\n",
       "      <th>Type of Travel_Personal Travel</th>\n",
       "      <th>Class_Business</th>\n",
       "      <th>Class_Eco</th>\n",
       "      <th>Class_Eco Plus</th>\n",
       "      <th>Age</th>\n",
       "      <th>Inflight wifi service</th>\n",
       "      <th>Departure/Arrival time convenient</th>\n",
       "      <th>Ease of Online booking</th>\n",
       "      <th>Gate location</th>\n",
       "      <th>Food and drink</th>\n",
       "      <th>Online boarding</th>\n",
       "      <th>Seat comfort</th>\n",
       "      <th>Inflight entertainment</th>\n",
       "      <th>On-board service</th>\n",
       "      <th>Leg room service</th>\n",
       "      <th>Baggage handling</th>\n",
       "      <th>Checkin service</th>\n",
       "      <th>Inflight service</th>\n",
       "      <th>Cleanliness</th>\n",
       "      <th>satisfaction</th>\n",
       "    </tr>\n",
       "  </thead>\n",
       "  <tbody>\n",
       "    <tr>\n",
       "      <th>0</th>\n",
       "      <td>5.081404</td>\n",
       "      <td>3.931826</td>\n",
       "      <td>3.806662</td>\n",
       "      <td>1.0</td>\n",
       "      <td>0.0</td>\n",
       "      <td>1.0</td>\n",
       "      <td>0.0</td>\n",
       "      <td>1.0</td>\n",
       "      <td>0.0</td>\n",
       "      <td>0.0</td>\n",
       "      <td>1.0</td>\n",
       "      <td>0.0</td>\n",
       "      <td>0.817887</td>\n",
       "      <td>5.0</td>\n",
       "      <td>4.0</td>\n",
       "      <td>3.0</td>\n",
       "      <td>4.0</td>\n",
       "      <td>3.0</td>\n",
       "      <td>4.0</td>\n",
       "      <td>3.0</td>\n",
       "      <td>5.0</td>\n",
       "      <td>5.0</td>\n",
       "      <td>5.0</td>\n",
       "      <td>5.0</td>\n",
       "      <td>2.0</td>\n",
       "      <td>5.0</td>\n",
       "      <td>5.0</td>\n",
       "      <td>satisfied</td>\n",
       "    </tr>\n",
       "    <tr>\n",
       "      <th>1</th>\n",
       "      <td>7.959975</td>\n",
       "      <td>0.0</td>\n",
       "      <td>0.0</td>\n",
       "      <td>1.0</td>\n",
       "      <td>0.0</td>\n",
       "      <td>1.0</td>\n",
       "      <td>0.0</td>\n",
       "      <td>1.0</td>\n",
       "      <td>0.0</td>\n",
       "      <td>1.0</td>\n",
       "      <td>0.0</td>\n",
       "      <td>0.0</td>\n",
       "      <td>-0.239238</td>\n",
       "      <td>1.0</td>\n",
       "      <td>1.0</td>\n",
       "      <td>3.0</td>\n",
       "      <td>1.0</td>\n",
       "      <td>5.0</td>\n",
       "      <td>4.0</td>\n",
       "      <td>5.0</td>\n",
       "      <td>4.0</td>\n",
       "      <td>4.0</td>\n",
       "      <td>4.0</td>\n",
       "      <td>4.0</td>\n",
       "      <td>3.0</td>\n",
       "      <td>4.0</td>\n",
       "      <td>5.0</td>\n",
       "      <td>satisfied</td>\n",
       "    </tr>\n",
       "    <tr>\n",
       "      <th>2</th>\n",
       "      <td>5.26269</td>\n",
       "      <td>0.0</td>\n",
       "      <td>0.0</td>\n",
       "      <td>0.0</td>\n",
       "      <td>1.0</td>\n",
       "      <td>0.0</td>\n",
       "      <td>1.0</td>\n",
       "      <td>1.0</td>\n",
       "      <td>0.0</td>\n",
       "      <td>0.0</td>\n",
       "      <td>1.0</td>\n",
       "      <td>0.0</td>\n",
       "      <td>-1.296363</td>\n",
       "      <td>2.0</td>\n",
       "      <td>2.6</td>\n",
       "      <td>2.0</td>\n",
       "      <td>4.0</td>\n",
       "      <td>2.0</td>\n",
       "      <td>2.0</td>\n",
       "      <td>2.0</td>\n",
       "      <td>2.0</td>\n",
       "      <td>4.0</td>\n",
       "      <td>1.0</td>\n",
       "      <td>3.0</td>\n",
       "      <td>2.0</td>\n",
       "      <td>2.0</td>\n",
       "      <td>2.0</td>\n",
       "      <td>neutral or dissatisfied</td>\n",
       "    </tr>\n",
       "    <tr>\n",
       "      <th>3</th>\n",
       "      <td>8.125039</td>\n",
       "      <td>0.0</td>\n",
       "      <td>1.94591</td>\n",
       "      <td>0.0</td>\n",
       "      <td>1.0</td>\n",
       "      <td>1.0</td>\n",
       "      <td>0.0</td>\n",
       "      <td>1.0</td>\n",
       "      <td>0.0</td>\n",
       "      <td>1.0</td>\n",
       "      <td>0.0</td>\n",
       "      <td>0.0</td>\n",
       "      <td>0.289325</td>\n",
       "      <td>1.4</td>\n",
       "      <td>2.4</td>\n",
       "      <td>1.4</td>\n",
       "      <td>2.0</td>\n",
       "      <td>3.0</td>\n",
       "      <td>4.0</td>\n",
       "      <td>4.0</td>\n",
       "      <td>1.0</td>\n",
       "      <td>1.0</td>\n",
       "      <td>1.0</td>\n",
       "      <td>1.0</td>\n",
       "      <td>3.0</td>\n",
       "      <td>1.0</td>\n",
       "      <td>4.0</td>\n",
       "      <td>satisfied</td>\n",
       "    </tr>\n",
       "    <tr>\n",
       "      <th>4</th>\n",
       "      <td>7.075809</td>\n",
       "      <td>0.0</td>\n",
       "      <td>3.044522</td>\n",
       "      <td>1.0</td>\n",
       "      <td>0.0</td>\n",
       "      <td>1.0</td>\n",
       "      <td>0.0</td>\n",
       "      <td>1.0</td>\n",
       "      <td>0.0</td>\n",
       "      <td>0.0</td>\n",
       "      <td>1.0</td>\n",
       "      <td>0.0</td>\n",
       "      <td>0.619676</td>\n",
       "      <td>2.0</td>\n",
       "      <td>3.0</td>\n",
       "      <td>4.0</td>\n",
       "      <td>3.0</td>\n",
       "      <td>4.0</td>\n",
       "      <td>1.0</td>\n",
       "      <td>2.0</td>\n",
       "      <td>2.0</td>\n",
       "      <td>2.0</td>\n",
       "      <td>2.0</td>\n",
       "      <td>2.0</td>\n",
       "      <td>4.0</td>\n",
       "      <td>2.0</td>\n",
       "      <td>4.0</td>\n",
       "      <td>satisfied</td>\n",
       "    </tr>\n",
       "  </tbody>\n",
       "</table>\n",
       "</div>"
      ],
      "text/plain": [
       "  Flight Distance Departure Delay in Minutes Arrival Delay in Minutes  \\\n",
       "0        5.081404                   3.931826                 3.806662   \n",
       "1        7.959975                        0.0                      0.0   \n",
       "2         5.26269                        0.0                      0.0   \n",
       "3        8.125039                        0.0                  1.94591   \n",
       "4        7.075809                        0.0                 3.044522   \n",
       "\n",
       "  Gender_Female Gender_Male Customer Type_Loyal Customer  \\\n",
       "0           1.0         0.0                          1.0   \n",
       "1           1.0         0.0                          1.0   \n",
       "2           0.0         1.0                          0.0   \n",
       "3           0.0         1.0                          1.0   \n",
       "4           1.0         0.0                          1.0   \n",
       "\n",
       "  Customer Type_disloyal Customer Type of Travel_Business travel  \\\n",
       "0                             0.0                            1.0   \n",
       "1                             0.0                            1.0   \n",
       "2                             1.0                            1.0   \n",
       "3                             0.0                            1.0   \n",
       "4                             0.0                            1.0   \n",
       "\n",
       "  Type of Travel_Personal Travel Class_Business Class_Eco Class_Eco Plus  \\\n",
       "0                            0.0            0.0       1.0            0.0   \n",
       "1                            0.0            1.0       0.0            0.0   \n",
       "2                            0.0            0.0       1.0            0.0   \n",
       "3                            0.0            1.0       0.0            0.0   \n",
       "4                            0.0            0.0       1.0            0.0   \n",
       "\n",
       "        Age Inflight wifi service Departure/Arrival time convenient  \\\n",
       "0  0.817887                   5.0                               4.0   \n",
       "1 -0.239238                   1.0                               1.0   \n",
       "2 -1.296363                   2.0                               2.6   \n",
       "3  0.289325                   1.4                               2.4   \n",
       "4  0.619676                   2.0                               3.0   \n",
       "\n",
       "  Ease of Online booking Gate location Food and drink Online boarding  \\\n",
       "0                    3.0           4.0            3.0             4.0   \n",
       "1                    3.0           1.0            5.0             4.0   \n",
       "2                    2.0           4.0            2.0             2.0   \n",
       "3                    1.4           2.0            3.0             4.0   \n",
       "4                    4.0           3.0            4.0             1.0   \n",
       "\n",
       "  Seat comfort Inflight entertainment On-board service Leg room service  \\\n",
       "0          3.0                    5.0              5.0              5.0   \n",
       "1          5.0                    4.0              4.0              4.0   \n",
       "2          2.0                    2.0              4.0              1.0   \n",
       "3          4.0                    1.0              1.0              1.0   \n",
       "4          2.0                    2.0              2.0              2.0   \n",
       "\n",
       "  Baggage handling Checkin service Inflight service Cleanliness  \\\n",
       "0              5.0             2.0              5.0         5.0   \n",
       "1              4.0             3.0              4.0         5.0   \n",
       "2              3.0             2.0              2.0         2.0   \n",
       "3              1.0             3.0              1.0         4.0   \n",
       "4              2.0             4.0              2.0         4.0   \n",
       "\n",
       "              satisfaction  \n",
       "0                satisfied  \n",
       "1                satisfied  \n",
       "2  neutral or dissatisfied  \n",
       "3                satisfied  \n",
       "4                satisfied  "
      ]
     },
     "execution_count": 21,
     "metadata": {},
     "output_type": "execute_result"
    }
   ],
   "source": [
    "set_background(\"#b8dec4\")\n",
    "airplane_test_normalized = normalize_preprocessing.fit_transform(df_test)\n",
    "airplane_test_normalized = pd.DataFrame(airplane_test_normalized,\n",
    "    columns=normalize_preprocessing.get_feature_names_out(),\n",
    "    index=df_test.index)\n",
    "airplane_test_normalized.drop(columns = ['id'], inplace = True)\n",
    "gc.collect()\n",
    "airplane_test_normalized.head(5)"
   ]
  },
  {
   "cell_type": "markdown",
   "id": "5b822bf6",
   "metadata": {},
   "source": [
    "<hr>\n",
    "<font color='#4444AA' size = '4' face = 'Calibri'><a id = \"EDA2_4\">2.4 <u>  Save processed file to local</u></a></font>\n",
    "<div align = \"right\"><a href = '#top'>Back to Top</a></div>\n",
    "<hr>\n",
    "<div style ='background:#b8dec4'>\n",
    "</div>"
   ]
  },
  {
   "cell_type": "code",
   "execution_count": 22,
   "id": "1a8fc3b4",
   "metadata": {},
   "outputs": [
    {
     "data": {
      "text/html": [
       "<img src onerror=\"var cell = this.closest('.code_cell');var editor = cell.querySelector('.input_area');editor.style.background='#b8dec4';this.parentNode.removeChild(this)\">"
      ],
      "text/plain": [
       "<IPython.core.display.HTML object>"
      ]
     },
     "metadata": {},
     "output_type": "display_data"
    },
    {
     "data": {
      "text/plain": [
       "0"
      ]
     },
     "execution_count": 22,
     "metadata": {},
     "output_type": "execute_result"
    }
   ],
   "source": [
    "set_background(\"#b8dec4\")\n",
    "airplane_train.to_csv(base_path +'\\\\data\\\\airplane_train_processed.csv', index=False)\n",
    "airplane_train_normalized.to_csv(base_path + '\\\\data\\\\airplane_train_processed_normalized.csv', index=False)\n",
    "\n",
    "airplane_test.to_csv(base_path + '\\\\data\\\\airplane_test_processed.csv', index=False)\n",
    "airplane_test_normalized.to_csv(base_path + '\\\\data\\\\airplane_test_processed_normalized.csv', index=False)\n",
    "gc.collect()"
   ]
  },
  {
   "cell_type": "markdown",
   "id": "42de60bb",
   "metadata": {},
   "source": [
    "<font color='#4444AA' size = '6' face = 'Times New Roman'><a id = \"Model\">Classification Models </a>\n",
    "<div align = \"right\"><a href = '#top'>Back to Top</a></div>\n",
    "    \n",
    "### Importing libraries"
   ]
  },
  {
   "cell_type": "code",
   "execution_count": 23,
   "id": "47bb2339",
   "metadata": {},
   "outputs": [
    {
     "data": {
      "text/html": [
       "<img src onerror=\"var cell = this.closest('.code_cell');var editor = cell.querySelector('.input_area');editor.style.background='#d9deb8';this.parentNode.removeChild(this)\">"
      ],
      "text/plain": [
       "<IPython.core.display.HTML object>"
      ]
     },
     "metadata": {},
     "output_type": "display_data"
    }
   ],
   "source": [
    "set_background(\"#d9deb8\")\n",
    "import pandas as pd\n",
    "import numpy as np\n",
    "import matplotlib.pyplot as plt\n",
    "import seaborn as sns\n",
    "import graphviz  \n",
    "from IPython.display import Image as PImage\n",
    "from subprocess import check_call\n",
    "from PIL import Image, ImageDraw\n",
    "import matplotlib.pyplot as plt\n",
    "import xgboost as xgb\n",
    "from xgboost import cv, XGBClassifier\n",
    "from hyperopt import (STATUS_OK, Trials, fmin, hp, tpe)\n",
    "\n",
    "\n",
    "from sklearn.preprocessing import LabelEncoder\n",
    "\n",
    "from sklearn import metrics\n",
    "from sklearn.linear_model import LogisticRegression\n",
    "from sklearn.svm import SVC\n",
    "\n",
    "from sklearn.metrics import (classification_report, confusion_matrix, precision_score, recall_score,\n",
    "                             accuracy_score, roc_auc_score , roc_curve)\n",
    "from sklearn.model_selection import (GridSearchCV,  train_test_split, cross_val_score)\n",
    "from sklearn.neighbors import KNeighborsClassifier\n",
    "\n",
    "from sklearn import tree\n",
    "from sklearn.tree import (DecisionTreeClassifier, export_graphviz)\n",
    "from sklearn.ensemble import (RandomForestClassifier, GradientBoostingClassifier)\n",
    "\n",
    "from sklearn.pipeline import make_pipeline\n",
    "from sklearn.preprocessing import StandardScaler"
   ]
  },
  {
   "cell_type": "markdown",
   "id": "25502e75",
   "metadata": {},
   "source": [
    "\n",
    "<font color='#4444AA' size = '5' face = 'Calibri'><a id = \"ModelSimple\">1. <u>  Simple Classification Models</u></a></font>\n",
    "<br>\n",
    "<div align = \"right\"><a href = '#top'>Back to Top</a></div>\n",
    "<hr>\n",
    "<font color='#4444AA' size = '4' face = 'Calibri'><a id = \"Model_S0\">1.1 <u> Data Preparation</u></a></font>\n",
    "<div align = \"right\"><a href = '#top'>Back to Top</a></div>\n",
    "<div style ='background:#d9deb8'>\n",
    "\n",
    "</div>"
   ]
  },
  {
   "cell_type": "code",
   "execution_count": 24,
   "id": "3c28c51b",
   "metadata": {},
   "outputs": [
    {
     "data": {
      "text/html": [
       "<img src onerror=\"var cell = this.closest('.code_cell');var editor = cell.querySelector('.input_area');editor.style.background='#9ae1e3';this.parentNode.removeChild(this)\">"
      ],
      "text/plain": [
       "<IPython.core.display.HTML object>"
      ]
     },
     "metadata": {},
     "output_type": "display_data"
    }
   ],
   "source": [
    "set_background(\"#9ae1e3\")\n",
    "df = pd.read_csv(base_path + '\\\\data\\\\airplane_train_processed_normalized.csv')\n",
    "df_val = pd.read_csv(base_path + '\\\\data\\\\airplane_test_processed_normalized.csv')\n",
    "\n",
    "#Removing the highly correlated columns like 'cat__Gender_Male','cat__Customer Type_disloyal Customer',\n",
    "#'cat__Type of Travel_Personal Travel','cat__Class_Eco',\n",
    "df = df[['Gender_Female', 'Customer Type_Loyal Customer',\n",
    "       'Type of Travel_Business travel',\n",
    "       'Type of Travel_Personal Travel', 'Class_Business',\n",
    "       'Class_Eco', 'Age',\n",
    "       'Flight Distance', 'Departure Delay in Minutes',\n",
    "       'Arrival Delay in Minutes', 'Inflight wifi service',\n",
    "       'Departure/Arrival time convenient',\n",
    "       'Ease of Online booking', 'Gate location',\n",
    "       'Food and drink', 'Online boarding',\n",
    "       'Seat comfort', 'Inflight entertainment',\n",
    "       'On-board service', 'Leg room service',\n",
    "       'Baggage handling', 'Checkin service',\n",
    "       'Inflight service', 'Cleanliness',\n",
    "       'satisfaction']]\n",
    "\n",
    "df.dropna(inplace=True)"
   ]
  },
  {
   "cell_type": "code",
   "execution_count": 25,
   "id": "faac9f42",
   "metadata": {},
   "outputs": [
    {
     "data": {
      "text/html": [
       "<img src onerror=\"var cell = this.closest('.code_cell');var editor = cell.querySelector('.input_area');editor.style.background='#9ae1e3';this.parentNode.removeChild(this)\">"
      ],
      "text/plain": [
       "<IPython.core.display.HTML object>"
      ]
     },
     "metadata": {},
     "output_type": "display_data"
    },
    {
     "data": {
      "text/plain": [
       "(array(['neutral or dissatisfied', 'satisfied'], dtype=object),\n",
       " array([58226, 44599], dtype=int64))"
      ]
     },
     "execution_count": 25,
     "metadata": {},
     "output_type": "execute_result"
    }
   ],
   "source": [
    "set_background(\"#9ae1e3\")\n",
    "\n",
    "X_train = df[['Gender_Female', 'Customer Type_Loyal Customer',\n",
    "       'Type of Travel_Business travel',\n",
    "       'Type of Travel_Personal Travel', 'Class_Business',\n",
    "       'Class_Eco', 'Age',\n",
    "       'Flight Distance', 'Departure Delay in Minutes',\n",
    "       'Arrival Delay in Minutes', 'Inflight wifi service',\n",
    "       'Departure/Arrival time convenient',\n",
    "       'Ease of Online booking', 'Gate location',\n",
    "       'Food and drink', 'Online boarding',\n",
    "       'Seat comfort', 'Inflight entertainment',\n",
    "       'On-board service', 'Leg room service',\n",
    "       'Baggage handling', 'Checkin service',\n",
    "       'Inflight service', 'Cleanliness',]]\n",
    "y_train = df['satisfaction'].values\n",
    "\n",
    "X_test = df_val[['Gender_Female', 'Customer Type_Loyal Customer',\n",
    "       'Type of Travel_Business travel',\n",
    "       'Type of Travel_Personal Travel', 'Class_Business',\n",
    "       'Class_Eco', 'Age',\n",
    "       'Flight Distance', 'Departure Delay in Minutes',\n",
    "       'Arrival Delay in Minutes', 'Inflight wifi service',\n",
    "       'Departure/Arrival time convenient',\n",
    "       'Ease of Online booking', 'Gate location',\n",
    "       'Food and drink', 'Online boarding',\n",
    "       'Seat comfort', 'Inflight entertainment',\n",
    "       'On-board service', 'Leg room service',\n",
    "       'Baggage handling', 'Checkin service',\n",
    "       'Inflight service', 'Cleanliness']]\n",
    "\n",
    "y_test = df_val['satisfaction'].values\n",
    "\n",
    "unique_categories, category_counts = np.unique(y_train, return_counts=True)\n",
    "np.unique(y_train, return_counts=True)\n"
   ]
  },
  {
   "cell_type": "markdown",
   "id": "71211d22",
   "metadata": {},
   "source": [
    "<font color='#4444AA' size = '5' face = 'Calibri'><a id = \"Model_S1\">1.2 <u>  Logistic Regression</u></a></font>\n",
    "<hr>\n",
    "<font color='#4444AA' size = '4' face = 'Calibri'><a id = \"Model_S1_1\">1.2.1 <u>  Model Training</u></a></font>\n",
    "<div align = \"right\"><a href = '#top'>Back to Top</a></div>\n",
    "<div style ='background:#9ae1e3'>\n",
    "</div>"
   ]
  },
  {
   "cell_type": "code",
   "execution_count": 26,
   "id": "6ab50ed6",
   "metadata": {},
   "outputs": [
    {
     "data": {
      "text/html": [
       "<img src onerror=\"var cell = this.closest('.code_cell');var editor = cell.querySelector('.input_area');editor.style.background='#9ae1e3';this.parentNode.removeChild(this)\">"
      ],
      "text/plain": [
       "<IPython.core.display.HTML object>"
      ]
     },
     "metadata": {},
     "output_type": "display_data"
    }
   ],
   "source": [
    "set_background(\"#9ae1e3\")\n",
    "lr = LogisticRegression(max_iter=5000)\n",
    "model = lr.fit(X_train,y_train)"
   ]
  },
  {
   "cell_type": "markdown",
   "id": "0343b0e2",
   "metadata": {},
   "source": [
    "<font color='#4444AA' size = '4' face = 'Calibri'><a id = \"Model_S1_2\">1.2.2 <u>  Performance Evaluation, Confusion matrix </u></a></font>\n",
    "<div align = \"right\"><a href = '#top'>Back to Top</a></div>\n",
    "<div style ='background:#d9deb8'>\n",
    "</div>"
   ]
  },
  {
   "cell_type": "code",
   "execution_count": 27,
   "id": "b0ef6ca8",
   "metadata": {},
   "outputs": [
    {
     "data": {
      "text/html": [
       "<img src onerror=\"var cell = this.closest('.code_cell');var editor = cell.querySelector('.input_area');editor.style.background='#9ae1e3';this.parentNode.removeChild(this)\">"
      ],
      "text/plain": [
       "<IPython.core.display.HTML object>"
      ]
     },
     "metadata": {},
     "output_type": "display_data"
    },
    {
     "data": {
      "image/png": "[encoded data removed]",
      "text/plain": [
       "<Figure size 1000x500 with 1 Axes>"
      ]
     },
     "metadata": {},
     "output_type": "display_data"
    }
   ],
   "source": [
    "set_background(\"#9ae1e3\")\n",
    "coefs = model.coef_.ravel()\n",
    "feature_names = X_train.columns\n",
    "\n",
    "# create a bar chart of coefficients\n",
    "fig, ax = plt.subplots(figsize=(10, 5))\n",
    "ax.bar(feature_names, coefs)\n",
    "ax.axhline(y=0, color='gray', linestyle='--')\n",
    "ax.set_xlabel('Feature')\n",
    "ax.set_ylabel('Coefficient')\n",
    "ax.set_title('Logistic Regression Coefficients')\n",
    "plt.xticks(rotation=90)\n",
    "plt.show()"
   ]
  },
  {
   "cell_type": "code",
   "execution_count": 28,
   "id": "891dccb4",
   "metadata": {},
   "outputs": [
    {
     "data": {
      "text/html": [
       "<img src onerror=\"var cell = this.closest('.code_cell');var editor = cell.querySelector('.input_area');editor.style.background='#9ae1e3';this.parentNode.removeChild(this)\">"
      ],
      "text/plain": [
       "<IPython.core.display.HTML object>"
      ]
     },
     "metadata": {},
     "output_type": "display_data"
    },
    {
     "name": "stdout",
     "output_type": "stream",
     "text": [
      "Accuracy: 0.8829303972898059\n"
     ]
    },
    {
     "data": {
      "text/plain": [
       "Text(0.5, 427.9555555555555, 'Predicted label')"
      ]
     },
     "execution_count": 28,
     "metadata": {},
     "output_type": "execute_result"
    },
    {
     "data": {
      "image/png": "[encoded data removed]",
      "text/plain": [
       "<Figure size 640x480 with 2 Axes>"
      ]
     },
     "metadata": {},
     "output_type": "display_data"
    }
   ],
   "source": [
    "set_background(\"#9ae1e3\")\n",
    "y_test_pred = model.predict(X_test)\n",
    "print(f'Accuracy: {metrics.accuracy_score(y_test, y_test_pred)}')\n",
    "\n",
    "confusion_matrix = metrics.confusion_matrix(y_test, y_test_pred)\n",
    "class_names=['neutral or dissatisfied','satisfied'] # name  of classes\n",
    "fig, ax = plt.subplots()\n",
    "tick_marks = np.arange(len(class_names))\n",
    "plt.xticks(tick_marks, class_names)\n",
    "plt.yticks(tick_marks, class_names)\n",
    "# create heatmap\n",
    "sns.heatmap(pd.DataFrame(confusion_matrix), annot=True, cmap=\"YlGnBu\" ,fmt='g')\n",
    "ax.xaxis.set_label_position(\"top\")\n",
    "plt.tight_layout()\n",
    "plt.title('Confusion matrix', y=1.1)\n",
    "plt.ylabel('Actual label')\n",
    "plt.xlabel('Predicted label')"
   ]
  },
  {
   "cell_type": "code",
   "execution_count": 29,
   "id": "b4647081",
   "metadata": {},
   "outputs": [
    {
     "data": {
      "text/html": [
       "<img src onerror=\"var cell = this.closest('.code_cell');var editor = cell.querySelector('.input_area');editor.style.background='#9ae1e3';this.parentNode.removeChild(this)\">"
      ],
      "text/plain": [
       "<IPython.core.display.HTML object>"
      ]
     },
     "metadata": {},
     "output_type": "display_data"
    },
    {
     "name": "stdout",
     "output_type": "stream",
     "text": [
      "Precision: 0.8711166341203621\n",
      "Recall: 0.8606507059545734\n"
     ]
    },
    {
     "data": {
      "image/png": "[encoded data removed]",
      "text/plain": [
       "<Figure size 640x480 with 1 Axes>"
      ]
     },
     "metadata": {},
     "output_type": "display_data"
    }
   ],
   "source": [
    "set_background(\"#9ae1e3\")\n",
    "# Assuming y_test is the true labels for X_test\n",
    "precision = precision_score(y_test, y_test_pred,pos_label='satisfied')\n",
    "recall = recall_score(y_test, y_test_pred,pos_label='satisfied')\n",
    "\n",
    "print(\"Precision:\", precision)\n",
    "print(\"Recall:\", recall)\n",
    "\n",
    "y_pred_proba = model.predict_proba(X_test)[::,1]\n",
    "fpr, tpr, _ = metrics.roc_curve(y_test,  y_pred_proba, pos_label='satisfied')\n",
    "auc = metrics.roc_auc_score(y_test, y_pred_proba)\n",
    "plt.plot(fpr,tpr,label=\"data 1, auc=\"+str(auc))\n",
    "plt.legend(loc=4)\n",
    "plt.show()"
   ]
  },
  {
   "cell_type": "markdown",
   "id": "c266fbe6",
   "metadata": {},
   "source": [
    "\n",
    "<font color='#4444AA' size = '5' face = 'Calibri'><a id = \"Model_S2\">1.3 <u> Support Vector Machine</u></a></font>\n",
    "<hr>\n",
    "<font color='#4444AA' size = '4' face = 'Calibri'><a id = \"Model_S2_1\">1.3.1 <u>  Model Training</u></a></font>\n",
    "<div align = \"right\"><a href = '#top'>Back to Top</a></div>\n",
    "<div style ='background:#9ae1e3'>\n",
    "</div>"
   ]
  },
  {
   "cell_type": "code",
   "execution_count": 6,
   "id": "789c36e1",
   "metadata": {},
   "outputs": [
    {
     "data": {
      "text/html": [
       "<img src onerror=\"var cell = this.closest('.code_cell');var editor = cell.querySelector('.input_area');editor.style.background='#9ae1e3';this.parentNode.removeChild(this)\">"
      ],
      "text/plain": [
       "<IPython.core.display.HTML object>"
      ]
     },
     "metadata": {},
     "output_type": "display_data"
    },
    {
     "data": {
      "text/html": [
       "<style>#sk-container-id-1 {color: black;background-color: white;}#sk-container-id-1 pre{padding: 0;}#sk-container-id-1 div.sk-toggleable {background-color: white;}#sk-container-id-1 label.sk-toggleable__label {cursor: pointer;display: block;width: 100%;margin-bottom: 0;padding: 0.3em;box-sizing: border-box;text-align: center;}#sk-container-id-1 label.sk-toggleable__label-arrow:before {content: \"▸\";float: left;margin-right: 0.25em;color: #696969;}#sk-container-id-1 label.sk-toggleable__label-arrow:hover:before {color: black;}#sk-container-id-1 div.sk-estimator:hover label.sk-toggleable__label-arrow:before {color: black;}#sk-container-id-1 div.sk-toggleable__content {max-height: 0;max-width: 0;overflow: hidden;text-align: left;background-color: #f0f8ff;}#sk-container-id-1 div.sk-toggleable__content pre {margin: 0.2em;color: black;border-radius: 0.25em;background-color: #f0f8ff;}#sk-container-id-1 input.sk-toggleable__control:checked~div.sk-toggleable__content {max-height: 200px;max-width: 100%;overflow: auto;}#sk-container-id-1 input.sk-toggleable__control:checked~label.sk-toggleable__label-arrow:before {content: \"▾\";}#sk-container-id-1 div.sk-estimator input.sk-toggleable__control:checked~label.sk-toggleable__label {background-color: #d4ebff;}#sk-container-id-1 div.sk-label input.sk-toggleable__control:checked~label.sk-toggleable__label {background-color: #d4ebff;}#sk-container-id-1 input.sk-hidden--visually {border: 0;clip: rect(1px 1px 1px 1px);clip: rect(1px, 1px, 1px, 1px);height: 1px;margin: -1px;overflow: hidden;padding: 0;position: absolute;width: 1px;}#sk-container-id-1 div.sk-estimator {font-family: monospace;background-color: #f0f8ff;border: 1px dotted black;border-radius: 0.25em;box-sizing: border-box;margin-bottom: 0.5em;}#sk-container-id-1 div.sk-estimator:hover {background-color: #d4ebff;}#sk-container-id-1 div.sk-parallel-item::after {content: \"\";width: 100%;border-bottom: 1px solid gray;flex-grow: 1;}#sk-container-id-1 div.sk-label:hover label.sk-toggleable__label {background-color: #d4ebff;}#sk-container-id-1 div.sk-serial::before {content: \"\";position: absolute;border-left: 1px solid gray;box-sizing: border-box;top: 0;bottom: 0;left: 50%;z-index: 0;}#sk-container-id-1 div.sk-serial {display: flex;flex-direction: column;align-items: center;background-color: white;padding-right: 0.2em;padding-left: 0.2em;position: relative;}#sk-container-id-1 div.sk-item {position: relative;z-index: 1;}#sk-container-id-1 div.sk-parallel {display: flex;align-items: stretch;justify-content: center;background-color: white;position: relative;}#sk-container-id-1 div.sk-item::before, #sk-container-id-1 div.sk-parallel-item::before {content: \"\";position: absolute;border-left: 1px solid gray;box-sizing: border-box;top: 0;bottom: 0;left: 50%;z-index: -1;}#sk-container-id-1 div.sk-parallel-item {display: flex;flex-direction: column;z-index: 1;position: relative;background-color: white;}#sk-container-id-1 div.sk-parallel-item:first-child::after {align-self: flex-end;width: 50%;}#sk-container-id-1 div.sk-parallel-item:last-child::after {align-self: flex-start;width: 50%;}#sk-container-id-1 div.sk-parallel-item:only-child::after {width: 0;}#sk-container-id-1 div.sk-dashed-wrapped {border: 1px dashed gray;margin: 0 0.4em 0.5em 0.4em;box-sizing: border-box;padding-bottom: 0.4em;background-color: white;}#sk-container-id-1 div.sk-label label {font-family: monospace;font-weight: bold;display: inline-block;line-height: 1.2em;}#sk-container-id-1 div.sk-label-container {text-align: center;}#sk-container-id-1 div.sk-container {/* jupyter's `normalize.less` sets `[hidden] { display: none; }` but bootstrap.min.css set `[hidden] { display: none !important; }` so we also need the `!important` here to be able to override the default hidden behavior on the sphinx rendered scikit-learn.org. See: https://github.com/scikit-learn/scikit-learn/issues/21755 */display: inline-block !important;position: relative;}#sk-container-id-1 div.sk-text-repr-fallback {display: none;}</style><div id=\"sk-container-id-1\" class=\"sk-top-container\"><div class=\"sk-text-repr-fallback\"><pre>SVC(C=0.1, gamma=0.1)</pre><b>In a Jupyter environment, please rerun this cell to show the HTML representation or trust the notebook. <br />On GitHub, the HTML representation is unable to render, please try loading this page with nbviewer.org.</b></div><div class=\"sk-container\" hidden><div class=\"sk-item\"><div class=\"sk-estimator sk-toggleable\"><input class=\"sk-toggleable__control sk-hidden--visually\" id=\"sk-estimator-id-1\" type=\"checkbox\" checked><label for=\"sk-estimator-id-1\" class=\"sk-toggleable__label sk-toggleable__label-arrow\">SVC</label><div class=\"sk-toggleable__content\"><pre>SVC(C=0.1, gamma=0.1)</pre></div></div></div></div></div>"
      ],
      "text/plain": [
       "SVC(C=0.1, gamma=0.1)"
      ]
     },
     "execution_count": 6,
     "metadata": {},
     "output_type": "execute_result"
    }
   ],
   "source": [
    "set_background(\"#9ae1e3\")\n",
    "svc_model = SVC(C=0.1, gamma=0.1)\n",
    "svc_model.fit(X_train,y_train)"
   ]
  },
  {
   "cell_type": "code",
   "execution_count": 7,
   "id": "bbf50679",
   "metadata": {},
   "outputs": [
    {
     "data": {
      "text/html": [
       "<img src onerror=\"var cell = this.closest('.code_cell');var editor = cell.querySelector('.input_area');editor.style.background='#9ae1e3';this.parentNode.removeChild(this)\">"
      ],
      "text/plain": [
       "<IPython.core.display.HTML object>"
      ]
     },
     "metadata": {},
     "output_type": "display_data"
    },
    {
     "name": "stdout",
     "output_type": "stream",
     "text": [
      "                         precision    recall  f1-score   support\n",
      "\n",
      "neutral or dissatisfied       0.91      0.96      0.94     14573\n",
      "              satisfied       0.95      0.88      0.91     11403\n",
      "\n",
      "               accuracy                           0.93     25976\n",
      "              macro avg       0.93      0.92      0.92     25976\n",
      "           weighted avg       0.93      0.93      0.93     25976\n",
      "\n"
     ]
    }
   ],
   "source": [
    "set_background(\"#9ae1e3\")\n",
    "predictions = svc_model.predict(X_test)\n",
    "\n",
    "print(classification_report(y_test,predictions))"
   ]
  },
  {
   "cell_type": "markdown",
   "id": "d47352eb",
   "metadata": {},
   "source": [
    "<font color='#4444AA' size = '4' face = 'Calibri'><a id = \"Model_S2_2\">1.3.2 <u>  Performance Evaluation, Confusion matrix </u></a></font>\n",
    "<div align = \"right\"><a href = '#top'>Back to Top</a></div>\n",
    "<div style ='background:#d9deb8'>\n",
    "</div>"
   ]
  },
  {
   "cell_type": "code",
   "execution_count": 8,
   "id": "388f3480",
   "metadata": {},
   "outputs": [
    {
     "data": {
      "text/html": [
       "<img src onerror=\"var cell = this.closest('.code_cell');var editor = cell.querySelector('.input_area');editor.style.background='#9ae1e3';this.parentNode.removeChild(this)\">"
      ],
      "text/plain": [
       "<IPython.core.display.HTML object>"
      ]
     },
     "metadata": {},
     "output_type": "display_data"
    },
    {
     "name": "stdout",
     "output_type": "stream",
     "text": [
      "Accuracy: 0.9261241145672929\n"
     ]
    },
    {
     "data": {
      "text/plain": [
       "Text(0.5, 427.9555555555555, 'Predicted label')"
      ]
     },
     "execution_count": 8,
     "metadata": {},
     "output_type": "execute_result"
    },
    {
     "data": {
      "image/png": "[encoded data removed]",
      "text/plain": [
       "<Figure size 640x480 with 2 Axes>"
      ]
     },
     "metadata": {},
     "output_type": "display_data"
    }
   ],
   "source": [
    "set_background(\"#9ae1e3\")\n",
    "print(f'Accuracy: {metrics.accuracy_score(y_test, predictions)}')\n",
    "\n",
    "confusion_matrix = metrics.confusion_matrix(y_test, predictions)\n",
    "class_names=['neutral or dissatisfied','satisfied'] # name  of classes\n",
    "fig, ax = plt.subplots()\n",
    "tick_marks = np.arange(len(class_names))\n",
    "plt.xticks(tick_marks, class_names)\n",
    "plt.yticks(tick_marks, class_names)\n",
    "# create heatmap\n",
    "sns.heatmap(pd.DataFrame(confusion_matrix), annot=True, cmap=\"YlGnBu\" ,fmt='g')\n",
    "ax.xaxis.set_label_position(\"top\")\n",
    "plt.tight_layout()\n",
    "plt.title('Confusion matrix', y=1.1)\n",
    "plt.ylabel('Actual label')\n",
    "plt.xlabel('Predicted label')"
   ]
  },
  {
   "cell_type": "markdown",
   "id": "5d680d81",
   "metadata": {},
   "source": [
    "<font color='#4444AA' size = '4' face = 'Calibri'><a id = \"Model_S2_3\">1.3.3 <u>  Hyper Parameter Tuning</u></a></font>\n",
    "<div align = \"right\"><a href = '#top'>Back to Top</a></div>\n",
    "<div style ='background:#d9deb8'>\n",
    "</div>"
   ]
  },
  {
   "cell_type": "code",
   "execution_count": 9,
   "id": "4475b367",
   "metadata": {
    "scrolled": true
   },
   "outputs": [
    {
     "data": {
      "text/html": [
       "<img src onerror=\"var cell = this.closest('.code_cell');var editor = cell.querySelector('.input_area');editor.style.background='#9ae1e3';this.parentNode.removeChild(this)\">"
      ],
      "text/plain": [
       "<IPython.core.display.HTML object>"
      ]
     },
     "metadata": {},
     "output_type": "display_data"
    },
    {
     "name": "stdout",
     "output_type": "stream",
     "text": [
      "Fitting 2 folds for each of 9 candidates, totalling 18 fits\n",
      "[CV 1/2] END ..................C=0.1, gamma=0.5;, score=0.664 total time=15.0min\n",
      "[CV 2/2] END ..................C=0.1, gamma=0.5;, score=0.667 total time=13.3min\n",
      "[CV 1/2] END ..................C=0.1, gamma=0.1;, score=0.918 total time= 3.7min\n",
      "[CV 2/2] END ..................C=0.1, gamma=0.1;, score=0.922 total time= 3.4min\n",
      "[CV 1/2] END .................C=0.1, gamma=0.05;, score=0.922 total time= 2.2min\n",
      "[CV 2/2] END .................C=0.1, gamma=0.05;, score=0.927 total time= 2.2min\n",
      "[CV 1/2] END ..................C=0.5, gamma=0.5;, score=0.769 total time= 8.2min\n",
      "[CV 2/2] END ..................C=0.5, gamma=0.5;, score=0.774 total time=11.8min\n",
      "[CV 1/2] END ..................C=0.5, gamma=0.1;, score=0.932 total time= 5.0min\n",
      "[CV 2/2] END ..................C=0.5, gamma=0.1;, score=0.936 total time= 8.2min\n",
      "[CV 1/2] END .................C=0.5, gamma=0.05;, score=0.932 total time= 4.8min\n",
      "[CV 2/2] END .................C=0.5, gamma=0.05;, score=0.936 total time= 5.1min\n",
      "[CV 1/2] END ....................C=1, gamma=0.5;, score=0.822 total time= 9.2min\n",
      "[CV 2/2] END ....................C=1, gamma=0.5;, score=0.826 total time= 7.1min\n",
      "[CV 1/2] END ....................C=1, gamma=0.1;, score=0.935 total time= 2.1min\n",
      "[CV 2/2] END ....................C=1, gamma=0.1;, score=0.938 total time= 2.1min\n",
      "[CV 1/2] END ...................C=1, gamma=0.05;, score=0.935 total time= 1.2min\n",
      "[CV 2/2] END ...................C=1, gamma=0.05;, score=0.938 total time= 1.3min\n"
     ]
    },
    {
     "data": {
      "text/plain": [
       "{'C': 1, 'gamma': 0.1}"
      ]
     },
     "execution_count": 9,
     "metadata": {},
     "output_type": "execute_result"
    }
   ],
   "source": [
    "set_background(\"#9ae1e3\")\n",
    "param_grid = {'C':[0.1,0.5,1],'gamma':[0.5,0.1,0.05]}\n",
    "grid = GridSearchCV(SVC(),param_grid,cv=2,verbose=3)\n",
    "grid.fit(X_train,y_train)\n",
    "grid.best_params_"
   ]
  },
  {
   "cell_type": "markdown",
   "id": "684a0cb3",
   "metadata": {},
   "source": [
    "\n",
    "<font color='#4444AA' size = '5' face = 'Calibri'><a id = \"Model_S3\">1.4 <u> K-near Neighbours</u></a></font>\n",
    "<hr>\n",
    "<font color='#4444AA' size = '4' face = 'Calibri'><a id = \"Model_S3_1\">1.4.1 <u>  Model Training</u></a></font>\n",
    "<div align = \"right\"><a href = '#top'>Back to Top</a></div>\n",
    "<div style ='background:#9ae1e3'>\n",
    "</div>"
   ]
  },
  {
   "cell_type": "code",
   "execution_count": 6,
   "id": "e15fd574",
   "metadata": {
    "scrolled": true
   },
   "outputs": [
    {
     "data": {
      "text/html": [
       "<img src onerror=\"var cell = this.closest('.code_cell');var editor = cell.querySelector('.input_area');editor.style.background='#9ae1e3';this.parentNode.removeChild(this)\">"
      ],
      "text/plain": [
       "<IPython.core.display.HTML object>"
      ]
     },
     "metadata": {},
     "output_type": "display_data"
    },
    {
     "data": {
      "text/html": [
       "<style>#sk-container-id-1 {color: black;background-color: white;}#sk-container-id-1 pre{padding: 0;}#sk-container-id-1 div.sk-toggleable {background-color: white;}#sk-container-id-1 label.sk-toggleable__label {cursor: pointer;display: block;width: 100%;margin-bottom: 0;padding: 0.3em;box-sizing: border-box;text-align: center;}#sk-container-id-1 label.sk-toggleable__label-arrow:before {content: \"▸\";float: left;margin-right: 0.25em;color: #696969;}#sk-container-id-1 label.sk-toggleable__label-arrow:hover:before {color: black;}#sk-container-id-1 div.sk-estimator:hover label.sk-toggleable__label-arrow:before {color: black;}#sk-container-id-1 div.sk-toggleable__content {max-height: 0;max-width: 0;overflow: hidden;text-align: left;background-color: #f0f8ff;}#sk-container-id-1 div.sk-toggleable__content pre {margin: 0.2em;color: black;border-radius: 0.25em;background-color: #f0f8ff;}#sk-container-id-1 input.sk-toggleable__control:checked~div.sk-toggleable__content {max-height: 200px;max-width: 100%;overflow: auto;}#sk-container-id-1 input.sk-toggleable__control:checked~label.sk-toggleable__label-arrow:before {content: \"▾\";}#sk-container-id-1 div.sk-estimator input.sk-toggleable__control:checked~label.sk-toggleable__label {background-color: #d4ebff;}#sk-container-id-1 div.sk-label input.sk-toggleable__control:checked~label.sk-toggleable__label {background-color: #d4ebff;}#sk-container-id-1 input.sk-hidden--visually {border: 0;clip: rect(1px 1px 1px 1px);clip: rect(1px, 1px, 1px, 1px);height: 1px;margin: -1px;overflow: hidden;padding: 0;position: absolute;width: 1px;}#sk-container-id-1 div.sk-estimator {font-family: monospace;background-color: #f0f8ff;border: 1px dotted black;border-radius: 0.25em;box-sizing: border-box;margin-bottom: 0.5em;}#sk-container-id-1 div.sk-estimator:hover {background-color: #d4ebff;}#sk-container-id-1 div.sk-parallel-item::after {content: \"\";width: 100%;border-bottom: 1px solid gray;flex-grow: 1;}#sk-container-id-1 div.sk-label:hover label.sk-toggleable__label {background-color: #d4ebff;}#sk-container-id-1 div.sk-serial::before {content: \"\";position: absolute;border-left: 1px solid gray;box-sizing: border-box;top: 0;bottom: 0;left: 50%;z-index: 0;}#sk-container-id-1 div.sk-serial {display: flex;flex-direction: column;align-items: center;background-color: white;padding-right: 0.2em;padding-left: 0.2em;position: relative;}#sk-container-id-1 div.sk-item {position: relative;z-index: 1;}#sk-container-id-1 div.sk-parallel {display: flex;align-items: stretch;justify-content: center;background-color: white;position: relative;}#sk-container-id-1 div.sk-item::before, #sk-container-id-1 div.sk-parallel-item::before {content: \"\";position: absolute;border-left: 1px solid gray;box-sizing: border-box;top: 0;bottom: 0;left: 50%;z-index: -1;}#sk-container-id-1 div.sk-parallel-item {display: flex;flex-direction: column;z-index: 1;position: relative;background-color: white;}#sk-container-id-1 div.sk-parallel-item:first-child::after {align-self: flex-end;width: 50%;}#sk-container-id-1 div.sk-parallel-item:last-child::after {align-self: flex-start;width: 50%;}#sk-container-id-1 div.sk-parallel-item:only-child::after {width: 0;}#sk-container-id-1 div.sk-dashed-wrapped {border: 1px dashed gray;margin: 0 0.4em 0.5em 0.4em;box-sizing: border-box;padding-bottom: 0.4em;background-color: white;}#sk-container-id-1 div.sk-label label {font-family: monospace;font-weight: bold;display: inline-block;line-height: 1.2em;}#sk-container-id-1 div.sk-label-container {text-align: center;}#sk-container-id-1 div.sk-container {/* jupyter's `normalize.less` sets `[hidden] { display: none; }` but bootstrap.min.css set `[hidden] { display: none !important; }` so we also need the `!important` here to be able to override the default hidden behavior on the sphinx rendered scikit-learn.org. See: https://github.com/scikit-learn/scikit-learn/issues/21755 */display: inline-block !important;position: relative;}#sk-container-id-1 div.sk-text-repr-fallback {display: none;}</style><div id=\"sk-container-id-1\" class=\"sk-top-container\"><div class=\"sk-text-repr-fallback\"><pre>KNeighborsClassifier()</pre><b>In a Jupyter environment, please rerun this cell to show the HTML representation or trust the notebook. <br />On GitHub, the HTML representation is unable to render, please try loading this page with nbviewer.org.</b></div><div class=\"sk-container\" hidden><div class=\"sk-item\"><div class=\"sk-estimator sk-toggleable\"><input class=\"sk-toggleable__control sk-hidden--visually\" id=\"sk-estimator-id-1\" type=\"checkbox\" checked><label for=\"sk-estimator-id-1\" class=\"sk-toggleable__label sk-toggleable__label-arrow\">KNeighborsClassifier</label><div class=\"sk-toggleable__content\"><pre>KNeighborsClassifier()</pre></div></div></div></div></div>"
      ],
      "text/plain": [
       "KNeighborsClassifier()"
      ]
     },
     "execution_count": 6,
     "metadata": {},
     "output_type": "execute_result"
    }
   ],
   "source": [
    "set_background(\"#9ae1e3\")\n",
    "knn = KNeighborsClassifier()\n",
    "knn.fit(X_train, y_train)"
   ]
  },
  {
   "cell_type": "code",
   "execution_count": 7,
   "id": "a92a5531",
   "metadata": {},
   "outputs": [
    {
     "data": {
      "text/html": [
       "<img src onerror=\"var cell = this.closest('.code_cell');var editor = cell.querySelector('.input_area');editor.style.background='#9ae1e3';this.parentNode.removeChild(this)\">"
      ],
      "text/plain": [
       "<IPython.core.display.HTML object>"
      ]
     },
     "metadata": {},
     "output_type": "display_data"
    },
    {
     "name": "stdout",
     "output_type": "stream",
     "text": [
      "                         precision    recall  f1-score   support\n",
      "\n",
      "neutral or dissatisfied       0.91      0.95      0.93     14573\n",
      "              satisfied       0.94      0.88      0.90     11403\n",
      "\n",
      "               accuracy                           0.92     25976\n",
      "              macro avg       0.92      0.91      0.92     25976\n",
      "           weighted avg       0.92      0.92      0.92     25976\n",
      "\n"
     ]
    }
   ],
   "source": [
    "set_background(\"#9ae1e3\")\n",
    "predictions = knn.predict(X_test)\n",
    "print(classification_report(y_test,predictions))"
   ]
  },
  {
   "cell_type": "markdown",
   "id": "272e8986",
   "metadata": {},
   "source": [
    "<font color='#4444AA' size = '4' face = 'Calibri'><a id = \"Model_S3_3\">1.4.3 <u>  Hyper Parameter Tuning</u></a></font>\n",
    "<div align = \"right\"><a href = '#top'>Back to Top</a></div>\n",
    "<div style ='background:#d9deb8'>\n",
    "</div>"
   ]
  },
  {
   "cell_type": "code",
   "execution_count": 8,
   "id": "a30ac81a",
   "metadata": {
    "scrolled": true
   },
   "outputs": [
    {
     "data": {
      "text/html": [
       "<img src onerror=\"var cell = this.closest('.code_cell');var editor = cell.querySelector('.input_area');editor.style.background='#9ae1e3';this.parentNode.removeChild(this)\">"
      ],
      "text/plain": [
       "<IPython.core.display.HTML object>"
      ]
     },
     "metadata": {},
     "output_type": "display_data"
    },
    {
     "name": "stdout",
     "output_type": "stream",
     "text": [
      "Fitting 2 folds for each of 8 candidates, totalling 16 fits\n"
     ]
    },
    {
     "data": {
      "text/plain": [
       "{'n_neighbors': 11}"
      ]
     },
     "execution_count": 8,
     "metadata": {},
     "output_type": "execute_result"
    }
   ],
   "source": [
    "set_background(\"#9ae1e3\")\n",
    "knn = KNeighborsClassifier()\n",
    "k_range = list(range(4, 12))\n",
    "param_grid = dict(n_neighbors=k_range)\n",
    "  \n",
    "# defining parameter range\n",
    "grid = GridSearchCV(knn, param_grid, cv=2, scoring='accuracy', return_train_score=False,verbose=1)\n",
    "  \n",
    "# fitting the model for grid search\n",
    "grid_search=grid.fit(X_train, y_train)\n",
    "grid.best_params_"
   ]
  },
  {
   "cell_type": "code",
   "execution_count": 9,
   "id": "10c5dc7b",
   "metadata": {},
   "outputs": [
    {
     "data": {
      "text/html": [
       "<style>#sk-container-id-2 {color: black;background-color: white;}#sk-container-id-2 pre{padding: 0;}#sk-container-id-2 div.sk-toggleable {background-color: white;}#sk-container-id-2 label.sk-toggleable__label {cursor: pointer;display: block;width: 100%;margin-bottom: 0;padding: 0.3em;box-sizing: border-box;text-align: center;}#sk-container-id-2 label.sk-toggleable__label-arrow:before {content: \"▸\";float: left;margin-right: 0.25em;color: #696969;}#sk-container-id-2 label.sk-toggleable__label-arrow:hover:before {color: black;}#sk-container-id-2 div.sk-estimator:hover label.sk-toggleable__label-arrow:before {color: black;}#sk-container-id-2 div.sk-toggleable__content {max-height: 0;max-width: 0;overflow: hidden;text-align: left;background-color: #f0f8ff;}#sk-container-id-2 div.sk-toggleable__content pre {margin: 0.2em;color: black;border-radius: 0.25em;background-color: #f0f8ff;}#sk-container-id-2 input.sk-toggleable__control:checked~div.sk-toggleable__content {max-height: 200px;max-width: 100%;overflow: auto;}#sk-container-id-2 input.sk-toggleable__control:checked~label.sk-toggleable__label-arrow:before {content: \"▾\";}#sk-container-id-2 div.sk-estimator input.sk-toggleable__control:checked~label.sk-toggleable__label {background-color: #d4ebff;}#sk-container-id-2 div.sk-label input.sk-toggleable__control:checked~label.sk-toggleable__label {background-color: #d4ebff;}#sk-container-id-2 input.sk-hidden--visually {border: 0;clip: rect(1px 1px 1px 1px);clip: rect(1px, 1px, 1px, 1px);height: 1px;margin: -1px;overflow: hidden;padding: 0;position: absolute;width: 1px;}#sk-container-id-2 div.sk-estimator {font-family: monospace;background-color: #f0f8ff;border: 1px dotted black;border-radius: 0.25em;box-sizing: border-box;margin-bottom: 0.5em;}#sk-container-id-2 div.sk-estimator:hover {background-color: #d4ebff;}#sk-container-id-2 div.sk-parallel-item::after {content: \"\";width: 100%;border-bottom: 1px solid gray;flex-grow: 1;}#sk-container-id-2 div.sk-label:hover label.sk-toggleable__label {background-color: #d4ebff;}#sk-container-id-2 div.sk-serial::before {content: \"\";position: absolute;border-left: 1px solid gray;box-sizing: border-box;top: 0;bottom: 0;left: 50%;z-index: 0;}#sk-container-id-2 div.sk-serial {display: flex;flex-direction: column;align-items: center;background-color: white;padding-right: 0.2em;padding-left: 0.2em;position: relative;}#sk-container-id-2 div.sk-item {position: relative;z-index: 1;}#sk-container-id-2 div.sk-parallel {display: flex;align-items: stretch;justify-content: center;background-color: white;position: relative;}#sk-container-id-2 div.sk-item::before, #sk-container-id-2 div.sk-parallel-item::before {content: \"\";position: absolute;border-left: 1px solid gray;box-sizing: border-box;top: 0;bottom: 0;left: 50%;z-index: -1;}#sk-container-id-2 div.sk-parallel-item {display: flex;flex-direction: column;z-index: 1;position: relative;background-color: white;}#sk-container-id-2 div.sk-parallel-item:first-child::after {align-self: flex-end;width: 50%;}#sk-container-id-2 div.sk-parallel-item:last-child::after {align-self: flex-start;width: 50%;}#sk-container-id-2 div.sk-parallel-item:only-child::after {width: 0;}#sk-container-id-2 div.sk-dashed-wrapped {border: 1px dashed gray;margin: 0 0.4em 0.5em 0.4em;box-sizing: border-box;padding-bottom: 0.4em;background-color: white;}#sk-container-id-2 div.sk-label label {font-family: monospace;font-weight: bold;display: inline-block;line-height: 1.2em;}#sk-container-id-2 div.sk-label-container {text-align: center;}#sk-container-id-2 div.sk-container {/* jupyter's `normalize.less` sets `[hidden] { display: none; }` but bootstrap.min.css set `[hidden] { display: none !important; }` so we also need the `!important` here to be able to override the default hidden behavior on the sphinx rendered scikit-learn.org. See: https://github.com/scikit-learn/scikit-learn/issues/21755 */display: inline-block !important;position: relative;}#sk-container-id-2 div.sk-text-repr-fallback {display: none;}</style><div id=\"sk-container-id-2\" class=\"sk-top-container\"><div class=\"sk-text-repr-fallback\"><pre>KNeighborsClassifier(n_neighbors=11)</pre><b>In a Jupyter environment, please rerun this cell to show the HTML representation or trust the notebook. <br />On GitHub, the HTML representation is unable to render, please try loading this page with nbviewer.org.</b></div><div class=\"sk-container\" hidden><div class=\"sk-item\"><div class=\"sk-estimator sk-toggleable\"><input class=\"sk-toggleable__control sk-hidden--visually\" id=\"sk-estimator-id-2\" type=\"checkbox\" checked><label for=\"sk-estimator-id-2\" class=\"sk-toggleable__label sk-toggleable__label-arrow\">KNeighborsClassifier</label><div class=\"sk-toggleable__content\"><pre>KNeighborsClassifier(n_neighbors=11)</pre></div></div></div></div></div>"
      ],
      "text/plain": [
       "KNeighborsClassifier(n_neighbors=11)"
      ]
     },
     "execution_count": 9,
     "metadata": {},
     "output_type": "execute_result"
    }
   ],
   "source": [
    "knn = KNeighborsClassifier(n_neighbors=11)\n",
    "knn.fit(X_train, y_train)"
   ]
  },
  {
   "cell_type": "markdown",
   "id": "c719b6aa",
   "metadata": {},
   "source": [
    "<font color='#4444AA' size = '4' face = 'Calibri'><a id = \"Model_S3_2\">1.4.2 <u>  Performance Evaluation, Confusion matrix </u></a></font>\n",
    "<div align = \"right\"><a href = '#top'>Back to Top</a></div>\n",
    "<div style ='background:#d9deb8'>\n",
    "</div>"
   ]
  },
  {
   "cell_type": "code",
   "execution_count": 11,
   "id": "d0d27b33",
   "metadata": {},
   "outputs": [
    {
     "data": {
      "text/html": [
       "<img src onerror=\"var cell = this.closest('.code_cell');var editor = cell.querySelector('.input_area');editor.style.background='#9ae1e3';this.parentNode.removeChild(this)\">"
      ],
      "text/plain": [
       "<IPython.core.display.HTML object>"
      ]
     },
     "metadata": {},
     "output_type": "display_data"
    },
    {
     "name": "stdout",
     "output_type": "stream",
     "text": [
      "[[13957   616]\n",
      " [ 1415  9988]]\n",
      "\n",
      "\n",
      "                         precision    recall  f1-score   support\n",
      "\n",
      "neutral or dissatisfied       0.91      0.96      0.93     14573\n",
      "              satisfied       0.94      0.88      0.91     11403\n",
      "\n",
      "               accuracy                           0.92     25976\n",
      "              macro avg       0.92      0.92      0.92     25976\n",
      "           weighted avg       0.92      0.92      0.92     25976\n",
      "\n"
     ]
    },
    {
     "data": {
      "text/plain": [
       "Text(0.5, 427.9555555555555, 'Predicted label')"
      ]
     },
     "execution_count": 11,
     "metadata": {},
     "output_type": "execute_result"
    },
    {
     "data": {
      "image/png": "[encoded data removed]",
      "text/plain": [
       "<Figure size 640x480 with 2 Axes>"
      ]
     },
     "metadata": {},
     "output_type": "display_data"
    }
   ],
   "source": [
    "set_background(\"#9ae1e3\")\n",
    "predictions = knn.predict(X_test)\n",
    "confusion_matrix = confusion_matrix(y_test,predictions)\n",
    "print(confusion_matrix)\n",
    "print('\\n')\n",
    "print(classification_report(y_test,predictions))\n",
    "\n",
    "class_names=['neutral or dissatisfied','satisfied'] # name  of classes\n",
    "fig, ax = plt.subplots()\n",
    "tick_marks = np.arange(len(class_names))\n",
    "plt.xticks(tick_marks, class_names)\n",
    "plt.yticks(tick_marks, class_names)\n",
    "# create heatmap\n",
    "sns.heatmap(pd.DataFrame(confusion_matrix), annot=True, cmap=\"YlGnBu\" ,fmt='g')\n",
    "ax.xaxis.set_label_position(\"top\")\n",
    "plt.tight_layout()\n",
    "plt.title('Confusion matrix', y=1.1)\n",
    "plt.ylabel('Actual label')\n",
    "plt.xlabel('Predicted label')"
   ]
  },
  {
   "cell_type": "markdown",
   "id": "f550dd12",
   "metadata": {},
   "source": [
    "\n",
    "<font color='#4444AA' size = '5' face = 'Calibri'><a id = \"ModelTrees\">2. <u>  Tree-based Classification Models</u></a></font>\n",
    "<br>\n",
    "<div align = \"right\"><a href = '#top'>Back to Top</a></div>\n",
    "<hr>\n",
    "<font color='#4444AA' size = '4' face = 'Calibri'><a id = \"Model_T0\">2.1 <u> Data Preparation</u></a></font>\n",
    "<div align = \"right\"><a href = '#top'>Back to Top</a></div>\n",
    "<div style ='background:#d9deb8'>\n",
    "Using non-normalized dataset for tree based models\n",
    "</div>"
   ]
  },
  {
   "cell_type": "code",
   "execution_count": 30,
   "id": "5c34ea94",
   "metadata": {},
   "outputs": [
    {
     "data": {
      "text/html": [
       "<img src onerror=\"var cell = this.closest('.code_cell');var editor = cell.querySelector('.input_area');editor.style.background='#d9deb8';this.parentNode.removeChild(this)\">"
      ],
      "text/plain": [
       "<IPython.core.display.HTML object>"
      ]
     },
     "metadata": {},
     "output_type": "display_data"
    }
   ],
   "source": [
    "set_background(\"#d9deb8\")\n",
    "df = pd.read_csv(base_path + '\\\\data\\\\airplane_train_processed.csv')\n",
    "    \n",
    "\n",
    "X = df[['Flight Distance', 'Departure Delay in Minutes',\n",
    "       'Arrival Delay in Minutes', 'Gender_Female', 'Gender_Male',\n",
    "       'Customer Type_Loyal Customer', 'Customer Type_disloyal Customer',\n",
    "       'Type of Travel_Business travel', 'Type of Travel_Personal Travel',\n",
    "       'Class_Business', 'Class_Eco', 'Class_Eco Plus', 'Age',\n",
    "       'Inflight wifi service', 'Departure/Arrival time convenient',\n",
    "       'Ease of Online booking', 'Gate location', 'Food and drink',\n",
    "       'Online boarding', 'Seat comfort', 'Inflight entertainment',\n",
    "       'On-board service', 'Leg room service', 'Baggage handling',\n",
    "       'Checkin service', 'Inflight service', 'Cleanliness']]\n",
    "y = df['satisfaction'].values"
   ]
  },
  {
   "cell_type": "code",
   "execution_count": 31,
   "id": "56319e9a",
   "metadata": {},
   "outputs": [
    {
     "data": {
      "text/html": [
       "<img src onerror=\"var cell = this.closest('.code_cell');var editor = cell.querySelector('.input_area');editor.style.background='#d9deb8';this.parentNode.removeChild(this)\">"
      ],
      "text/plain": [
       "<IPython.core.display.HTML object>"
      ]
     },
     "metadata": {},
     "output_type": "display_data"
    }
   ],
   "source": [
    "set_background(\"#d9deb8\")\n",
    "X_train, X_test, y_train, y_test = train_test_split(X, y, test_size = 0.33, random_state = 5)"
   ]
  },
  {
   "cell_type": "code",
   "execution_count": 32,
   "id": "c7bbb2b8",
   "metadata": {},
   "outputs": [
    {
     "data": {
      "text/html": [
       "<img src onerror=\"var cell = this.closest('.code_cell');var editor = cell.querySelector('.input_area');editor.style.background='#d9deb8';this.parentNode.removeChild(this)\">"
      ],
      "text/plain": [
       "<IPython.core.display.HTML object>"
      ]
     },
     "metadata": {},
     "output_type": "display_data"
    },
    {
     "data": {
      "text/plain": [
       "8978"
      ]
     },
     "execution_count": 32,
     "metadata": {},
     "output_type": "execute_result"
    }
   ],
   "source": [
    "set_background(\"#d9deb8\")\n",
    "df_val = pd.read_csv(base_path + '\\\\data\\\\airplane_test_processed.csv')\n",
    "X_val = df_val[['Flight Distance', 'Departure Delay in Minutes',\n",
    "       'Arrival Delay in Minutes', 'Gender_Female', 'Gender_Male',\n",
    "       'Customer Type_Loyal Customer', 'Customer Type_disloyal Customer',\n",
    "       'Type of Travel_Business travel', 'Type of Travel_Personal Travel',\n",
    "       'Class_Business', 'Class_Eco', 'Class_Eco Plus', 'Age',\n",
    "       'Inflight wifi service', 'Departure/Arrival time convenient',\n",
    "       'Ease of Online booking', 'Gate location', 'Food and drink',\n",
    "       'Online boarding', 'Seat comfort', 'Inflight entertainment',\n",
    "       'On-board service', 'Leg room service', 'Baggage handling',\n",
    "       'Checkin service', 'Inflight service', 'Cleanliness']]\n",
    "\n",
    "y_val = df_val['satisfaction'].values\n",
    "gc.collect()"
   ]
  },
  {
   "cell_type": "markdown",
   "id": "f988581e",
   "metadata": {},
   "source": [
    "\n",
    "<font color='#4444AA' size = '5' face = 'Calibri'><a id = \"Model_T1\">2.2 <u>  Decision Tree Classfier</u></a></font>\n",
    "<hr>\n",
    "<font color='#4444AA' size = '4' face = 'Calibri'><a id = \"Model_T1_1\">2.2.1 <u>  Model Training</u></a></font>\n",
    "<div align = \"right\"><a href = '#top'>Back to Top</a></div>\n",
    "<div style ='background:#d9deb8'>\n",
    "</div>"
   ]
  },
  {
   "cell_type": "code",
   "execution_count": 33,
   "id": "f33fafcb",
   "metadata": {},
   "outputs": [
    {
     "data": {
      "text/html": [
       "<img src onerror=\"var cell = this.closest('.code_cell');var editor = cell.querySelector('.input_area');editor.style.background='#d9deb8';this.parentNode.removeChild(this)\">"
      ],
      "text/plain": [
       "<IPython.core.display.HTML object>"
      ]
     },
     "metadata": {},
     "output_type": "display_data"
    },
    {
     "data": {
      "text/plain": [
       "0"
      ]
     },
     "execution_count": 33,
     "metadata": {},
     "output_type": "execute_result"
    }
   ],
   "source": [
    "set_background(\"#d9deb8\")\n",
    "decision_tree = tree.DecisionTreeClassifier(criterion='entropy', max_depth = 10, random_state=15)\n",
    "decision_tree.fit(X_train, y_train)\n",
    "gc.collect()"
   ]
  },
  {
   "cell_type": "markdown",
   "id": "7e89ba53",
   "metadata": {},
   "source": [
    "<font color='#4444AA' size = '4' face = 'Calibri'><a id = \"Model_T1_2\">2.2.2 <u>  Hyper Parameter Tuning</u></a></font>\n",
    "<div align = \"right\"><a href = '#top'>Back to Top</a></div>\n",
    "<div style ='background:#d9deb8'>\n",
    "</div>"
   ]
  },
  {
   "cell_type": "code",
   "execution_count": 34,
   "id": "6f64ac82",
   "metadata": {},
   "outputs": [
    {
     "data": {
      "text/html": [
       "<img src onerror=\"var cell = this.closest('.code_cell');var editor = cell.querySelector('.input_area');editor.style.background='#d9deb8';this.parentNode.removeChild(this)\">"
      ],
      "text/plain": [
       "<IPython.core.display.HTML object>"
      ]
     },
     "metadata": {},
     "output_type": "display_data"
    },
    {
     "name": "stdout",
     "output_type": "stream",
     "text": [
      "0.93305359642162 {'max_depth': 11}\n"
     ]
    },
    {
     "data": {
      "text/plain": [
       "503"
      ]
     },
     "execution_count": 34,
     "metadata": {},
     "output_type": "execute_result"
    }
   ],
   "source": [
    "set_background(\"#d9deb8\")\n",
    "parameters = {'max_depth':range(3,20)}\n",
    "clf = GridSearchCV(tree.DecisionTreeClassifier(), parameters, n_jobs=4)\n",
    "clf.fit(X=X_val, y=y_val)\n",
    "tree_model = clf.best_estimator_\n",
    "print(clf.best_score_, clf.best_params_) \n",
    "gc.collect()"
   ]
  },
  {
   "cell_type": "code",
   "execution_count": null,
   "id": "c805a994",
   "metadata": {},
   "outputs": [],
   "source": [
    "set_background(\"#d9deb8\")\n",
    "with open(\"tree1.dot\", 'w') as f:\n",
    "     f = export_graphviz(tree_model, out_file=f, max_depth = clf.best_params_['max_depth'],\n",
    "                         impurity = True, feature_names = X_val.columns,\n",
    "                         rounded = True, filled= True )\n",
    "#Convert .dot to .png to allow display in web notebook\n",
    "check_call(['dot','-Tpng','tree1.dot','-o','tree.png'])\n",
    "# Annotating chart with PIL\n",
    "img = Image.open(\"tree.png\")\n",
    "draw = ImageDraw.Draw(img)\n",
    "img.save(base_path  + '\\\\sample-out.png')\n",
    "PImage(base_path  + \"\\\\sample-out.png\")\n",
    "gc.collect()"
   ]
  },
  {
   "cell_type": "markdown",
   "id": "32ded96b",
   "metadata": {},
   "source": [
    "<font color='#4444AA' size = '4' face = 'Calibri'><a id = \"Model_T1_3\">2.2.3 <u>  Performance Evaluation, Confusion matrix </u></a></font>\n",
    "<div align = \"right\"><a href = '#top'>Back to Top</a></div>\n",
    "<div style ='background:#d9deb8'>\n",
    "</div>"
   ]
  },
  {
   "cell_type": "code",
   "execution_count": 36,
   "id": "d884bffa",
   "metadata": {},
   "outputs": [
    {
     "data": {
      "text/html": [
       "<img src onerror=\"var cell = this.closest('.code_cell');var editor = cell.querySelector('.input_area');editor.style.background='#d9deb8';this.parentNode.removeChild(this)\">"
      ],
      "text/plain": [
       "<IPython.core.display.HTML object>"
      ]
     },
     "metadata": {},
     "output_type": "display_data"
    },
    {
     "name": "stdout",
     "output_type": "stream",
     "text": [
      "Model Accuracy Score ==> 0.9347537795066749\n"
     ]
    }
   ],
   "source": [
    "set_background(\"#d9deb8\")\n",
    "print(f\"Model Accuracy Score ==> {tree_model.score(X_test, y_test)}\")     "
   ]
  },
  {
   "cell_type": "code",
   "execution_count": 37,
   "id": "b196c2a2",
   "metadata": {},
   "outputs": [
    {
     "data": {
      "text/html": [
       "<img src onerror=\"var cell = this.closest('.code_cell');var editor = cell.querySelector('.input_area');editor.style.background='#d9deb8';this.parentNode.removeChild(this)\">"
      ],
      "text/plain": [
       "<IPython.core.display.HTML object>"
      ]
     },
     "metadata": {},
     "output_type": "display_data"
    },
    {
     "data": {
      "text/plain": [
       "412"
      ]
     },
     "execution_count": 37,
     "metadata": {},
     "output_type": "execute_result"
    },
    {
     "data": {
      "image/png": "[encoded data removed]",
      "text/plain": [
       "<Figure size 640x480 with 2 Axes>"
      ]
     },
     "metadata": {},
     "output_type": "display_data"
    }
   ],
   "source": [
    "set_background(\"#d9deb8\")\n",
    "predictions =  tree_model.predict(X_test)\n",
    "\n",
    "confusion_matrix = metrics.confusion_matrix(y_test, predictions)\n",
    "class_names=['neutral or dissatisfied','satisfied'] # name  of classes\n",
    "fig, ax = plt.subplots()\n",
    "tick_marks = np.arange(len(class_names))\n",
    "plt.xticks(tick_marks, class_names)\n",
    "plt.yticks(tick_marks, class_names)\n",
    "# create heatmap\n",
    "sns.heatmap(pd.DataFrame(confusion_matrix), annot=True, cmap=\"YlGnBu\" ,fmt='g')\n",
    "ax.xaxis.set_label_position(\"top\")\n",
    "plt.tight_layout()\n",
    "plt.title('Confusion matrix', y=1.1)\n",
    "plt.ylabel('Actual label')\n",
    "plt.xlabel('Predicted label')\n",
    "gc.collect()"
   ]
  },
  {
   "cell_type": "code",
   "execution_count": 38,
   "id": "9deacd0e",
   "metadata": {},
   "outputs": [
    {
     "data": {
      "text/html": [
       "<img src onerror=\"var cell = this.closest('.code_cell');var editor = cell.querySelector('.input_area');editor.style.background='#d9deb8';this.parentNode.removeChild(this)\">"
      ],
      "text/plain": [
       "<IPython.core.display.HTML object>"
      ]
     },
     "metadata": {},
     "output_type": "display_data"
    },
    {
     "name": "stdout",
     "output_type": "stream",
     "text": [
      "Conclusions\n",
      "Accuracy in train dataset - 0.93305359642162\n",
      "Best accuracy with 'max_depth': 11\n",
      "Accuracy in test dataset - 0.9347537795066749\n"
     ]
    }
   ],
   "source": [
    "set_background(\"#d9deb8\")\n",
    "print(\"Conclusions\")\n",
    "print(f\"Accuracy in train dataset - {clf.best_score_}\")\n",
    "print(f\"Best accuracy with 'max_depth': {clf.best_params_['max_depth']}\")\n",
    "print(f\"Accuracy in test dataset - {tree_model.score(X_test, y_test)}\")     "
   ]
  },
  {
   "cell_type": "markdown",
   "id": "cd498038",
   "metadata": {},
   "source": [
    "\n",
    "<font color='#4444AA' size = '5' face = 'Calibri'><a id = \"Model_T2\">2.3 <u>  Random Forest Classifier</u></a></font>\n",
    "<hr>\n",
    "<font color='#4444AA' size = '4' face = 'Calibri'><a id = \"Model_T2_1\">2.3.1 <u>  Model Training</u></a></font>\n",
    "<div align = \"right\"><a href = '#top'>Back to Top</a></div>\n",
    "<div style ='background:#d9deb8'>\n",
    "</div>"
   ]
  },
  {
   "cell_type": "code",
   "execution_count": 39,
   "id": "ffde7b01",
   "metadata": {},
   "outputs": [
    {
     "data": {
      "text/html": [
       "<img src onerror=\"var cell = this.closest('.code_cell');var editor = cell.querySelector('.input_area');editor.style.background='#d9deb8';this.parentNode.removeChild(this)\">"
      ],
      "text/plain": [
       "<IPython.core.display.HTML object>"
      ]
     },
     "metadata": {},
     "output_type": "display_data"
    }
   ],
   "source": [
    "set_background(\"#d9deb8\")\n",
    "\n",
    "def search_param(model, param, X_train, y_train, X_val, y_val, area=range(1, 11), msg=True, plot=True, seed=None):\n",
    "    import matplotlib.pyplot as plt\n",
    "    import time\n",
    "    score_list = []\n",
    "    if msg:\n",
    "        print('#     accuracy  time')\n",
    "    for i in area:\n",
    "        start = time.time()\n",
    "        rfc = eval(model + '(' + param + '=' + str(i) + ', random_state=' + str(seed) + ')')\n",
    "        rfc.fit(X_train, y_train)\n",
    "        s = rfc.score(X_val, y_val)\n",
    "        end = time.time()\n",
    "        score_list.append(s)\n",
    "        if msg:\n",
    "            print(\"%-3d %10f  %7f\" % (i, s, end - start))\n",
    "    if plot:\n",
    "        plt.plot(list(area), score_list)\n",
    "    return list(area)[score_list.index(max(score_list))]"
   ]
  },
  {
   "cell_type": "code",
   "execution_count": 40,
   "id": "4fccbbad",
   "metadata": {},
   "outputs": [
    {
     "data": {
      "text/html": [
       "<img src onerror=\"var cell = this.closest('.code_cell');var editor = cell.querySelector('.input_area');editor.style.background='#d9deb8';this.parentNode.removeChild(this)\">"
      ],
      "text/plain": [
       "<IPython.core.display.HTML object>"
      ]
     },
     "metadata": {},
     "output_type": "display_data"
    },
    {
     "name": "stdout",
     "output_type": "stream",
     "text": [
      "#     accuracy  time\n",
      "1     0.911803  0.182726\n",
      "2     0.918656  0.242800\n",
      "3     0.935479  0.319571\n",
      "4     0.937866  0.396420\n",
      "5     0.942947  0.463381\n",
      "6     0.944487  0.621679\n",
      "7     0.946374  0.673423\n",
      "8     0.947336  0.705833\n",
      "9     0.948106  0.781892\n",
      "10    0.948298  0.949605\n",
      "11    0.948876  1.008737\n",
      "12    0.949415  1.140214\n",
      "13    0.950454  1.176303\n",
      "14    0.951571  1.146014\n",
      "15    0.950839  1.324700\n",
      "16    0.951455  1.334076\n",
      "17    0.951686  1.374221\n",
      "18    0.952572  1.444313\n",
      "19    0.952225  1.568876\n",
      "20    0.952187  1.661807\n",
      "21    0.952610  1.647990\n",
      "22    0.952572  1.865776\n",
      "23    0.952610  1.979228\n",
      "24    0.952995  2.025102\n",
      "25    0.953342  2.067903\n",
      "26    0.953419  2.347044\n",
      "27    0.953111  2.327849\n",
      "28    0.953149  2.512702\n",
      "29    0.953265  2.445785\n"
     ]
    },
    {
     "data": {
      "text/plain": [
       "73"
      ]
     },
     "execution_count": 40,
     "metadata": {},
     "output_type": "execute_result"
    },
    {
     "data": {
      "image/png": "[encoded data removed]",
      "text/plain": [
       "<Figure size 640x480 with 1 Axes>"
      ]
     },
     "metadata": {},
     "output_type": "display_data"
    }
   ],
   "source": [
    "set_background(\"#d9deb8\")\n",
    "\n",
    "search_param('RandomForestClassifier', 'n_estimators', X_train, y_train, X_val, y_val, area=range(1, 30), seed=15)\n",
    "gc.collect()"
   ]
  },
  {
   "cell_type": "code",
   "execution_count": 41,
   "id": "b77fff9a",
   "metadata": {},
   "outputs": [
    {
     "data": {
      "text/html": [
       "<img src onerror=\"var cell = this.closest('.code_cell');var editor = cell.querySelector('.input_area');editor.style.background='#d9deb8';this.parentNode.removeChild(this)\">"
      ],
      "text/plain": [
       "<IPython.core.display.HTML object>"
      ]
     },
     "metadata": {},
     "output_type": "display_data"
    },
    {
     "name": "stdout",
     "output_type": "stream",
     "text": [
      "#     accuracy  time\n",
      "1     0.835348  1.411434\n",
      "2     0.872074  1.898176\n",
      "3     0.901871  2.552043\n",
      "4     0.911880  3.188372\n",
      "5     0.916923  3.577619\n",
      "6     0.920542  3.885108\n",
      "7     0.923737  4.449842\n",
      "8     0.927510  4.825707\n",
      "9     0.933015  5.326815\n",
      "10    0.938174  5.714179\n",
      "11    0.942408  6.272009\n",
      "12    0.944949  6.277119\n",
      "13    0.948568  6.604053\n",
      "14    0.951032  6.959066\n",
      "15    0.952071  7.105682\n",
      "16    0.953419  8.322854\n",
      "17    0.953957  7.565172\n",
      "18    0.954381  7.479289\n",
      "19    0.954766  7.737279\n"
     ]
    },
    {
     "data": {
      "text/plain": [
       "3064"
      ]
     },
     "execution_count": 41,
     "metadata": {},
     "output_type": "execute_result"
    },
    {
     "data": {
      "image/png": "[encoded data removed]",
      "text/plain": [
       "<Figure size 640x480 with 1 Axes>"
      ]
     },
     "metadata": {},
     "output_type": "display_data"
    }
   ],
   "source": [
    "set_background(\"#d9deb8\")\n",
    "search_param('RandomForestClassifier', 'max_depth', X_train, y_train, X_val, y_val, area=range(1, 20), seed=15)\n",
    "gc.collect()"
   ]
  },
  {
   "cell_type": "code",
   "execution_count": 42,
   "id": "6138ea8d",
   "metadata": {},
   "outputs": [
    {
     "data": {
      "text/html": [
       "<img src onerror=\"var cell = this.closest('.code_cell');var editor = cell.querySelector('.input_area');editor.style.background='#d9deb8';this.parentNode.removeChild(this)\">"
      ],
      "text/plain": [
       "<IPython.core.display.HTML object>"
      ]
     },
     "metadata": {},
     "output_type": "display_data"
    },
    {
     "name": "stdout",
     "output_type": "stream",
     "text": [
      "#     accuracy  time\n",
      "2     0.954535  7.913674\n",
      "3     0.954535  7.793244\n",
      "4     0.954804  7.940615\n",
      "5     0.954881  7.713134\n",
      "6     0.954535  7.760229\n",
      "7     0.954304  8.094759\n",
      "8     0.953881  7.833548\n",
      "9     0.953842  7.578187\n"
     ]
    },
    {
     "data": {
      "text/plain": [
       "3185"
      ]
     },
     "execution_count": 42,
     "metadata": {},
     "output_type": "execute_result"
    },
    {
     "data": {
      "image/png": "[encoded data removed]",
      "text/plain": [
       "<Figure size 640x480 with 1 Axes>"
      ]
     },
     "metadata": {},
     "output_type": "display_data"
    }
   ],
   "source": [
    "set_background(\"#d9deb8\")\n",
    "search_param('RandomForestClassifier', 'min_samples_split', X_train, y_train, X_val, y_val, range(2, 10), seed=15)\n",
    "gc.collect()"
   ]
  },
  {
   "cell_type": "code",
   "execution_count": 43,
   "id": "c8553a04",
   "metadata": {},
   "outputs": [
    {
     "data": {
      "text/html": [
       "<img src onerror=\"var cell = this.closest('.code_cell');var editor = cell.querySelector('.input_area');editor.style.background='#d9deb8';this.parentNode.removeChild(this)\">"
      ],
      "text/plain": [
       "<IPython.core.display.HTML object>"
      ]
     },
     "metadata": {},
     "output_type": "display_data"
    },
    {
     "name": "stdout",
     "output_type": "stream",
     "text": [
      "#     accuracy  time\n",
      "1     0.954535  7.870690\n",
      "2     0.953650  7.598050\n",
      "3     0.951725  7.647379\n",
      "4     0.951609  7.351683\n",
      "5     0.950108  7.308288\n"
     ]
    },
    {
     "data": {
      "text/plain": [
       "3146"
      ]
     },
     "execution_count": 43,
     "metadata": {},
     "output_type": "execute_result"
    },
    {
     "data": {
      "image/png": "[encoded data removed]",
      "text/plain": [
       "<Figure size 640x480 with 1 Axes>"
      ]
     },
     "metadata": {},
     "output_type": "display_data"
    }
   ],
   "source": [
    "set_background(\"#d9deb8\")\n",
    "search_param('RandomForestClassifier', 'min_samples_leaf', X_train, y_train, X_val, y_val, range(1, 6), seed=15)\n",
    "gc.collect()"
   ]
  },
  {
   "cell_type": "markdown",
   "id": "7d791009",
   "metadata": {},
   "source": [
    "<font color='#4444AA' size = '4' face = 'Calibri'><a id = \"Model_T2_2\">2.3.2 <u>  Hyper Parameter Tuning</u></a></font>\n",
    "<div align = \"right\"><a href = '#top'>Back to Top</a></div>\n",
    "<div style ='background:#d9deb8'>\n",
    "</div>"
   ]
  },
  {
   "cell_type": "code",
   "execution_count": 44,
   "id": "4f3317ba",
   "metadata": {},
   "outputs": [
    {
     "data": {
      "text/html": [
       "<img src onerror=\"var cell = this.closest('.code_cell');var editor = cell.querySelector('.input_area');editor.style.background='#d9deb8';this.parentNode.removeChild(this)\">"
      ],
      "text/plain": [
       "<IPython.core.display.HTML object>"
      ]
     },
     "metadata": {},
     "output_type": "display_data"
    },
    {
     "name": "stdout",
     "output_type": "stream",
     "text": [
      "Fitting 3 folds for each of 36 candidates, totalling 108 fits\n",
      "Best Parameters :\n",
      "max_depth : 21\n",
      "n_estimators : 50\n"
     ]
    },
    {
     "data": {
      "text/plain": [
       "1794"
      ]
     },
     "execution_count": 44,
     "metadata": {},
     "output_type": "execute_result"
    }
   ],
   "source": [
    "set_background(\"#d9deb8\")\n",
    "gc.collect()\n",
    "rfc = RandomForestClassifier(random_state=15)\n",
    "param = {'n_estimators': [i for i in range(42, 51)], 'max_depth': [i for i in range(20, 24)]}\n",
    "gscv =  GridSearchCV(rfc, param, cv=3, n_jobs=-1, verbose=1)\n",
    "gscv.fit(X_train, y_train)\n",
    "print(f\"Best Parameters :\")\n",
    "for item in gscv.best_params_.keys():\n",
    "    print(f\"{item} : {gscv.best_params_[item]}\")\n",
    "gc.collect()"
   ]
  },
  {
   "cell_type": "markdown",
   "id": "f55fb118",
   "metadata": {},
   "source": [
    "<font color='#4444AA' size = '4' face = 'Calibri'><a id = \"Model_T2_3\">2.3.3 <u> Visualization of the importance of features</u></a></font>\n",
    "<div align = \"right\"><a href = '#top'>Back to Top</a></div>\n",
    "<div style ='background:#d9deb8'>\n",
    "</div>"
   ]
  },
  {
   "cell_type": "code",
   "execution_count": 45,
   "id": "cffdf4d3",
   "metadata": {},
   "outputs": [
    {
     "data": {
      "text/html": [
       "<img src onerror=\"var cell = this.closest('.code_cell');var editor = cell.querySelector('.input_area');editor.style.background='#d9deb8';this.parentNode.removeChild(this)\">"
      ],
      "text/plain": [
       "<IPython.core.display.HTML object>"
      ]
     },
     "metadata": {},
     "output_type": "display_data"
    },
    {
     "data": {
      "text/plain": [
       "<AxesSubplot:>"
      ]
     },
     "execution_count": 45,
     "metadata": {},
     "output_type": "execute_result"
    },
    {
     "data": {
      "image/png": "[encoded data removed]",
      "text/plain": [
       "<Figure size 1200x800 with 1 Axes>"
      ]
     },
     "metadata": {},
     "output_type": "display_data"
    }
   ],
   "source": [
    "set_background(\"#d9deb8\")\n",
    "best_c = gscv.best_estimator_\n",
    "imp = pd.DataFrame(best_c.feature_importances_, index=X_train.columns, columns=['importance'])\n",
    "imp.sort_values('importance').plot(kind='barh', figsize=(12, 8))"
   ]
  },
  {
   "cell_type": "code",
   "execution_count": 46,
   "id": "0ab2adbc",
   "metadata": {},
   "outputs": [
    {
     "data": {
      "text/html": [
       "<img src onerror=\"var cell = this.closest('.code_cell');var editor = cell.querySelector('.input_area');editor.style.background='#d9deb8';this.parentNode.removeChild(this)\">"
      ],
      "text/plain": [
       "<IPython.core.display.HTML object>"
      ]
     },
     "metadata": {},
     "output_type": "display_data"
    },
    {
     "name": "stdout",
     "output_type": "stream",
     "text": [
      " Best Score : 0.953084018507058\n"
     ]
    }
   ],
   "source": [
    "set_background(\"#d9deb8\")\n",
    "print(f\" Best Score : {best_c.score(X_test, y_test)}\")"
   ]
  },
  {
   "cell_type": "markdown",
   "id": "53acbb84",
   "metadata": {},
   "source": [
    "<font color='#4444AA' size = '4' face = 'Calibri'><a id = \"Model_T2_4\">2.3.4 <u> Performance Evaluation, Confusion matrix, AUC-ROC curve</u></a></font>\n",
    "<div align = \"right\"><a href = '#top'>Back to Top</a></div>\n",
    "<div style ='background:#d9deb8'>\n",
    "</div>"
   ]
  },
  {
   "cell_type": "markdown",
   "id": "0b4a1ed1",
   "metadata": {},
   "source": [
    "The plot displays the relationship between the True Positive Rate (TPR) and the False Positive Rate (FPR) of the model."
   ]
  },
  {
   "cell_type": "code",
   "execution_count": 47,
   "id": "7b00bab7",
   "metadata": {},
   "outputs": [
    {
     "data": {
      "text/html": [
       "<img src onerror=\"var cell = this.closest('.code_cell');var editor = cell.querySelector('.input_area');editor.style.background='#d9deb8';this.parentNode.removeChild(this)\">"
      ],
      "text/plain": [
       "<IPython.core.display.HTML object>"
      ]
     },
     "metadata": {},
     "output_type": "display_data"
    },
    {
     "name": "stdout",
     "output_type": "stream",
     "text": [
      "Random Forest Classifier: ROC AUC=0.991\n"
     ]
    },
    {
     "data": {
      "image/png": "[encoded data removed]",
      "text/plain": [
       "<Figure size 640x480 with 1 Axes>"
      ]
     },
     "metadata": {},
     "output_type": "display_data"
    }
   ],
   "source": [
    "set_background(\"#d9deb8\")\n",
    "dtc_proba=best_c.predict_proba(X_test)\n",
    "dtc_proba=dtc_proba[:,1]\n",
    "auc=roc_auc_score(y_test, dtc_proba)\n",
    "print('Random Forest Classifier: ROC AUC=%.3f' % (auc))\n",
    "lr_fpr, lr_tpr, _ = roc_curve([0 if y_test[i] == \"neutral or dissatisfied\" else 1 for i in range(len(y_test))], dtc_proba)\n",
    "plt.plot(lr_fpr, lr_tpr, marker='.', label='Random Forest Classifier')\n",
    "# axis labels\n",
    "plt.xlabel('False Positive Rate')\n",
    "plt.ylabel('True Positive Rate')\n",
    "# show the legend\n",
    "plt.legend()\n",
    "# show the plot\n",
    "plt.show()"
   ]
  },
  {
   "cell_type": "markdown",
   "id": "bbb8a22a",
   "metadata": {},
   "source": [
    "\n",
    "<font color='#4444AA' size = '4' face = 'Calibri'><a id = \"Model_T2_5\">2.3.5 <u>  Interpretation and comments</u></a></font>\n",
    "<div style ='background:#d9deb8'>\n",
    "Best accuracy is acheived with the following parameters\n",
    "max_depth: 21\n",
    "n_estimators: 50\n",
    "The best classification score is 0.991\n",
    "\n",
    "In this case, the AUC score for the Random Forest Classifier model is printed as 0.993, which indicates that the model is performing well. The ROC curve is shown in the plot, and it seems to be above the diagonal line, indicating that the model is better than random. The curve is closer to the ideal curve, which suggests that the model is doing a good job of classifying the positive and negative instances.\n",
    "\n",
    "Important features are\n",
    "<ul>\n",
    "    <li>Online boarding\n",
    "    <li>Inflight wifi service\n",
    "    <li>Inflight entertainment\n",
    "    <li>Type of Travel_Business travel\n",
    "    <li>Class_Business\n",
    "</ul>\n",
    "<div align = \"right\"><a href = '#top'>Back to Top</a></div>\n",
    "</div>"
   ]
  },
  {
   "cell_type": "markdown",
   "id": "6d000db5",
   "metadata": {},
   "source": [
    "<font color='#4444AA' size = '5' face = 'Calibri'><a id = \"Model_T3\">2.4 <u>  XG Boost Classifier</u></a></font>\n",
    "<hr>\n",
    "<font color='#4444AA' size = '4' face = 'Calibri'><a id = \"Model_T3_1\">2.4.1 <u>  Model Training</u></a></font>\n",
    "<div align = \"right\"><a href = '#top'>Back to Top</a></div>\n",
    "<div style ='background:#d9deb8'>\n",
    "</div>"
   ]
  },
  {
   "cell_type": "code",
   "execution_count": 48,
   "id": "0c845585",
   "metadata": {},
   "outputs": [
    {
     "data": {
      "text/html": [
       "<img src onerror=\"var cell = this.closest('.code_cell');var editor = cell.querySelector('.input_area');editor.style.background='#d9deb8';this.parentNode.removeChild(this)\">"
      ],
      "text/plain": [
       "<IPython.core.display.HTML object>"
      ]
     },
     "metadata": {},
     "output_type": "display_data"
    },
    {
     "name": "stdout",
     "output_type": "stream",
     "text": [
      "Model params: XGBClassifier(alpha=10, base_score=None, booster=None, callbacks=None,\n",
      "              colsample_bylevel=None, colsample_bynode=None,\n",
      "              colsample_bytree=None, early_stopping_rounds=None,\n",
      "              enable_categorical=False, eval_metric=None, feature_types=None,\n",
      "              gamma=None, gpu_id=None, grow_policy=None, importance_type=None,\n",
      "              interaction_constraints=None, learning_rate=1.0, max_bin=None,\n",
      "              max_cat_threshold=None, max_cat_to_onehot=None,\n",
      "              max_delta_step=None, max_depth=21, max_leaves=None,\n",
      "              min_child_weight=None, missing=nan, monotone_constraints=None,\n",
      "              n_estimators=100, n_jobs=None, num_parallel_tree=None,\n",
      "              predictor=None, ...)\n",
      "XGBoost model accuracy score: 0.9565\n"
     ]
    },
    {
     "data": {
      "text/plain": [
       "0"
      ]
     },
     "execution_count": 48,
     "metadata": {},
     "output_type": "execute_result"
    }
   ],
   "source": [
    "set_background(\"#d9deb8\")\n",
    "\n",
    "# declare parameters\n",
    "params = {\n",
    "            'objective':'binary:logistic',\n",
    "            'max_depth': 21,\n",
    "            'alpha': 10,\n",
    "            'learning_rate': 1.0,\n",
    "            'n_estimators':100\n",
    "        }\n",
    "                        \n",
    "# instantiate the classifier \n",
    "xgb_clf = XGBClassifier(**params)\n",
    "le = LabelEncoder()\n",
    "\n",
    "# fit the classifier to the training data\n",
    "y_ = le.fit_transform(y_train)\n",
    "xgb_clf.fit(X_train, y_)\n",
    "print(f\"Model params: {xgb_clf}\")\n",
    "gc.collect()\n",
    "\n",
    "y_pred = xgb_clf.predict(X_test)\n",
    "_y_test = le.fit_transform(y_test)\n",
    "\n",
    "print('XGBoost model accuracy score: {0:0.4f}'. format(accuracy_score(_y_test, y_pred)))\n",
    "gc.collect()"
   ]
  },
  {
   "cell_type": "markdown",
   "id": "1d4d165e",
   "metadata": {},
   "source": [
    "<font color='#4444AA' size = '4' face = 'Calibri'><a id = \"Model_T3_2\">2.4.2 <u>  Hyper Parameter Tuning</u></a></font>\n",
    "<div align = \"right\"><a href = '#top'>Back to Top</a></div>\n",
    "<div style ='background:#d9deb8'>\n",
    "</div>"
   ]
  },
  {
   "cell_type": "code",
   "execution_count": 49,
   "id": "803c5137",
   "metadata": {},
   "outputs": [
    {
     "data": {
      "text/html": [
       "<img src onerror=\"var cell = this.closest('.code_cell');var editor = cell.querySelector('.input_area');editor.style.background='#d9deb8';this.parentNode.removeChild(this)\">"
      ],
      "text/plain": [
       "<IPython.core.display.HTML object>"
      ]
     },
     "metadata": {},
     "output_type": "display_data"
    }
   ],
   "source": [
    "set_background(\"#d9deb8\")\n",
    "space={'max_depth': hp.quniform(\"max_depth\", 3, 51, 1),\n",
    "        'gamma': hp.uniform ('gamma', 1,9),\n",
    "        'reg_alpha' : hp.quniform('reg_alpha', 40,180,1),\n",
    "        'reg_lambda' : hp.uniform('reg_lambda', 0,1),\n",
    "        'colsample_bytree' : hp.uniform('colsample_bytree', 0.5,1),\n",
    "        'min_child_weight' : hp.quniform('min_child_weight', 0, 10, 1),\n",
    "        'n_estimators': 180,\n",
    "        'seed': 0\n",
    "    }\n",
    "\n",
    "def objective(space):\n",
    "    clf=xgb.XGBClassifier(\n",
    "                    n_estimators =space['n_estimators'], max_depth = int(space['max_depth']), gamma = space['gamma'],\n",
    "                    reg_alpha = int(space['reg_alpha']),min_child_weight=int(space['min_child_weight']),\n",
    "                    colsample_bytree=int(space['colsample_bytree']))\n",
    "    \n",
    "    evaluation = [( X_train, le.fit_transform(y_train)), ( X_val, le.fit_transform(y_val))]\n",
    "    \n",
    "    clf.fit(X_train, le.fit_transform(y_train),\n",
    "            eval_set=evaluation, eval_metric=\"auc\",\n",
    "            early_stopping_rounds=10,verbose=False)\n",
    "    \n",
    "\n",
    "    pred = clf.predict(X_test)\n",
    "    accuracy = accuracy_score(le.fit_transform(y_test),pred)\n",
    "    print (\"SCORE:\", accuracy)\n",
    "    return {'loss': -accuracy, 'status': STATUS_OK }"
   ]
  },
  {
   "cell_type": "code",
   "execution_count": 50,
   "id": "89cb034e",
   "metadata": {},
   "outputs": [
    {
     "data": {
      "text/html": [
       "<img src onerror=\"var cell = this.closest('.code_cell');var editor = cell.querySelector('.input_area');editor.style.background='#d9deb8';this.parentNode.removeChild(this)\">"
      ],
      "text/plain": [
       "<IPython.core.display.HTML object>"
      ]
     },
     "metadata": {},
     "output_type": "display_data"
    },
    {
     "name": "stdout",
     "output_type": "stream",
     "text": [
      "SCORE:                                                                                                                 \n",
      "0.9016002121828308                                                                                                     \n",
      "SCORE:                                                                                                                 \n",
      "0.8969734476763033                                                                                                     \n",
      "SCORE:                                                                                                                 \n",
      "0.8968260984881973                                                                                                     \n",
      "SCORE:                                                                                                                 \n",
      "0.8970029175139245                                                                                                     \n",
      "SCORE:                                                                                                                 \n",
      "0.9016002121828308                                                                                                     \n",
      "SCORE:                                                                                                                 \n",
      "0.8957062446585919                                                                                                     \n",
      "SCORE:                                                                                                                 \n",
      "0.8969734476763033                                                                                                     \n",
      "SCORE:                                                                                                                 \n",
      "0.8956767748209707                                                                                                     \n",
      "SCORE:                                                                                                                 \n",
      "0.9004803583532255                                                                                                     \n",
      "SCORE:                                                                                                                 \n",
      "0.9032210532519965                                                                                                     \n",
      "SCORE:                                                                                                                 \n",
      "0.896177762060531                                                                                                      \n",
      "SCORE:                                                                                                                 \n",
      "0.8957062446585919                                                                                                     \n",
      "SCORE:                                                                                                                 \n",
      "0.8964429905991218                                                                                                     \n",
      "SCORE:                                                                                                                 \n",
      "0.8955294256328648                                                                                                     \n",
      "SCORE:                                                                                                                 \n",
      "0.8955883653081071                                                                                                     \n",
      "SCORE:                                                                                                                 \n",
      "0.8962661715733946                                                                                                     \n",
      "SCORE:                                                                                                                 \n",
      "0.8970323873515457                                                                                                     \n",
      "SCORE:                                                                                                                 \n",
      "0.8963545810862582                                                                                                     \n",
      "SCORE:                                                                                                                 \n",
      "0.8970913270267881                                                                                                     \n",
      "SCORE:                                                                                                                 \n",
      "0.9006866472165739                                                                                                     \n",
      "SCORE:                                                                                                                 \n",
      "0.9034862817905873                                                                                                     \n",
      "SCORE:                                                                                                                 \n",
      "0.9036336309786933                                                                                                     \n",
      "SCORE:                                                                                                                 \n",
      "0.8979754221554239                                                                                                     \n",
      "SCORE:                                                                                                                 \n",
      "0.9035452214658297                                                                                                     \n",
      "SCORE:                                                                                                                 \n",
      "0.8979754221554239                                                                                                     \n",
      "SCORE:                                                                                                                 \n",
      "0.9035452214658297                                                                                                     \n",
      "SCORE:                                                                                                                 \n",
      "0.9008929360799222                                                                                                     \n",
      "SCORE:                                                                                                                 \n",
      "0.8979459523178027                                                                                                     \n",
      "SCORE:                                                                                                                 \n",
      "0.8956767748209707                                                                                                     \n",
      "SCORE:                                                                                                                 \n",
      "0.9011876344561341                                                                                                     \n",
      "SCORE:                                                                                                                 \n",
      "0.901158164618513                                                                                                      \n",
      "SCORE:                                                                                                                 \n",
      "0.9001856599770135                                                                                                     \n",
      "SCORE:                                                                                                                 \n",
      "0.8978280729673179                                                                                                     \n",
      "SCORE:                                                                                                                 \n",
      "0.8962956414110158                                                                                                     \n",
      "SCORE:                                                                                                                 \n",
      "0.9015707423452097                                                                                                     \n",
      "SCORE:                                                                                                                 \n",
      "0.8970323873515457                                                                                                     \n",
      "SCORE:                                                                                                                 \n",
      "0.8978575428049391                                                                                                     \n",
      "SCORE:                                                                                                                 \n",
      "0.8967966286505762                                                                                                     \n",
      "SCORE:                                                                                                                 \n",
      "0.9035746913034509                                                                                                     \n",
      "SCORE:                                                                                                                 \n",
      "0.9006866472165739                                                                                                     \n",
      "SCORE:                                                                                                                 \n",
      "0.901629682020452                                                                                                      \n",
      "SCORE:                                                                                                                 \n",
      "0.8962367017357734                                                                                                     \n",
      "SCORE:                                                                                                                 \n",
      "0.900863466242301                                                                                                      \n",
      "SCORE:                                                                                                                 \n",
      "0.8971797365396517                                                                                                     \n",
      "SCORE:                                                                                                                 \n",
      "0.9016002121828308                                                                                                     \n",
      "SCORE:                                                                                                                 \n",
      "0.9013939233194825                                                                                                     \n",
      "SCORE:                                                                                                                 \n",
      "0.9003035393274983                                                                                                     \n",
      "SCORE:                                                                                                                 \n",
      "0.8962072318981522                                                                                                     \n",
      "SCORE:                                                                                                                 \n",
      "0.8979164824801815                                                                                                     \n",
      "SCORE:                                                                                                                 \n",
      "0.9008045265670586                                                                                                     \n",
      "SCORE:                                                                                                                 \n",
      "0.8970618571891669                                                                                                     \n",
      "SCORE:                                                                                                                 \n",
      "0.9033684024401025                                                                                                     \n",
      "SCORE:                                                                                                                 \n",
      "0.8962956414110158                                                                                                     \n",
      "SCORE:                                                                                                                 \n",
      "0.8971502667020305                                                                                                     \n",
      "SCORE:                                                                                                                 \n",
      "0.8957062446585919                                                                                                     \n",
      "SCORE:                                                                                                                 \n",
      "0.8972976158901365                                                                                                     \n",
      "SCORE:                                                                                                                 \n",
      "0.895558895470486                                                                                                      \n",
      "SCORE:                                                                                                                 \n",
      "0.9016002121828308                                                                                                     \n",
      "SCORE:                                                                                                                 \n",
      "0.9036041611410721                                                                                                     \n",
      "SCORE:                                                                                                                 \n",
      "0.9009224059175434                                                                                                     \n",
      "SCORE:                                                                                                                 \n",
      "0.8957062446585919                                                                                                     \n",
      "SCORE:                                                                                                                 \n",
      "0.8979164824801815                                                                                                     \n",
      "SCORE:                                                                                                                 \n",
      "0.8957946541714555                                                                                                     \n",
      "SCORE:                                                                                                                 \n",
      "0.9001267203017711                                                                                                     \n",
      "SCORE:                                                                                                                 \n",
      "0.896325111248637                                                                                                      \n",
      "SCORE:                                                                                                                 \n",
      "0.9007455868918163                                                                                                     \n",
      "SCORE:                                                                                                                 \n",
      "0.9034862817905873                                                                                                     \n",
      "SCORE:                                                                                                                 \n",
      "0.9035452214658297                                                                                                     \n"
     ]
    },
    {
     "name": "stdout",
     "output_type": "stream",
     "text": [
      "SCORE:                                                                                                                 \n",
      "0.9015707423452097                                                                                                     \n",
      "SCORE:                                                                                                                 \n",
      "0.9015707423452097                                                                                                     \n",
      "SCORE:                                                                                                                 \n",
      "0.9008929360799222                                                                                                     \n",
      "SCORE:                                                                                                                 \n",
      "0.9035452214658297                                                                                                     \n",
      "SCORE:                                                                                                                 \n",
      "0.9007750567294375                                                                                                     \n",
      "SCORE:                                                                                                                 \n",
      "0.9000972504641499                                                                                                     \n",
      "SCORE:                                                                                                                 \n",
      "0.9012465741313765                                                                                                     \n",
      "SCORE:                                                                                                                 \n",
      "0.9033389326024813                                                                                                     \n",
      "SCORE:                                                                                                                 \n",
      "0.8967966286505762                                                                                                     \n",
      "SCORE:                                                                                                                 \n",
      "0.9008045265670586                                                                                                     \n",
      "SCORE:                                                                                                                 \n",
      "0.9005982377037103                                                                                                     \n",
      "SCORE:                                                                                                                 \n",
      "0.8977396634544543                                                                                                     \n",
      "SCORE:                                                                                                                 \n",
      "0.9036336309786933                                                                                                     \n",
      "SCORE:                                                                                                                 \n",
      "0.8962956414110158                                                                                                     \n",
      "SCORE:                                                                                                                 \n",
      "0.9016002121828308                                                                                                     \n",
      "SCORE:                                                                                                                 \n",
      "0.896177762060531                                                                                                      \n",
      "SCORE:                                                                                                                 \n",
      "0.8979754221554239                                                                                                     \n",
      "SCORE:                                                                                                                 \n",
      "0.8970029175139245                                                                                                     \n",
      "SCORE:                                                                                                                 \n",
      "0.9006866472165739                                                                                                     \n",
      "SCORE:                                                                                                                 \n",
      "0.9034568119529661                                                                                                     \n",
      "SCORE:                                                                                                                 \n",
      "0.8968850381634397                                                                                                     \n",
      "SCORE:                                                                                                                 \n",
      "0.9016002121828308                                                                                                     \n",
      "SCORE:                                                                                                                 \n",
      "0.9036041611410721                                                                                                     \n",
      "SCORE:                                                                                                                 \n",
      "0.9013939233194825                                                                                                     \n",
      "SCORE:                                                                                                                 \n",
      "0.8963545810862582                                                                                                     \n",
      "SCORE:                                                                                                                 \n",
      "0.9005982377037103                                                                                                     \n",
      "SCORE:                                                                                                                 \n",
      "0.9036336309786933                                                                                                     \n",
      "SCORE:                                                                                                                 \n",
      "0.8977396634544543                                                                                                     \n",
      "SCORE:                                                                                                                 \n",
      "0.8956767748209707                                                                                                     \n",
      "SCORE:                                                                                                                 \n",
      "0.9008045265670586                                                                                                     \n",
      "SCORE:                                                                                                                 \n",
      "0.9002740694898771                                                                                                     \n",
      "SCORE:                                                                                                                 \n",
      "0.9035157516282085                                                                                                     \n",
      "100%|█████████████████████████████████████████████| 100/100 [02:39<00:00,  1.60s/trial, best loss: -0.9036336309786933]\n"
     ]
    }
   ],
   "source": [
    "set_background(\"#d9deb8\")\n",
    "trials = Trials()\n",
    "\n",
    "best_hyperparams = fmin(fn = objective,\n",
    "                        space = space,\n",
    "                        algo = tpe.suggest,\n",
    "                        max_evals = 100,\n",
    "                        trials = trials)"
   ]
  },
  {
   "cell_type": "code",
   "execution_count": 51,
   "id": "da181917",
   "metadata": {},
   "outputs": [
    {
     "data": {
      "text/html": [
       "<img src onerror=\"var cell = this.closest('.code_cell');var editor = cell.querySelector('.input_area');editor.style.background='#d9deb8';this.parentNode.removeChild(this)\">"
      ],
      "text/plain": [
       "<IPython.core.display.HTML object>"
      ]
     },
     "metadata": {},
     "output_type": "display_data"
    },
    {
     "name": "stdout",
     "output_type": "stream",
     "text": [
      "The best hyperparameters are :  \n",
      "\n",
      "{'colsample_bytree': 0.5701671354125102, 'gamma': 3.0780932750067795, 'max_depth': 46.0, 'min_child_weight': 6.0, 'reg_alpha': 40.0, 'reg_lambda': 0.3189659590208816}\n"
     ]
    }
   ],
   "source": [
    "set_background(\"#d9deb8\")\n",
    "print(\"The best hyperparameters are : \",\"\\n\")\n",
    "print(best_hyperparams)\n",
    "     "
   ]
  },
  {
   "cell_type": "markdown",
   "id": "abf0ae4d",
   "metadata": {},
   "source": [
    "#### Training Model on the best parameters"
   ]
  },
  {
   "cell_type": "code",
   "execution_count": 52,
   "id": "c4660703",
   "metadata": {},
   "outputs": [
    {
     "data": {
      "text/html": [
       "<img src onerror=\"var cell = this.closest('.code_cell');var editor = cell.querySelector('.input_area');editor.style.background='#d9deb8';this.parentNode.removeChild(this)\">"
      ],
      "text/plain": [
       "<IPython.core.display.HTML object>"
      ]
     },
     "metadata": {},
     "output_type": "display_data"
    },
    {
     "name": "stdout",
     "output_type": "stream",
     "text": [
      "Acuuracy: 0.9496655173429994\n"
     ]
    }
   ],
   "source": [
    "set_background(\"#d9deb8\")\n",
    "params = {'colsample_bytree': 0.6911920435612005, 'gamma': 8.593324118055857, 'max_depth': 37, \n",
    "          'min_child_weight': 9.0, 'reg_alpha': 72.0, 'reg_lambda': 0.7966579413290078}\n",
    "     \n",
    "clf = xgb.XGBClassifier(n_estimators=1000, max_depth=int(params['max_depth']), gamma=params['gamma'],\n",
    "                        reg_alpha=params['reg_alpha'], min_child_weight=params['min_child_weight'],\n",
    "                        colsample_bytree=params['colsample_bytree'])\n",
    "    \n",
    "evaluation = [( X_train, le.fit_transform(y_train)), ( X_test, le.fit_transform(y_test))]\n",
    "    \n",
    "clf.fit(X_train, le.fit_transform(y_train))\n",
    "best_pred = clf.predict(X_test)\n",
    "accuracy = accuracy_score(le.fit_transform(y_test),best_pred)\n",
    "     \n",
    "print(f\"Acuuracy: {accuracy}\")"
   ]
  },
  {
   "cell_type": "markdown",
   "id": "b83ea646",
   "metadata": {},
   "source": [
    "<font color='#4444AA' size = '4' face = 'Calibri'><a id = \"Model_T3_3\">2.3.3 <u> Visualization of the importance of features</u></a></font>\n",
    "<div align = \"right\"><a href = '#top'>Back to Top</a></div>\n",
    "<div style ='background:#d9deb8'>\n",
    "</div>"
   ]
  },
  {
   "cell_type": "code",
   "execution_count": 53,
   "id": "36e31d9a",
   "metadata": {},
   "outputs": [
    {
     "data": {
      "text/html": [
       "<img src onerror=\"var cell = this.closest('.code_cell');var editor = cell.querySelector('.input_area');editor.style.background='#d9deb8';this.parentNode.removeChild(this)\">"
      ],
      "text/plain": [
       "<IPython.core.display.HTML object>"
      ]
     },
     "metadata": {},
     "output_type": "display_data"
    },
    {
     "data": {
      "image/png": "[encoded data removed]",
      "text/plain": [
       "<Figure size 640x480 with 1 Axes>"
      ]
     },
     "metadata": {},
     "output_type": "display_data"
    }
   ],
   "source": [
    "set_background(\"#d9deb8\")\n",
    "xgb.plot_importance(clf)\n",
    "plt.rcParams['figure.figsize'] = [6, 4]\n",
    "plt.show()"
   ]
  },
  {
   "cell_type": "markdown",
   "id": "2a6ce253",
   "metadata": {},
   "source": [
    "<font color='#4444AA' size = '4' face = 'Calibri'><a id = \"Model_T3_4\">2.3.4 <u> Performance Evaluation, Confusion matrix</u></a></font>\n",
    "<div align = \"right\"><a href = '#top'>Back to Top</a></div>\n",
    "<div style ='background:#d9deb8'>\n",
    "</div>"
   ]
  },
  {
   "cell_type": "code",
   "execution_count": 54,
   "id": "e271692f",
   "metadata": {},
   "outputs": [
    {
     "data": {
      "text/html": [
       "<img src onerror=\"var cell = this.closest('.code_cell');var editor = cell.querySelector('.input_area');editor.style.background='#d9deb8';this.parentNode.removeChild(this)\">"
      ],
      "text/plain": [
       "<IPython.core.display.HTML object>"
      ]
     },
     "metadata": {},
     "output_type": "display_data"
    },
    {
     "data": {
      "text/html": [
       "<div>\n",
       "<style scoped>\n",
       "    .dataframe tbody tr th:only-of-type {\n",
       "        vertical-align: middle;\n",
       "    }\n",
       "\n",
       "    .dataframe tbody tr th {\n",
       "        vertical-align: top;\n",
       "    }\n",
       "\n",
       "    .dataframe thead th {\n",
       "        text-align: right;\n",
       "    }\n",
       "</style>\n",
       "<table border=\"1\" class=\"dataframe\">\n",
       "  <thead>\n",
       "    <tr style=\"text-align: right;\">\n",
       "      <th></th>\n",
       "      <th>train-auc-mean</th>\n",
       "      <th>train-auc-std</th>\n",
       "      <th>test-auc-mean</th>\n",
       "      <th>test-auc-std</th>\n",
       "    </tr>\n",
       "  </thead>\n",
       "  <tbody>\n",
       "    <tr>\n",
       "      <th>0</th>\n",
       "      <td>0.954945</td>\n",
       "      <td>0.001939</td>\n",
       "      <td>0.954716</td>\n",
       "      <td>0.003885</td>\n",
       "    </tr>\n",
       "    <tr>\n",
       "      <th>1</th>\n",
       "      <td>0.961668</td>\n",
       "      <td>0.001985</td>\n",
       "      <td>0.961245</td>\n",
       "      <td>0.002675</td>\n",
       "    </tr>\n",
       "    <tr>\n",
       "      <th>2</th>\n",
       "      <td>0.966336</td>\n",
       "      <td>0.003201</td>\n",
       "      <td>0.966354</td>\n",
       "      <td>0.002526</td>\n",
       "    </tr>\n",
       "    <tr>\n",
       "      <th>3</th>\n",
       "      <td>0.968088</td>\n",
       "      <td>0.001880</td>\n",
       "      <td>0.967954</td>\n",
       "      <td>0.000841</td>\n",
       "    </tr>\n",
       "    <tr>\n",
       "      <th>4</th>\n",
       "      <td>0.969411</td>\n",
       "      <td>0.001270</td>\n",
       "      <td>0.969182</td>\n",
       "      <td>0.000652</td>\n",
       "    </tr>\n",
       "  </tbody>\n",
       "</table>\n",
       "</div>"
      ],
      "text/plain": [
       "   train-auc-mean  train-auc-std  test-auc-mean  test-auc-std\n",
       "0        0.954945       0.001939       0.954716      0.003885\n",
       "1        0.961668       0.001985       0.961245      0.002675\n",
       "2        0.966336       0.003201       0.966354      0.002526\n",
       "3        0.968088       0.001880       0.967954      0.000841\n",
       "4        0.969411       0.001270       0.969182      0.000652"
      ]
     },
     "execution_count": 54,
     "metadata": {},
     "output_type": "execute_result"
    }
   ],
   "source": [
    "set_background(\"#d9deb8\")\n",
    "y_num = []\n",
    "y_num = [0 if y[i] == \"neutral or dissatisfied\" else 1 for i in range(len(y))]\n",
    "# define data_dmatrix\n",
    "data_dmatrix = xgb.DMatrix(data=X,label=y_num)\n",
    "xgb_cv = cv(dtrain=data_dmatrix, params=params, nfold=3,\n",
    "                    num_boost_round=50, early_stopping_rounds=10, metrics=\"auc\", as_pandas=True, seed=123)\n",
    "\n",
    "xgb_cv.head()     "
   ]
  },
  {
   "cell_type": "code",
   "execution_count": 55,
   "id": "73bf1544",
   "metadata": {},
   "outputs": [
    {
     "data": {
      "text/html": [
       "<img src onerror=\"var cell = this.closest('.code_cell');var editor = cell.querySelector('.input_area');editor.style.background='#d9deb8';this.parentNode.removeChild(this)\">"
      ],
      "text/plain": [
       "<IPython.core.display.HTML object>"
      ]
     },
     "metadata": {},
     "output_type": "display_data"
    },
    {
     "name": "stdout",
     "output_type": "stream",
     "text": [
      "              precision    recall  f1-score   support\n",
      "\n",
      "           0       0.94      0.97      0.96     19141\n",
      "           1       0.96      0.92      0.94     14792\n",
      "\n",
      "    accuracy                           0.95     33933\n",
      "   macro avg       0.95      0.95      0.95     33933\n",
      "weighted avg       0.95      0.95      0.95     33933\n",
      "\n"
     ]
    }
   ],
   "source": [
    "set_background(\"#d9deb8\")\n",
    "print(classification_report(le.fit_transform(y_test),best_pred))"
   ]
  },
  {
   "cell_type": "code",
   "execution_count": 56,
   "id": "a35d8855",
   "metadata": {},
   "outputs": [
    {
     "data": {
      "text/html": [
       "<img src onerror=\"var cell = this.closest('.code_cell');var editor = cell.querySelector('.input_area');editor.style.background='#d9deb8';this.parentNode.removeChild(this)\">"
      ],
      "text/plain": [
       "<IPython.core.display.HTML object>"
      ]
     },
     "metadata": {},
     "output_type": "display_data"
    },
    {
     "data": {
      "text/plain": [
       "12545"
      ]
     },
     "execution_count": 56,
     "metadata": {},
     "output_type": "execute_result"
    },
    {
     "data": {
      "image/png": "[encoded data removed]",
      "text/plain": [
       "<Figure size 600x400 with 2 Axes>"
      ]
     },
     "metadata": {},
     "output_type": "display_data"
    }
   ],
   "source": [
    "set_background(\"#d9deb8\")\n",
    "predictions =  clf.predict(X_test)\n",
    "\n",
    "confusion_matrix = metrics.confusion_matrix(le.fit_transform(y_test), predictions)\n",
    "class_names=['neutral or dissatisfied','satisfied'] # name  of classes\n",
    "fig, ax = plt.subplots()\n",
    "tick_marks = np.arange(len(class_names))\n",
    "plt.xticks(tick_marks, class_names)\n",
    "plt.yticks(tick_marks, class_names)\n",
    "# create heatmap\n",
    "sns.heatmap(pd.DataFrame(confusion_matrix), annot=True, cmap=\"YlGnBu\" ,fmt='g')\n",
    "ax.xaxis.set_label_position(\"top\")\n",
    "plt.tight_layout()\n",
    "plt.title('Confusion matrix', y=1.1)\n",
    "plt.ylabel('Actual label')\n",
    "plt.xlabel('Predicted label')\n",
    "gc.collect()"
   ]
  },
  {
   "cell_type": "markdown",
   "id": "69dbc994",
   "metadata": {},
   "source": [
    "<font color='#4444AA' size = '4' face = 'Calibri'><a id = \"Model_T3_5\">2.3.5 <u>  Interpretation and comments</u></a></font>\n",
    "<div style ='background:#d9deb8'>\n",
    "Best parameters:\n",
    "\n",
    "colsample_bytree: 0.691\n",
    "\n",
    "gamma: 8.593\n",
    "\n",
    "max_depth' 37.0\n",
    "\n",
    "min_child_weight: 9.0\n",
    "\n",
    "reg_alpha': 72.0\n",
    "\n",
    "reg_lambda: 0.797\n",
    "\n",
    "Accuacy using the best parameters - 0.95\n",
    "\n",
    "Top 5 important features\n",
    "<ul>\n",
    "    <li>Inflight wifi service\n",
    "    <li>Online boarding\n",
    "    <li>Baggage Handling\n",
    "    <li>Inflight Service\n",
    "    <li>LoyalCustomer\n",
    "</ul>\n",
    "<div align = \"right\"><a href = '#top'>Back to Top</a></div>\n",
    "</div>"
   ]
  }
 ],
 "metadata": {
  "kernelspec": {
   "display_name": "Python 3 (ipykernel)",
   "language": "python",
   "name": "python3"
  },
  "language_info": {
   "codemirror_mode": {
    "name": "ipython",
    "version": 3
   },
   "file_extension": ".py",
   "mimetype": "text/x-python",
   "name": "python",
   "nbconvert_exporter": "python",
   "pygments_lexer": "ipython3",
   "version": "3.9.12"
  },
  "vscode": {
   "interpreter": {
    "hash": "ad2bdc8ecc057115af97d19610ffacc2b4e99fae6737bb82f5d7fb13d2f2c186"
   }
  }
 },
 "nbformat": 4,
 "nbformat_minor": 5
}

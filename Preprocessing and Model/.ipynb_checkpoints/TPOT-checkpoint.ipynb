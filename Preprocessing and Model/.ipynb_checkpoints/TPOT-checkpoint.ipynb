{
 "cells": [
  {
   "cell_type": "code",
   "execution_count": null,
   "metadata": {
    "id": "DrP6HjrfJT_2"
   },
   "outputs": [],
   "source": [
    "import tensorflow as tf\n",
    "tf.test.gpu_device_name()"
   ]
  },
  {
   "cell_type": "code",
   "execution_count": null,
   "metadata": {
    "id": "eoYfYIBQF-xf"
   },
   "outputs": [],
   "source": [
    "!pip install tpot\n",
    "import pandas as pd\n",
    "from tpot import TPOTClassifier\n",
    "from sklearn.preprocessing import LabelEncoder\n",
    "import warnings\n",
    "warnings.filterwarnings('ignore')"
   ]
  },
  {
   "cell_type": "markdown",
   "metadata": {
    "id": "FnbuXJtnMjQD"
   },
   "source": []
  },
  {
   "cell_type": "code",
   "execution_count": null,
   "metadata": {
    "id": "xmfJ-dS_Hdu9"
   },
   "outputs": [],
   "source": [
    "df_train = pd.read_csv('sample_data/airplane_train_processed_date.csv')\n",
    "df_val = pd.read_csv('sample_data/airplane_test_processed_date.csv')"
   ]
  },
  {
   "cell_type": "code",
   "execution_count": null,
   "metadata": {
    "id": "4JFfQyuBHseY"
   },
   "outputs": [],
   "source": [
    "features = ['Gender_Female', 'Customer Type_Loyal Customer',\n",
    "       'Type of Travel_Business travel',\n",
    "       'Type of Travel_Personal Travel', 'Class_Business',\n",
    "       'Class_Eco', 'Age',\n",
    "       'Flight Distance', 'Departure Delay in Minutes',\n",
    "       'Arrival Delay in Minutes', 'Inflight wifi service',\n",
    "       'Departure/Arrival time convenient',\n",
    "       'Ease of Online booking', 'Gate location',\n",
    "       'Food and drink', 'Online boarding',\n",
    "       'Seat comfort', 'Inflight entertainment',\n",
    "       'On-board service', 'Leg room service',\n",
    "       'Baggage handling', 'Checkin service',\n",
    "       'Inflight service', 'Cleanliness']\n",
    "\n",
    "le = LabelEncoder()\n",
    "X_train = df_train[features]\n",
    "y_train = df_train['satisfaction']\n",
    "y_train = le.fit_transform(y_train)\n",
    "\n",
    "X_val = df_val[features]\n",
    "y_val = df_val['satisfaction']\n",
    "y_val = le.fit_transform(y_val)\n",
    "\n",
    "X_train.shape, X_val.shape, y_train.shape, y_val.shape"
   ]
  },
  {
   "cell_type": "code",
   "execution_count": null,
   "metadata": {
    "id": "WTHhQ4HgIlkR"
   },
   "outputs": [],
   "source": [
    "tpot = TPOTClassifier(generations=5, population_size=30, verbosity=2) #default: 100 generations with 100 population size\n",
    "tpot.fit(X_train, y_train)"
   ]
  },
  {
   "cell_type": "code",
   "execution_count": null,
   "metadata": {
    "id": "9yj0eLY7JTH0"
   },
   "outputs": [],
   "source": [
    "print(\"Accuracy is {}%\".format(tpot.score(X_val, y_val)*100))"
   ]
  },
  {
   "cell_type": "code",
   "execution_count": null,
   "metadata": {
    "id": "H9AsjBKkw10D"
   },
   "outputs": [],
   "source": [
    "tpot.export('tpot_pipeline_final.py')"
   ]
  }
 ],
 "metadata": {
  "accelerator": "GPU",
  "colab": {
   "private_outputs": true,
   "provenance": []
  },
  "gpuClass": "standard",
  "kernelspec": {
   "display_name": "Python 3 (ipykernel)",
   "language": "python",
   "name": "python3"
  },
  "language_info": {
   "codemirror_mode": {
    "name": "ipython",
    "version": 3
   },
   "file_extension": ".py",
   "mimetype": "text/x-python",
   "name": "python",
   "nbconvert_exporter": "python",
   "pygments_lexer": "ipython3",
   "version": "3.8.2"
  }
 },
 "nbformat": 4,
 "nbformat_minor": 1
}

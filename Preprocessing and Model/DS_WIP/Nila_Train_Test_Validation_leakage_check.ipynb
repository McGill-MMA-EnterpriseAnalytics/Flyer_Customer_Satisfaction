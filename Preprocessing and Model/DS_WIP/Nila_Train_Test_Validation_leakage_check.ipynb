{
 "cells": [
  {
   "cell_type": "markdown",
   "metadata": {
    "id": "2f3aVY-abr8I"
   },
   "source": [
    "# Train-Test-Validation leakage check"
   ]
  },
  {
   "cell_type": "markdown",
   "metadata": {
    "id": "5HHA3QVYX0jP"
   },
   "source": [
    "Train-test-validation data leakage is an important concept in machine learning that refers to situations where information from the validation or test sets is inadvertently used in the training process, leading to overly optimistic performance estimates and poor generalization performance. Data leakage can occur when the training, validation, and testing datasets are not properly separated or when features that should be excluded from the training process are inadvertently included. Identifying and preventing train-test-validation data leakage is crucial for building accurate and reliable machine learning models.\n",
    "\n",
    "\n",
    "\n",
    "\n"
   ]
  },
  {
   "cell_type": "code",
   "execution_count": 11,
   "metadata": {
    "id": "4Pb20fJkTlJa"
   },
   "outputs": [],
   "source": [
    "from sklearn.model_selection import train_test_split, cross_val_score\n",
    "from sklearn.pipeline import make_pipeline\n",
    "from sklearn.preprocessing import StandardScaler\n",
    "from sklearn.pipeline import make_pipeline\n",
    "from sklearn.model_selection import cross_val_score\n",
    "import xgboost as xgb\n",
    "from sklearn.metrics import accuracy_score"
   ]
  },
  {
   "cell_type": "code",
   "execution_count": 21,
   "metadata": {
    "id": "xkrZi5qMTwjp"
   },
   "outputs": [],
   "source": [
    "import pandas as pd\n",
    "\n",
    "# Read the data\n",
    "data_train = pd.read_csv('/content/drive/MyDrive/Enterprise Data Science Group Project 2/airplane_train_processed_date.csv', \n",
    "                   true_values = ['yes'], false_values = ['no'])\n",
    "\n",
    "data_val = pd.read_csv('/content/drive/MyDrive/Enterprise Data Science Group Project 2/airplane_test_processed_date.csv', \n",
    "                   true_values = ['yes'], false_values = ['no'])"
   ]
  },
  {
   "cell_type": "code",
   "execution_count": 22,
   "metadata": {
    "id": "kQbyRwCvUWzu"
   },
   "outputs": [],
   "source": [
    "# Select target\n",
    "y_1 = data_train.satisfaction\n",
    "y_1_num = [0 if y_1[i] == \"neutral or dissatisfied\" else 1 for i in range(len(y_1))]\n",
    "\n",
    "# Select predictors\n",
    "X_1 = data_train.drop(['satisfaction'], axis=1)"
   ]
  },
  {
   "cell_type": "code",
   "execution_count": 23,
   "metadata": {
    "id": "8gYs1eZmV2IS"
   },
   "outputs": [],
   "source": [
    "# Convert 'Date' column to datetime data type\n",
    "X_1['Date'] = pd.to_datetime(X_1['Date'])\n",
    "\n",
    "# Extracting relevant information from 'Date'\n",
    "X_1['Year'] = X_1['Date'].dt.year\n",
    "X_1['Month'] = X_1['Date'].dt.month\n",
    "X_1['Day'] = X_1['Date'].dt.day\n",
    "\n",
    "# Drop the original 'Date' column\n",
    "X_1.drop('Date', axis=1, inplace=True)"
   ]
  },
  {
   "cell_type": "code",
   "execution_count": 24,
   "metadata": {
    "id": "BYUQ0lPEUUfw"
   },
   "outputs": [],
   "source": [
    "from sklearn.model_selection import train_test_split\n",
    "X_train, X_test, y_train, y_test = train_test_split(X_1, y_1_num, test_size = 0.33, random_state = 5)"
   ]
  },
  {
   "cell_type": "code",
   "execution_count": 25,
   "metadata": {
    "id": "67zLFwxSU8T7"
   },
   "outputs": [],
   "source": [
    "X_val = data_val[['Flight Distance', 'Departure Delay in Minutes',\n",
    "       'Arrival Delay in Minutes', 'Gender_Female', 'Gender_Male',\n",
    "       'Customer Type_Loyal Customer', 'Customer Type_disloyal Customer',\n",
    "       'Type of Travel_Business travel', 'Type of Travel_Personal Travel',\n",
    "       'Class_Business', 'Class_Eco', 'Class_Eco Plus', 'Age',\n",
    "       'Inflight wifi service', 'Departure/Arrival time convenient',\n",
    "       'Ease of Online booking', 'Gate location', 'Food and drink',\n",
    "       'Online boarding', 'Seat comfort', 'Inflight entertainment',\n",
    "       'On-board service', 'Leg room service', 'Baggage handling',\n",
    "       'Checkin service', 'Inflight service', 'Cleanliness',\"Date\"]]\n",
    "\n",
    "y_val = data_val['satisfaction'].values\n",
    "\n",
    "y_val = [0 if y_val[i] == \"neutral or dissatisfied\" else 1 for i in range(len(y_val))]\n"
   ]
  },
  {
   "cell_type": "code",
   "execution_count": 26,
   "metadata": {
    "colab": {
     "base_uri": "https://localhost:8080/"
    },
    "id": "ej98fWg2V38L",
    "outputId": "5e324067-06d0-4f9b-eb6b-3b22451acfad"
   },
   "outputs": [
    {
     "name": "stderr",
     "output_type": "stream",
     "text": [
      "<ipython-input-26-bdffc9c29af6>:2: SettingWithCopyWarning: \n",
      "A value is trying to be set on a copy of a slice from a DataFrame.\n",
      "Try using .loc[row_indexer,col_indexer] = value instead\n",
      "\n",
      "See the caveats in the documentation: https://pandas.pydata.org/pandas-docs/stable/user_guide/indexing.html#returning-a-view-versus-a-copy\n",
      "  X_val['Date'] = pd.to_datetime(X_val['Date'])\n"
     ]
    }
   ],
   "source": [
    "# Convert 'Date' column to datetime data type\n",
    "X_val['Date'] = pd.to_datetime(X_val['Date'])\n",
    "\n",
    "# Extracting relevant information from 'Date'\n",
    "X_val['Year'] = X_val['Date'].dt.year\n",
    "X_val['Month'] = X_val['Date'].dt.month\n",
    "X_val['Day'] = X_val['Date'].dt.day\n",
    "\n",
    "# Drop the original 'Date' column\n",
    "X_val.drop('Date', axis=1, inplace=True)"
   ]
  },
  {
   "cell_type": "code",
   "execution_count": 27,
   "metadata": {
    "id": "QQAgUa2VVoVH"
   },
   "outputs": [],
   "source": [
    "params = {'colsample_bytree': 0.6911920435612005, 'gamma': 8.593324118055857, 'max_depth': 37, 'min_child_weight': 9.0, 'reg_alpha': 72.0, 'reg_lambda': 0.7966579413290078}\n"
   ]
  },
  {
   "cell_type": "markdown",
   "metadata": {
    "id": "xlPvOEqwbzD9"
   },
   "source": [
    "The following code checks if there is a data leakage between the train-test-validation datasets.\n",
    "\n",
    "This code trains an XGBoost classification model which was the model with best accuracy in compariosn with the other models using a pipeline that applies StandardScaler to the input features and sets several hyperparameters for the XGBClassifier. It then uses cross-validation to make predictions on the training, validation, and testing sets. Finally, it checks for train-test-validation data leakage by comparing the accuracy scores of the predictions on the training, validation, and testing sets. If the difference in accuracy scores between the validation set and either the training or testing sets is greater than 0.1, it prints a message indicating that train-test-validation data leakage has been detected. Otherwise, it prints a message indicating that no train-test-validation data leakage has been detected."
   ]
  },
  {
   "cell_type": "code",
   "execution_count": 28,
   "metadata": {
    "colab": {
     "base_uri": "https://localhost:8080/"
    },
    "id": "KmamVPlQTrVB",
    "outputId": "196a8e18-de56-4f8a-c75e-5fe47e48b08e"
   },
   "outputs": [
    {
     "name": "stdout",
     "output_type": "stream",
     "text": [
      "No train-test-validation data leakage detected\n"
     ]
    }
   ],
   "source": [
    "# Fit a pipeline with StandardScaler and Logistic Regression on the training data\n",
    "pipeline = make_pipeline(StandardScaler(), xgb.XGBClassifier(n_estimators=1000, max_depth=int(params['max_depth']), gamma=params['gamma'],\n",
    "                        reg_alpha=params['reg_alpha'], min_child_weight=params['min_child_weight'],\n",
    "                        colsample_bytree=params['colsample_bytree']))\n",
    "\n",
    "pipeline.fit(X_train, y_train)\n",
    "\n",
    "# Make predictions on the training, validation, and testing sets using cross-validation\n",
    "y_pred_train = cross_val_score(pipeline, X_train, y_train, cv=5)\n",
    "y_pred_val = cross_val_score(pipeline, X_val, y_val, cv=5)\n",
    "y_pred_test = cross_val_score(pipeline, X_test, y_test, cv=5)\n",
    "\n",
    "# Check for train-test-validation data leakage by comparing the accuracy scores\n",
    "# of the predictions on the training, validation, and testing sets\n",
    "train_val_diff = abs(y_pred_train.mean() - y_pred_val.mean())\n",
    "test_val_diff = abs(y_pred_test.mean() - y_pred_val.mean())\n",
    "\n",
    "if train_val_diff > 0.1 or test_val_diff > 0.1:\n",
    "    print(\"Train-test-validation data leakage detected\")\n",
    "else:\n",
    "    print(\"No train-test-validation data leakage detected\")\n"
   ]
  },
  {
   "cell_type": "markdown",
   "metadata": {
    "id": "PrkKuJIbcgIl"
   },
   "source": [
    "**Conclusion**\n",
    "\n",
    "`No train-test-validation data leakage detected`, means that the pipeline has been successfully trained and validated without any evidence of data leakage. This is a good sign, as it indicates that the model is likely to generalize well to new, unseen data. Overall, this output is a positive result that suggests the model is a good candidate for further testing and refinement."
   ]
  }
 ],
 "metadata": {
  "colab": {
   "provenance": []
  },
  "kernelspec": {
   "display_name": "Python 3",
   "language": "python",
   "name": "python3"
  },
  "language_info": {
   "codemirror_mode": {
    "name": "ipython",
    "version": 3
   },
   "file_extension": ".py",
   "mimetype": "text/x-python",
   "name": "python",
   "nbconvert_exporter": "python",
   "pygments_lexer": "ipython3",
   "version": "3.8.8"
  }
 },
 "nbformat": 4,
 "nbformat_minor": 1
}

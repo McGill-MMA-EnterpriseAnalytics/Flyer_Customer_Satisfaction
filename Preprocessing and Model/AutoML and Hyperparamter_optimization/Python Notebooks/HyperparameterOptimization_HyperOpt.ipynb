{
 "cells": [
  {
   "cell_type": "markdown",
   "id": "76bdd8b0",
   "metadata": {},
   "source": [
    "# Hyperparameter Optimization - HyperOpt\n",
    "### Table of Content\n",
    "I. [**Data Preparation**](#i)<br>\n",
    "II. [**HyperOpt**](#ii)<br>\n",
    "<a id = 'top'>\n",
    "\n",
    "Reference: <a href='https://medium.com/analytics-vidhya/hyperparameter-tuning-hyperopt-bayesian-optimization-for-xgboost-and-neural-network-8aedf278a1c9'>HyperParameter Tuning — Hyperopt Bayesian Optimization</a>"
   ]
  },
  {
   "cell_type": "code",
   "execution_count": 15,
   "id": "f07723cd",
   "metadata": {},
   "outputs": [],
   "source": [
    "#!pip install pyspark\n",
    "#!pip install mlflow\n",
    "import pandas as pd\n",
    "from sklearn.model_selection import train_test_split\n",
    "from sklearn.preprocessing import LabelEncoder\n",
    "from sklearn.metrics import accuracy_score\n",
    "from hyperopt import fmin, tpe, hp, SparkTrials, Trials, STATUS_OK\n",
    "from hyperopt.pyll import scope\n",
    "import xgboost as xgb\n",
    "import pyspark\n",
    "import warnings\n",
    "warnings.filterwarnings('ignore')"
   ]
  },
  {
   "cell_type": "markdown",
   "id": "7a210079",
   "metadata": {},
   "source": [
    "<br><a id=\"i\"></a><div align = \"right\"><a href = '#top'>Back to Top</a></div>\n",
    "\n",
    "## I. Data Preparation\n",
    "***"
   ]
  },
  {
   "cell_type": "code",
   "execution_count": 3,
   "id": "d8b8dce5",
   "metadata": {},
   "outputs": [],
   "source": [
    "df_train = pd.read_csv('../data/Preprocessed_data_with_date/airplane_train_processed_date.csv')\n",
    "df_val = pd.read_csv('../data/Preprocessed_data_with_date/airplane_test_processed_date.csv')"
   ]
  },
  {
   "cell_type": "code",
   "execution_count": 4,
   "id": "d8b587f8",
   "metadata": {},
   "outputs": [
    {
     "data": {
      "text/plain": [
       "((102825, 24), (25976, 24), (102825,), (25976,))"
      ]
     },
     "execution_count": 4,
     "metadata": {},
     "output_type": "execute_result"
    }
   ],
   "source": [
    "features = ['Gender_Female', 'Customer Type_Loyal Customer',\n",
    "       'Type of Travel_Business travel',\n",
    "       'Type of Travel_Personal Travel', 'Class_Business',\n",
    "       'Class_Eco', 'Age',\n",
    "       'Flight Distance', 'Departure Delay in Minutes',\n",
    "       'Arrival Delay in Minutes', 'Inflight wifi service',\n",
    "       'Departure/Arrival time convenient',\n",
    "       'Ease of Online booking', 'Gate location',\n",
    "       'Food and drink', 'Online boarding',\n",
    "       'Seat comfort', 'Inflight entertainment',\n",
    "       'On-board service', 'Leg room service',\n",
    "       'Baggage handling', 'Checkin service',\n",
    "       'Inflight service', 'Cleanliness']\n",
    "\n",
    "le = LabelEncoder()\n",
    "X_train = df_train[features]\n",
    "y_train = df_train['satisfaction']\n",
    "y_train = le.fit_transform(y_train)\n",
    "\n",
    "X_val = df_val[features]\n",
    "y_val = df_val['satisfaction']\n",
    "y_val = le.fit_transform(y_val)\n",
    "\n",
    "X_train.shape, X_val.shape, y_train.shape, y_val.shape"
   ]
  },
  {
   "cell_type": "markdown",
   "id": "e06c01b2",
   "metadata": {},
   "source": [
    "<br><a id=\"ii\"></a><div align = \"right\"><a href = '#top'>Back to Top</a></div>\n",
    "\n",
    "## II. HyperOpt\n",
    "***"
   ]
  },
  {
   "cell_type": "code",
   "execution_count": 45,
   "id": "a16bb30b",
   "metadata": {},
   "outputs": [],
   "source": [
    "search_space = {\n",
    "    'reg_lambda': hp.loguniform('reg_lambda', 1e-3, 5.0),\n",
    "    'alpha': hp.loguniform('alpha', 1e-3, 5.0),\n",
    "    'colsample_bytree': hp.uniform('colsample_bytree', 0.5, 1.0),\n",
    "    'subsample': hp.uniform('subsample', 0.5, 1.0),\n",
    "    'learning_rate': hp.loguniform('learning_rate', -1, 0.05),\n",
    "    'n_estimators': 1000,\n",
    "    'max_depth': scope.int(hp.quniform('max_depth', 5, 40, 5)),\n",
    "    'random_state': 15,\n",
    "    'min_child_weight': hp.loguniform('min_child_weight', -1, 30),\n",
    "     'objective': 'binary:logistic'\n",
    "}    \n",
    "    "
   ]
  },
  {
   "cell_type": "code",
   "execution_count": 46,
   "id": "730d30e6",
   "metadata": {},
   "outputs": [],
   "source": [
    "def hyperopt_tune(search_space=search_space, X_train = X_train, y_train = y_train):\n",
    "    train_x, test_x, train_y, test_y = train_test_split(X_train, y_train, test_size=0.3,random_state=15)\n",
    "    \n",
    "    model = xgb.XGBClassifier(**search_space)\n",
    "    evaluation = [( train_x, train_y), ( test_x, test_y)]\n",
    "    \n",
    "    model.fit(train_x, train_y,\n",
    "            eval_set=evaluation, eval_metric=\"error\",\n",
    "            early_stopping_rounds=100,verbose=False)\n",
    "\n",
    "    pred_y = model.predict(test_x)\n",
    "    accuracy = accuracy_score(test_y, pred_y)\n",
    "    \n",
    "    return {'loss': -accuracy, 'status': STATUS_OK, 'model': model}"
   ]
  },
  {
   "cell_type": "code",
   "execution_count": 47,
   "id": "660509d3",
   "metadata": {
    "scrolled": true
   },
   "outputs": [
    {
     "name": "stdout",
     "output_type": "stream",
     "text": [
      "100%|██████| 100/100 [26:03<00:00, 15.63s/trial, best loss: -0.9599974066390041]\n",
      "{'alpha': 2.1473865088650417, 'colsample_bytree': 0.8446206452199106, 'learning_rate': 0.36844521941706876, 'max_depth': 10.0, 'min_child_weight': 0.3870279128386974, 'reg_lambda': 1.575148448345619, 'subsample': 0.871280112643366}\n"
     ]
    }
   ],
   "source": [
    "trials = Trials()\n",
    "best = fmin(fn=hyperopt_tune,\n",
    "            space=search_space,\n",
    "            algo=tpe.suggest,\n",
    "            max_evals=100,\n",
    "            trials=trials)\n",
    "\n",
    "print (best)"
   ]
  },
  {
   "cell_type": "markdown",
   "id": "1fa870d3",
   "metadata": {},
   "source": [
    "{'alpha': 2.1473865088650417, 'colsample_bytree': 0.8446206452199106, 'learning_rate': 0.36844521941706876, 'max_depth': 10.0, 'min_child_weight': 0.3870279128386974, 'reg_lambda': 1.575148448345619, 'subsample': 0.871280112643366}"
   ]
  },
  {
   "cell_type": "code",
   "execution_count": 50,
   "id": "1a936695",
   "metadata": {},
   "outputs": [
    {
     "name": "stdout",
     "output_type": "stream",
     "text": [
      "[21:10:01] WARNING: /var/folders/sy/f16zz6x50xz3113nwtb9bvq00000gp/T/abs_44tbtwf8c1/croots/recipe/xgboost-split_1659548960882/work/src/learner.cc:1115: Starting in XGBoost 1.3.0, the default evaluation metric used with the objective 'binary:logistic' was changed from 'error' to 'logloss'. Explicitly set eval_metric if you'd like to restore the old behavior.\n"
     ]
    },
    {
     "data": {
      "text/plain": [
       "0.9591161071758546"
      ]
     },
     "execution_count": 50,
     "metadata": {},
     "output_type": "execute_result"
    }
   ],
   "source": [
    "final_model = xgb.XGBClassifier(**{'alpha': 2.1473865088650417, 'colsample_bytree': 0.8446206452199106, 'learning_rate': 0.36844521941706876, 'max_depth': 10, 'min_child_weight': 0.3870279128386974, 'reg_lambda': 1.575148448345619, 'subsample': 0.871280112643366})\n",
    "final_model.fit(X_train, y_train)\n",
    "y_val_pred = final_model.predict(X_val)\n",
    "accuracy_score(y_val, y_val_pred)"
   ]
  }
 ],
 "metadata": {
  "kernelspec": {
   "display_name": "Python 3 (ipykernel)",
   "language": "python",
   "name": "python3"
  },
  "language_info": {
   "codemirror_mode": {
    "name": "ipython",
    "version": 3
   },
   "file_extension": ".py",
   "mimetype": "text/x-python",
   "name": "python",
   "nbconvert_exporter": "python",
   "pygments_lexer": "ipython3",
   "version": "3.8.2"
  }
 },
 "nbformat": 4,
 "nbformat_minor": 5
}

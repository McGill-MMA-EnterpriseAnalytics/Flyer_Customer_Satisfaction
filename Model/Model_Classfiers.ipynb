{
  "cells": [
    {
      "cell_type": "code",
      "execution_count": 1,
      "metadata": {
        "colab": {
          "base_uri": "https://localhost:8080/"
        },
        "id": "5A0k7jHf68N9",
        "outputId": "3b41bc05-7b9b-41d4-f026-a608465e49c9"
      },
      "outputs": [
        {
          "output_type": "stream",
          "name": "stdout",
          "text": [
            "Mounted at /content/drive\n"
          ]
        }
      ],
      "source": [
        "from google.colab import drive\n",
        "drive.mount(\"/content/drive\")"
      ]
    },
    {
      "cell_type": "code",
      "execution_count": 2,
      "metadata": {
        "id": "TWWfOa6y7n3y"
      },
      "outputs": [],
      "source": [
        "import pandas as pd\n",
        "import numpy as np\n",
        "import matplotlib.pyplot as plt\n",
        "import seaborn as sns\n",
        "from sklearn import metrics\n",
        "from sklearn.model_selection import cross_val_score"
      ]
    },
    {
      "cell_type": "code",
      "execution_count": 3,
      "metadata": {
        "id": "aSX-eUAb7E9F"
      },
      "outputs": [],
      "source": [
        "df = pd.read_csv('/content/drive/MyDrive/Enterprise Data Science Group Project/airplane_train_processed_normalized.csv')"
      ]
    },
    {
      "cell_type": "code",
      "execution_count": 4,
      "metadata": {
        "colab": {
          "base_uri": "https://localhost:8080/",
          "height": 334
        },
        "id": "Ke3_Di-J7sof",
        "outputId": "b0a3a817-68ea-475a-a095-196f16ff7e45"
      },
      "outputs": [
        {
          "output_type": "execute_result",
          "data": {
            "text/plain": [
              "   cat__Gender_Female  cat__Gender_Male  cat__Customer Type_Loyal Customer  \\\n",
              "0                 0.0               1.0                                1.0   \n",
              "1                 0.0               1.0                                0.0   \n",
              "2                 1.0               0.0                                1.0   \n",
              "3                 1.0               0.0                                1.0   \n",
              "4                 0.0               1.0                                1.0   \n",
              "\n",
              "   cat__Customer Type_disloyal Customer  cat__Type of Travel_Business travel  \\\n",
              "0                                   0.0                                  0.0   \n",
              "1                                   1.0                                  1.0   \n",
              "2                                   0.0                                  1.0   \n",
              "3                                   0.0                                  1.0   \n",
              "4                                   0.0                                  1.0   \n",
              "\n",
              "   cat__Type of Travel_Personal Travel  cat__Class_Business  cat__Class_Eco  \\\n",
              "0                                  1.0                  0.0             0.0   \n",
              "1                                  0.0                  1.0             0.0   \n",
              "2                                  0.0                  1.0             0.0   \n",
              "3                                  0.0                  1.0             0.0   \n",
              "4                                  0.0                  1.0             0.0   \n",
              "\n",
              "   cat__Class_Eco Plus  std__Age  ...  remainder__Online boarding  \\\n",
              "0                  1.0 -1.746813  ...                           3   \n",
              "1                  0.0 -0.952197  ...                           3   \n",
              "2                  0.0 -0.885979  ...                           5   \n",
              "3                  0.0 -0.952197  ...                           2   \n",
              "4                  0.0  1.431649  ...                           5   \n",
              "\n",
              "   remainder__Seat comfort  remainder__Inflight entertainment  \\\n",
              "0                        5                                  5   \n",
              "1                        1                                  1   \n",
              "2                        5                                  5   \n",
              "3                        2                                  2   \n",
              "4                        5                                  3   \n",
              "\n",
              "   remainder__On-board service  remainder__Leg room service  \\\n",
              "0                            4                            3   \n",
              "1                            1                            5   \n",
              "2                            4                            3   \n",
              "3                            2                            5   \n",
              "4                            3                            4   \n",
              "\n",
              "   remainder__Baggage handling  remainder__Checkin service  \\\n",
              "0                            4                           4   \n",
              "1                            3                           1   \n",
              "2                            4                           4   \n",
              "3                            3                           1   \n",
              "4                            4                           3   \n",
              "\n",
              "   remainder__Inflight service  remainder__Cleanliness  \\\n",
              "0                            5                       5   \n",
              "1                            4                       1   \n",
              "2                            4                       5   \n",
              "3                            4                       2   \n",
              "4                            3                       3   \n",
              "\n",
              "   remainder__satisfaction  \n",
              "0  neutral or dissatisfied  \n",
              "1  neutral or dissatisfied  \n",
              "2                satisfied  \n",
              "3  neutral or dissatisfied  \n",
              "4                satisfied  \n",
              "\n",
              "[5 rows x 28 columns]"
            ],
            "text/html": [
              "\n",
              "  <div id=\"df-9dba4a10-5bd4-4466-bb58-09d653f8b7c6\">\n",
              "    <div class=\"colab-df-container\">\n",
              "      <div>\n",
              "<style scoped>\n",
              "    .dataframe tbody tr th:only-of-type {\n",
              "        vertical-align: middle;\n",
              "    }\n",
              "\n",
              "    .dataframe tbody tr th {\n",
              "        vertical-align: top;\n",
              "    }\n",
              "\n",
              "    .dataframe thead th {\n",
              "        text-align: right;\n",
              "    }\n",
              "</style>\n",
              "<table border=\"1\" class=\"dataframe\">\n",
              "  <thead>\n",
              "    <tr style=\"text-align: right;\">\n",
              "      <th></th>\n",
              "      <th>cat__Gender_Female</th>\n",
              "      <th>cat__Gender_Male</th>\n",
              "      <th>cat__Customer Type_Loyal Customer</th>\n",
              "      <th>cat__Customer Type_disloyal Customer</th>\n",
              "      <th>cat__Type of Travel_Business travel</th>\n",
              "      <th>cat__Type of Travel_Personal Travel</th>\n",
              "      <th>cat__Class_Business</th>\n",
              "      <th>cat__Class_Eco</th>\n",
              "      <th>cat__Class_Eco Plus</th>\n",
              "      <th>std__Age</th>\n",
              "      <th>...</th>\n",
              "      <th>remainder__Online boarding</th>\n",
              "      <th>remainder__Seat comfort</th>\n",
              "      <th>remainder__Inflight entertainment</th>\n",
              "      <th>remainder__On-board service</th>\n",
              "      <th>remainder__Leg room service</th>\n",
              "      <th>remainder__Baggage handling</th>\n",
              "      <th>remainder__Checkin service</th>\n",
              "      <th>remainder__Inflight service</th>\n",
              "      <th>remainder__Cleanliness</th>\n",
              "      <th>remainder__satisfaction</th>\n",
              "    </tr>\n",
              "  </thead>\n",
              "  <tbody>\n",
              "    <tr>\n",
              "      <th>0</th>\n",
              "      <td>0.0</td>\n",
              "      <td>1.0</td>\n",
              "      <td>1.0</td>\n",
              "      <td>0.0</td>\n",
              "      <td>0.0</td>\n",
              "      <td>1.0</td>\n",
              "      <td>0.0</td>\n",
              "      <td>0.0</td>\n",
              "      <td>1.0</td>\n",
              "      <td>-1.746813</td>\n",
              "      <td>...</td>\n",
              "      <td>3</td>\n",
              "      <td>5</td>\n",
              "      <td>5</td>\n",
              "      <td>4</td>\n",
              "      <td>3</td>\n",
              "      <td>4</td>\n",
              "      <td>4</td>\n",
              "      <td>5</td>\n",
              "      <td>5</td>\n",
              "      <td>neutral or dissatisfied</td>\n",
              "    </tr>\n",
              "    <tr>\n",
              "      <th>1</th>\n",
              "      <td>0.0</td>\n",
              "      <td>1.0</td>\n",
              "      <td>0.0</td>\n",
              "      <td>1.0</td>\n",
              "      <td>1.0</td>\n",
              "      <td>0.0</td>\n",
              "      <td>1.0</td>\n",
              "      <td>0.0</td>\n",
              "      <td>0.0</td>\n",
              "      <td>-0.952197</td>\n",
              "      <td>...</td>\n",
              "      <td>3</td>\n",
              "      <td>1</td>\n",
              "      <td>1</td>\n",
              "      <td>1</td>\n",
              "      <td>5</td>\n",
              "      <td>3</td>\n",
              "      <td>1</td>\n",
              "      <td>4</td>\n",
              "      <td>1</td>\n",
              "      <td>neutral or dissatisfied</td>\n",
              "    </tr>\n",
              "    <tr>\n",
              "      <th>2</th>\n",
              "      <td>1.0</td>\n",
              "      <td>0.0</td>\n",
              "      <td>1.0</td>\n",
              "      <td>0.0</td>\n",
              "      <td>1.0</td>\n",
              "      <td>0.0</td>\n",
              "      <td>1.0</td>\n",
              "      <td>0.0</td>\n",
              "      <td>0.0</td>\n",
              "      <td>-0.885979</td>\n",
              "      <td>...</td>\n",
              "      <td>5</td>\n",
              "      <td>5</td>\n",
              "      <td>5</td>\n",
              "      <td>4</td>\n",
              "      <td>3</td>\n",
              "      <td>4</td>\n",
              "      <td>4</td>\n",
              "      <td>4</td>\n",
              "      <td>5</td>\n",
              "      <td>satisfied</td>\n",
              "    </tr>\n",
              "    <tr>\n",
              "      <th>3</th>\n",
              "      <td>1.0</td>\n",
              "      <td>0.0</td>\n",
              "      <td>1.0</td>\n",
              "      <td>0.0</td>\n",
              "      <td>1.0</td>\n",
              "      <td>0.0</td>\n",
              "      <td>1.0</td>\n",
              "      <td>0.0</td>\n",
              "      <td>0.0</td>\n",
              "      <td>-0.952197</td>\n",
              "      <td>...</td>\n",
              "      <td>2</td>\n",
              "      <td>2</td>\n",
              "      <td>2</td>\n",
              "      <td>2</td>\n",
              "      <td>5</td>\n",
              "      <td>3</td>\n",
              "      <td>1</td>\n",
              "      <td>4</td>\n",
              "      <td>2</td>\n",
              "      <td>neutral or dissatisfied</td>\n",
              "    </tr>\n",
              "    <tr>\n",
              "      <th>4</th>\n",
              "      <td>0.0</td>\n",
              "      <td>1.0</td>\n",
              "      <td>1.0</td>\n",
              "      <td>0.0</td>\n",
              "      <td>1.0</td>\n",
              "      <td>0.0</td>\n",
              "      <td>1.0</td>\n",
              "      <td>0.0</td>\n",
              "      <td>0.0</td>\n",
              "      <td>1.431649</td>\n",
              "      <td>...</td>\n",
              "      <td>5</td>\n",
              "      <td>5</td>\n",
              "      <td>3</td>\n",
              "      <td>3</td>\n",
              "      <td>4</td>\n",
              "      <td>4</td>\n",
              "      <td>3</td>\n",
              "      <td>3</td>\n",
              "      <td>3</td>\n",
              "      <td>satisfied</td>\n",
              "    </tr>\n",
              "  </tbody>\n",
              "</table>\n",
              "<p>5 rows × 28 columns</p>\n",
              "</div>\n",
              "      <button class=\"colab-df-convert\" onclick=\"convertToInteractive('df-9dba4a10-5bd4-4466-bb58-09d653f8b7c6')\"\n",
              "              title=\"Convert this dataframe to an interactive table.\"\n",
              "              style=\"display:none;\">\n",
              "        \n",
              "  <svg xmlns=\"http://www.w3.org/2000/svg\" height=\"24px\"viewBox=\"0 0 24 24\"\n",
              "       width=\"24px\">\n",
              "    <path d=\"M0 0h24v24H0V0z\" fill=\"none\"/>\n",
              "    <path d=\"M18.56 5.44l.94 2.06.94-2.06 2.06-.94-2.06-.94-.94-2.06-.94 2.06-2.06.94zm-11 1L8.5 8.5l.94-2.06 2.06-.94-2.06-.94L8.5 2.5l-.94 2.06-2.06.94zm10 10l.94 2.06.94-2.06 2.06-.94-2.06-.94-.94-2.06-.94 2.06-2.06.94z\"/><path d=\"M17.41 7.96l-1.37-1.37c-.4-.4-.92-.59-1.43-.59-.52 0-1.04.2-1.43.59L10.3 9.45l-7.72 7.72c-.78.78-.78 2.05 0 2.83L4 21.41c.39.39.9.59 1.41.59.51 0 1.02-.2 1.41-.59l7.78-7.78 2.81-2.81c.8-.78.8-2.07 0-2.86zM5.41 20L4 18.59l7.72-7.72 1.47 1.35L5.41 20z\"/>\n",
              "  </svg>\n",
              "      </button>\n",
              "      \n",
              "  <style>\n",
              "    .colab-df-container {\n",
              "      display:flex;\n",
              "      flex-wrap:wrap;\n",
              "      gap: 12px;\n",
              "    }\n",
              "\n",
              "    .colab-df-convert {\n",
              "      background-color: #E8F0FE;\n",
              "      border: none;\n",
              "      border-radius: 50%;\n",
              "      cursor: pointer;\n",
              "      display: none;\n",
              "      fill: #1967D2;\n",
              "      height: 32px;\n",
              "      padding: 0 0 0 0;\n",
              "      width: 32px;\n",
              "    }\n",
              "\n",
              "    .colab-df-convert:hover {\n",
              "      background-color: #E2EBFA;\n",
              "      box-shadow: 0px 1px 2px rgba(60, 64, 67, 0.3), 0px 1px 3px 1px rgba(60, 64, 67, 0.15);\n",
              "      fill: #174EA6;\n",
              "    }\n",
              "\n",
              "    [theme=dark] .colab-df-convert {\n",
              "      background-color: #3B4455;\n",
              "      fill: #D2E3FC;\n",
              "    }\n",
              "\n",
              "    [theme=dark] .colab-df-convert:hover {\n",
              "      background-color: #434B5C;\n",
              "      box-shadow: 0px 1px 3px 1px rgba(0, 0, 0, 0.15);\n",
              "      filter: drop-shadow(0px 1px 2px rgba(0, 0, 0, 0.3));\n",
              "      fill: #FFFFFF;\n",
              "    }\n",
              "  </style>\n",
              "\n",
              "      <script>\n",
              "        const buttonEl =\n",
              "          document.querySelector('#df-9dba4a10-5bd4-4466-bb58-09d653f8b7c6 button.colab-df-convert');\n",
              "        buttonEl.style.display =\n",
              "          google.colab.kernel.accessAllowed ? 'block' : 'none';\n",
              "\n",
              "        async function convertToInteractive(key) {\n",
              "          const element = document.querySelector('#df-9dba4a10-5bd4-4466-bb58-09d653f8b7c6');\n",
              "          const dataTable =\n",
              "            await google.colab.kernel.invokeFunction('convertToInteractive',\n",
              "                                                     [key], {});\n",
              "          if (!dataTable) return;\n",
              "\n",
              "          const docLinkHtml = 'Like what you see? Visit the ' +\n",
              "            '<a target=\"_blank\" href=https://colab.research.google.com/notebooks/data_table.ipynb>data table notebook</a>'\n",
              "            + ' to learn more about interactive tables.';\n",
              "          element.innerHTML = '';\n",
              "          dataTable['output_type'] = 'display_data';\n",
              "          await google.colab.output.renderOutput(dataTable, element);\n",
              "          const docLink = document.createElement('div');\n",
              "          docLink.innerHTML = docLinkHtml;\n",
              "          element.appendChild(docLink);\n",
              "        }\n",
              "      </script>\n",
              "    </div>\n",
              "  </div>\n",
              "  "
            ]
          },
          "metadata": {},
          "execution_count": 4
        }
      ],
      "source": [
        "df.head(5)"
      ]
    },
    {
      "cell_type": "code",
      "execution_count": 5,
      "metadata": {
        "colab": {
          "base_uri": "https://localhost:8080/"
        },
        "id": "2ss-fQ9b7xEA",
        "outputId": "4df60763-56ee-4a6e-f381-ade562805d71"
      },
      "outputs": [
        {
          "output_type": "execute_result",
          "data": {
            "text/plain": [
              "Index(['cat__Gender_Female', 'cat__Gender_Male',\n",
              "       'cat__Customer Type_Loyal Customer',\n",
              "       'cat__Customer Type_disloyal Customer',\n",
              "       'cat__Type of Travel_Business travel',\n",
              "       'cat__Type of Travel_Personal Travel', 'cat__Class_Business',\n",
              "       'cat__Class_Eco', 'cat__Class_Eco Plus', 'std__Age',\n",
              "       'std__Flight Distance', 'std__Departure Delay in Minutes',\n",
              "       'std__Arrival Delay in Minutes', 'remainder__Inflight wifi service',\n",
              "       'remainder__Departure/Arrival time convenient',\n",
              "       'remainder__Ease of Online booking', 'remainder__Gate location',\n",
              "       'remainder__Food and drink', 'remainder__Online boarding',\n",
              "       'remainder__Seat comfort', 'remainder__Inflight entertainment',\n",
              "       'remainder__On-board service', 'remainder__Leg room service',\n",
              "       'remainder__Baggage handling', 'remainder__Checkin service',\n",
              "       'remainder__Inflight service', 'remainder__Cleanliness',\n",
              "       'remainder__satisfaction'],\n",
              "      dtype='object')"
            ]
          },
          "metadata": {},
          "execution_count": 5
        }
      ],
      "source": [
        "df.columns"
      ]
    },
    {
      "cell_type": "code",
      "execution_count": 6,
      "metadata": {
        "id": "-NyM9XW17zhO"
      },
      "outputs": [],
      "source": [
        "#Removing the highly correlated columns like 'cat__Gender_Male','cat__Customer Type_disloyal Customer','cat__Type of Travel_Personal Travel','cat__Class_Eco',\n",
        "df = df[['cat__Gender_Female','cat__Customer Type_Loyal Customer',\n",
        "       'cat__Type of Travel_Business travel',\n",
        "        'cat__Class_Business', 'cat__Class_Eco Plus', 'std__Age',\n",
        "       'std__Flight Distance', 'std__Departure Delay in Minutes',\n",
        "       'std__Arrival Delay in Minutes', 'remainder__Inflight wifi service',\n",
        "       'remainder__Departure/Arrival time convenient',\n",
        "       'remainder__Ease of Online booking', 'remainder__Gate location',\n",
        "       'remainder__Food and drink', 'remainder__Online boarding',\n",
        "       'remainder__Seat comfort', 'remainder__Inflight entertainment',\n",
        "       'remainder__On-board service', 'remainder__Leg room service',\n",
        "       'remainder__Baggage handling', 'remainder__Checkin service',\n",
        "       'remainder__Inflight service', 'remainder__Cleanliness',\n",
        "       'remainder__satisfaction']]"
      ]
    },
    {
      "cell_type": "code",
      "execution_count": 7,
      "metadata": {
        "id": "Y4MW_17M9ec-"
      },
      "outputs": [],
      "source": [
        "X = df[['cat__Gender_Female','cat__Customer Type_Loyal Customer',\n",
        "       'cat__Type of Travel_Business travel',\n",
        "        'cat__Class_Business', 'cat__Class_Eco Plus', 'std__Age',\n",
        "       'std__Flight Distance', 'std__Departure Delay in Minutes',\n",
        "       'std__Arrival Delay in Minutes', 'remainder__Inflight wifi service',\n",
        "       'remainder__Departure/Arrival time convenient',\n",
        "       'remainder__Ease of Online booking', 'remainder__Gate location',\n",
        "       'remainder__Food and drink', 'remainder__Online boarding',\n",
        "       'remainder__Seat comfort', 'remainder__Inflight entertainment',\n",
        "       'remainder__On-board service', 'remainder__Leg room service',\n",
        "       'remainder__Baggage handling', 'remainder__Checkin service',\n",
        "       'remainder__Inflight service', 'remainder__Cleanliness']]\n",
        "y = df['remainder__satisfaction'].values"
      ]
    },
    {
      "cell_type": "code",
      "execution_count": 8,
      "metadata": {
        "id": "C3UiX1gn-cy6"
      },
      "outputs": [],
      "source": [
        "from sklearn.model_selection import train_test_split\n",
        "X_train, X_test, y_train, y_test = train_test_split(X, y, test_size = 0.33, random_state = 5)"
      ]
    },
    {
      "cell_type": "code",
      "execution_count": 9,
      "metadata": {
        "id": "kFkknyIv-Qrr"
      },
      "outputs": [],
      "source": [
        "from sklearn.linear_model import LogisticRegression\n",
        "lr = LogisticRegression(max_iter=5000)\n",
        "model = lr.fit(X_train,y_train)"
      ]
    },
    {
      "cell_type": "code",
      "execution_count": 10,
      "metadata": {
        "id": "ieNhJB3Z-9Mt"
      },
      "outputs": [],
      "source": [
        "y_test_pred = model.predict(X_test)"
      ]
    },
    {
      "cell_type": "code",
      "execution_count": 11,
      "metadata": {
        "colab": {
          "base_uri": "https://localhost:8080/"
        },
        "id": "05nJm0ZU_DCj",
        "outputId": "0603bfb1-fe5e-4f7f-a3f4-9279755f6ac3"
      },
      "outputs": [
        {
          "output_type": "execute_result",
          "data": {
            "text/plain": [
              "0.878218346786072"
            ]
          },
          "metadata": {},
          "execution_count": 11
        }
      ],
      "source": [
        "metrics.accuracy_score(y_test, y_test_pred)"
      ]
    },
    {
      "cell_type": "code",
      "execution_count": 12,
      "metadata": {
        "colab": {
          "base_uri": "https://localhost:8080/",
          "height": 572
        },
        "id": "J4rgZ4eREyLX",
        "outputId": "4d3226ee-f557-478d-c540-3f5f1041959c"
      },
      "outputs": [
        {
          "output_type": "display_data",
          "data": {
            "text/plain": [
              "<Figure size 720x360 with 1 Axes>"
            ],
            "image/png": "[encoded data removed]"
          },
          "metadata": {
            "needs_background": "light"
          }
        }
      ],
      "source": [
        "# assume model is a fitted logistic regression model\n",
        "coefs = model.coef_.ravel()\n",
        "feature_names = X_train.columns\n",
        "\n",
        "# create a bar chart of coefficients\n",
        "fig, ax = plt.subplots(figsize=(10, 5))\n",
        "ax.bar(feature_names, coefs)\n",
        "ax.axhline(y=0, color='gray', linestyle='--')\n",
        "ax.set_xlabel('Feature')\n",
        "ax.set_ylabel('Coefficient')\n",
        "ax.set_title('Logistic Regression Coefficients')\n",
        "plt.xticks(rotation=90)\n",
        "plt.show()"
      ]
    },
    {
      "cell_type": "code",
      "execution_count": 13,
      "metadata": {
        "colab": {
          "base_uri": "https://localhost:8080/",
          "height": 342
        },
        "id": "oYiwNhSa_PGe",
        "outputId": "c1ef8754-5adf-4529-d9fd-7316c9eddcf6"
      },
      "outputs": [
        {
          "output_type": "execute_result",
          "data": {
            "text/plain": [
              "Text(0.5, 257.44, 'Predicted label')"
            ]
          },
          "metadata": {},
          "execution_count": 13
        },
        {
          "output_type": "display_data",
          "data": {
            "text/plain": [
              "<Figure size 432x288 with 2 Axes>"
            ],
            "image/png": "[encoded data removed]"
          },
          "metadata": {
            "needs_background": "light"
          }
        }
      ],
      "source": [
        "confusion_matrix = metrics.confusion_matrix(y_test, y_test_pred)\n",
        "class_names=['neutral or dissatisfied','satisfied'] # name  of classes\n",
        "fig, ax = plt.subplots()\n",
        "tick_marks = np.arange(len(class_names))\n",
        "plt.xticks(tick_marks, class_names)\n",
        "plt.yticks(tick_marks, class_names)\n",
        "# create heatmap\n",
        "sns.heatmap(pd.DataFrame(confusion_matrix), annot=True, cmap=\"YlGnBu\" ,fmt='g')\n",
        "ax.xaxis.set_label_position(\"top\")\n",
        "plt.tight_layout()\n",
        "plt.title('Confusion matrix', y=1.1)\n",
        "plt.ylabel('Actual label')\n",
        "plt.xlabel('Predicted label')"
      ]
    },
    {
      "cell_type": "code",
      "execution_count": 14,
      "metadata": {
        "colab": {
          "base_uri": "https://localhost:8080/"
        },
        "id": "KlA81goq_c1l",
        "outputId": "20d103b7-fcd0-4f6f-f7d5-1eea5a9e56bb"
      },
      "outputs": [
        {
          "output_type": "stream",
          "name": "stdout",
          "text": [
            "Precision: 0.8743811005799972\n",
            "Recall: 0.8398097826086957\n"
          ]
        }
      ],
      "source": [
        "from sklearn.metrics import precision_score, recall_score\n",
        "\n",
        "# Assuming y_test is the true labels for X_test\n",
        "precision = precision_score(y_test, y_test_pred,pos_label='satisfied')\n",
        "recall = recall_score(y_test, y_test_pred,pos_label='satisfied')\n",
        "\n",
        "print(\"Precision:\", precision)\n",
        "print(\"Recall:\", recall)"
      ]
    },
    {
      "cell_type": "markdown",
      "metadata": {
        "id": "dL-FslYf_xoK"
      },
      "source": [
        "The model has  good precision and recall."
      ]
    },
    {
      "cell_type": "code",
      "execution_count": 15,
      "metadata": {
        "colab": {
          "base_uri": "https://localhost:8080/",
          "height": 265
        },
        "id": "k52AXjmq_xJP",
        "outputId": "d56c8db7-63fe-4902-ad1d-313ed8eff9e9"
      },
      "outputs": [
        {
          "output_type": "display_data",
          "data": {
            "text/plain": [
              "<Figure size 432x288 with 1 Axes>"
            ],
            "image/png": "[encoded data removed]"
          },
          "metadata": {
            "needs_background": "light"
          }
        }
      ],
      "source": [
        "y_pred_proba = model.predict_proba(X_test)[::,1]\n",
        "fpr, tpr, _ = metrics.roc_curve(y_test,  y_pred_proba, pos_label='satisfied')\n",
        "auc = metrics.roc_auc_score(y_test, y_pred_proba)\n",
        "plt.plot(fpr,tpr,label=\"data 1, auc=\"+str(auc))\n",
        "plt.legend(loc=4)\n",
        "plt.show()"
      ]
    },
    {
      "cell_type": "markdown",
      "metadata": {
        "id": "yApTrTmkGjny"
      },
      "source": [
        "<h2> Support Vector Machine </h2>"
      ]
    },
    {
      "cell_type": "code",
      "execution_count": 16,
      "metadata": {
        "id": "BreR5ZBJDDgx"
      },
      "outputs": [],
      "source": [
        "from sklearn.svm import SVC\n",
        "svc_model = SVC()"
      ]
    },
    {
      "cell_type": "code",
      "execution_count": 17,
      "metadata": {
        "colab": {
          "base_uri": "https://localhost:8080/"
        },
        "id": "8Wf7uh54Hg3W",
        "outputId": "ceaa295c-2eeb-4f99-c16c-cace7cd2641a"
      },
      "outputs": [
        {
          "output_type": "execute_result",
          "data": {
            "text/plain": [
              "SVC()"
            ]
          },
          "metadata": {},
          "execution_count": 17
        }
      ],
      "source": [
        "svc_model.fit(X_train,y_train)"
      ]
    },
    {
      "cell_type": "code",
      "execution_count": 18,
      "metadata": {
        "id": "boXjobyoHk3b"
      },
      "outputs": [],
      "source": [
        "predictions = svc_model.predict(X_test)"
      ]
    },
    {
      "cell_type": "code",
      "execution_count": 19,
      "metadata": {
        "colab": {
          "base_uri": "https://localhost:8080/"
        },
        "id": "ToT7suaWHnqp",
        "outputId": "f03b1d7c-2bce-46e6-9d09-8540bc113845"
      },
      "outputs": [
        {
          "output_type": "stream",
          "name": "stdout",
          "text": [
            "[[18494   732]\n",
            " [ 1216 13504]]\n",
            "\n",
            "\n",
            "                         precision    recall  f1-score   support\n",
            "\n",
            "neutral or dissatisfied       0.94      0.96      0.95     19226\n",
            "              satisfied       0.95      0.92      0.93     14720\n",
            "\n",
            "               accuracy                           0.94     33946\n",
            "              macro avg       0.94      0.94      0.94     33946\n",
            "           weighted avg       0.94      0.94      0.94     33946\n",
            "\n"
          ]
        }
      ],
      "source": [
        "from sklearn.metrics import classification_report,confusion_matrix\n",
        "print(confusion_matrix(y_test,predictions))\n",
        "print('\\n')\n",
        "print(classification_report(y_test,predictions))"
      ]
    },
    {
      "cell_type": "code",
      "source": [
        "metrics.accuracy_score(y_test, predictions)"
      ],
      "metadata": {
        "colab": {
          "base_uri": "https://localhost:8080/"
        },
        "id": "kydy6-NSVmTV",
        "outputId": "36a95853-b83c-4a6a-ff9a-29e18b14618d"
      },
      "execution_count": 21,
      "outputs": [
        {
          "output_type": "execute_result",
          "data": {
            "text/plain": [
              "0.9426147410593295"
            ]
          },
          "metadata": {},
          "execution_count": 21
        }
      ]
    },
    {
      "cell_type": "code",
      "execution_count": 23,
      "metadata": {
        "id": "PbJUJCGXIQli",
        "colab": {
          "base_uri": "https://localhost:8080/",
          "height": 342
        },
        "outputId": "d9419f89-6692-45b8-d637-4739bc1eb230"
      },
      "outputs": [
        {
          "output_type": "execute_result",
          "data": {
            "text/plain": [
              "Text(0.5, 257.44, 'Predicted label')"
            ]
          },
          "metadata": {},
          "execution_count": 23
        },
        {
          "output_type": "display_data",
          "data": {
            "text/plain": [
              "<Figure size 432x288 with 2 Axes>"
            ],
            "image/png": "[encoded data removed]"
          },
          "metadata": {
            "needs_background": "light"
          }
        }
      ],
      "source": [
        "confusion_matrix = metrics.confusion_matrix(y_test, predictions)\n",
        "class_names=['neutral or dissatisfied','satisfied'] # name  of classes\n",
        "fig, ax = plt.subplots()\n",
        "tick_marks = np.arange(len(class_names))\n",
        "plt.xticks(tick_marks, class_names)\n",
        "plt.yticks(tick_marks, class_names)\n",
        "# create heatmap\n",
        "sns.heatmap(pd.DataFrame(confusion_matrix), annot=True, cmap=\"YlGnBu\" ,fmt='g')\n",
        "ax.xaxis.set_label_position(\"top\")\n",
        "plt.tight_layout()\n",
        "plt.title('Confusion matrix', y=1.1)\n",
        "plt.ylabel('Actual label')\n",
        "plt.xlabel('Predicted label')"
      ]
    }
  ],
  "metadata": {
    "colab": {
      "provenance": []
    },
    "kernelspec": {
      "display_name": "Python 3",
      "name": "python3"
    },
    "language_info": {
      "name": "python"
    },
    "accelerator": "GPU",
    "gpuClass": "standard"
  },
  "nbformat": 4,
  "nbformat_minor": 0
}
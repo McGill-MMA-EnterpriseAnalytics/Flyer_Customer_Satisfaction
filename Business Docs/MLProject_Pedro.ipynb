{
 "cells": [
  {
   "cell_type": "markdown",
   "id": "14639f08",
   "metadata": {},
   "source": [
    "# Demographic Parity"
   ]
  },
  {
   "cell_type": "markdown",
   "id": "59fc0054",
   "metadata": {},
   "source": [
    "# Gender"
   ]
  },
  {
   "cell_type": "code",
   "execution_count": 27,
   "id": "1c681692",
   "metadata": {},
   "outputs": [
    {
     "name": "stdout",
     "output_type": "stream",
     "text": [
      "Female proportion: 0.41\n",
      "Male proportion: 0.43\n"
     ]
    }
   ],
   "source": [
    "from sklearn.ensemble import RandomForestClassifier\n",
    "from sklearn.metrics import accuracy_score\n",
    "from sklearn.model_selection import train_test_split\n",
    "\n",
    "df = pd.read_csv('/Users/pedrojosetrujillomejia/Desktop/airplane_train_processed.csv')\n",
    "\n",
    "\n",
    "X = df.drop(['satisfaction'], axis=1)\n",
    "y = df['satisfaction']\n",
    "X_train, X_val, y_train, y_val = train_test_split(X, y, test_size=0.2, random_state=42)\n",
    "\n",
    "rfc = RandomForestClassifier()\n",
    "rfc.fit(X_train, y_train)\n",
    "\n",
    "\n",
    "y_pred = rfc.predict(X_val)\n",
    "\n",
    "\n",
    "female_mask = X_val['Gender_Female'] == 1\n",
    "male_mask = X_val['Gender_Male'] == 1\n",
    "female_proportion = sum(y_pred[female_mask] == 'satisfied') / sum(female_mask)\n",
    "male_proportion = sum(y_pred[male_mask] == 'satisfied') / sum(male_mask)\n",
    "\n",
    "\n",
    "print(f\"Female proportion: {female_proportion:.2f}\")\n",
    "print(f\"Male proportion: {male_proportion:.2f}\")\n",
    "\n"
   ]
  },
  {
   "cell_type": "markdown",
   "id": "cf7b69be",
   "metadata": {},
   "source": [
    "Based on the results, the proportion of positive predictions (i.e., predicted proportion of satisfied customers) is slightly higher for males (0.43) than for females (0.41). This suggests that there may be some gender bias in the model, where the model is more likely to predict satisfaction for male passengers than for female passengers.\n",
    "\n",
    "However, it's important to note that this is just one evaluation metric and may not tell the whole story. It's possible that there are other factors that could explain the difference in predicted satisfaction rates between males and females, such as differences in flight preferences or experiences."
   ]
  },
  {
   "cell_type": "markdown",
   "id": "10b41915",
   "metadata": {},
   "source": [
    "# AGE"
   ]
  },
  {
   "cell_type": "code",
   "execution_count": 28,
   "id": "1df52074",
   "metadata": {},
   "outputs": [
    {
     "name": "stdout",
     "output_type": "stream",
     "text": [
      "Young proportion: 0.25\n",
      "Middle-age proportion: 0.47\n",
      "Old proportion: 0.45\n"
     ]
    }
   ],
   "source": [
    "\n",
    "from sklearn.ensemble import RandomForestClassifier\n",
    "from sklearn.metrics import accuracy_score\n",
    "from sklearn.model_selection import train_test_split\n",
    "\n",
    "\n",
    "df = pd.read_csv('/Users/pedrojosetrujillomejia/Desktop/airplane_train_processed.csv')\n",
    "\n",
    "\n",
    "X = df.drop(['satisfaction'], axis=1)\n",
    "y = df['satisfaction']\n",
    "X_train, X_val, y_train, y_val = train_test_split(X, y, test_size=0.2, random_state=42)\n",
    "\n",
    "\n",
    "rfc = RandomForestClassifier()\n",
    "rfc.fit(X_train, y_train)\n",
    "\n",
    "y_pred = rfc.predict(X_val)\n",
    "\n",
    "\n",
    "young_mask = X_val['Age'] <= 25\n",
    "middle_age_mask = (X_val['Age'] > 25) & (X_val['Age'] <= 50)\n",
    "old_mask = X_val['Age'] > 50\n",
    "young_proportion = sum(y_pred[young_mask] == 'satisfied') / sum(young_mask)\n",
    "middle_age_proportion = sum(y_pred[middle_age_mask] == 'satisfied') / sum(middle_age_mask)\n",
    "old_proportion = sum(y_pred[old_mask] == 'satisfied') / sum(old_mask)\n",
    "\n",
    "\n",
    "print(f\"Young proportion: {young_proportion:.2f}\")\n",
    "print(f\"Middle-age proportion: {middle_age_proportion:.2f}\")\n",
    "print(f\"Old proportion: {old_proportion:.2f}\")\n"
   ]
  },
  {
   "cell_type": "markdown",
   "id": "ce449adf",
   "metadata": {},
   "source": [
    "the proportion of positive predictions (i.e., the predicted proportion of satisfied customers) is highest for the middle-age group (0.47), followed by the old age group (0.45), and then the young age group (0.25). This suggests that there may be some age bias in the model, where the model is more likely to predict satisfaction for middle-aged and older passengers than for younger passengers."
   ]
  },
  {
   "cell_type": "markdown",
   "id": "f96057a1",
   "metadata": {},
   "source": [
    "# True Positive Rate"
   ]
  },
  {
   "cell_type": "code",
   "execution_count": 29,
   "id": "5072d34d",
   "metadata": {},
   "outputs": [],
   "source": [
    "import pandas as pd\n",
    "import numpy as np\n",
    "\n",
    "\n",
    "df = pd.DataFrame({'A': [True, False, np.nan, True]})\n",
    "\n",
    "\n",
    "df['A'] = df['A'].fillna(False).astype(bool)\n",
    "\n",
    "\n",
    "df['A_inv'] = ~df['A']"
   ]
  },
  {
   "cell_type": "markdown",
   "id": "4d396bd1",
   "metadata": {},
   "source": [
    "# Gender"
   ]
  },
  {
   "cell_type": "code",
   "execution_count": 30,
   "id": "2889189f",
   "metadata": {},
   "outputs": [
    {
     "name": "stdout",
     "output_type": "stream",
     "text": [
      "TPR for female customers: 0.925\n",
      "TPR for male customers: 0.932\n"
     ]
    }
   ],
   "source": [
    "from sklearn.metrics import confusion_matrix\n",
    "\n",
    "y_pred = rfc.predict(X_val)\n",
    "\n",
    "\n",
    "conf_matrix = confusion_matrix(y_val, y_pred)\n",
    "\n",
    "\n",
    "female_indices = X_val['Gender_Female'] == 1\n",
    "male_indices = X_val['Gender_Male'] == 1\n",
    "X_val_female, y_val_female = X_val[female_indices], y_val[female_indices]\n",
    "X_val_male, y_val_male = X_val[male_indices], y_val[male_indices]\n",
    "y_pred_female, y_pred_male = y_pred[female_indices], y_pred[male_indices]\n",
    "\n",
    "\n",
    "conf_matrix_female = confusion_matrix(y_val_female, y_pred_female)\n",
    "conf_matrix_male = confusion_matrix(y_val_male, y_pred_male)\n",
    "\n",
    "\n",
    "tpr_female = conf_matrix_female[1, 1] / (conf_matrix_female[1, 0] + conf_matrix_female[1, 1])\n",
    "tpr_male = conf_matrix_male[1, 1] / (conf_matrix_male[1, 0] + conf_matrix_male[1, 1])\n",
    "\n",
    "print(\"TPR for female customers: {:.3f}\".format(tpr_female))\n",
    "print(\"TPR for male customers: {:.3f}\".format(tpr_male))\n"
   ]
  },
  {
   "cell_type": "markdown",
   "id": "6298a0ba",
   "metadata": {},
   "source": [
    "It seems that the model has a slightly higher true positive rate (TPR) for male customers compared to female customers. However, the difference is relatively small and may not be statistically significant."
   ]
  },
  {
   "cell_type": "markdown",
   "id": "6645114b",
   "metadata": {},
   "source": [
    "# Age"
   ]
  },
  {
   "cell_type": "code",
   "execution_count": 34,
   "id": "4b40f866",
   "metadata": {},
   "outputs": [
    {
     "name": "stdout",
     "output_type": "stream",
     "text": [
      "Young TPR: 0.85\n",
      "Middle-aged TPR: 0.94\n",
      "Old TPR: 0.93\n"
     ]
    }
   ],
   "source": [
    "young_mask = X_val['Age_Group'] == 'Young'\n",
    "middle_age_mask = X_val['Age_Group'] == 'Middle-Aged'\n",
    "old_mask = X_val['Age_Group'] == 'Old'\n",
    "y_pred_age = y_pred == 'satisfied'\n",
    "y_val_age = y_val == 'satisfied'\n",
    "young_tpr = sum(y_pred_age[young_mask] & y_val_age[young_mask]) / sum(y_val_age[young_mask])\n",
    "middle_age_tpr = sum(y_pred_age[middle_age_mask] & y_val_age[middle_age_mask]) / sum(y_val_age[middle_age_mask])\n",
    "old_tpr = sum(y_pred_age[old_mask] & y_val_age[old_mask]) / sum(y_val_age[old_mask])\n",
    "\n",
    "\n",
    "print(f\"Young TPR: {young_tpr:.2f}\")\n",
    "print(f\"Middle-aged TPR: {middle_age_tpr:.2f}\")\n",
    "print(f\"Old TPR: {old_tpr:.2f}\")\n"
   ]
  },
  {
   "cell_type": "markdown",
   "id": "f1cf87e5",
   "metadata": {},
   "source": [
    "It looks like there is a significant difference in the TPR between the young age group and the middle-aged/old age groups. This could indicate that the model is performing better for middle-aged and old customers compared to young customers, which could suggest a bias in the model."
   ]
  },
  {
   "cell_type": "markdown",
   "id": "168b3d0c",
   "metadata": {},
   "source": [
    "# False Positive Rate"
   ]
  },
  {
   "cell_type": "code",
   "execution_count": 38,
   "id": "0863d0c4",
   "metadata": {},
   "outputs": [
    {
     "name": "stdout",
     "output_type": "stream",
     "text": [
      "Female FPR: 0.00\n",
      "Male FPR: 0.00\n"
     ]
    }
   ],
   "source": [
    "\n",
    "female_mask = X_val['Gender_Female'] == 1\n",
    "male_mask = X_val['Gender_Male'] == 1\n",
    "\n",
    "\n",
    "y_val_female = y_val[female_mask]\n",
    "y_pred_female = y_pred[female_mask]\n",
    "if sum(y_val_female == 'not satisfied') == 0:\n",
    "    female_fpr = 0\n",
    "else:\n",
    "    female_fpr = sum((y_val_female == 'not satisfied') & (y_pred_female == 'satisfied')) / sum(y_val_female == 'not satisfied')\n",
    "\n",
    "\n",
    "y_val_male = y_val[male_mask]\n",
    "y_pred_male = y_pred[male_mask]\n",
    "if sum(y_val_male == 'not satisfied') == 0:\n",
    "    male_fpr = 0\n",
    "else:\n",
    "    male_fpr = sum((y_val_male == 'not satisfied') & (y_pred_male == 'satisfied')) / sum(y_val_male == 'not satisfied')\n",
    "\n",
    "\n",
    "print(f\"Female FPR: {female_fpr:.2f}\")\n",
    "print(f\"Male FPR: {male_fpr:.2f}\")\n"
   ]
  },
  {
   "cell_type": "code",
   "execution_count": 39,
   "id": "72518677",
   "metadata": {},
   "outputs": [
    {
     "name": "stdout",
     "output_type": "stream",
     "text": [
      "Young FPR: 0.00\n",
      "Middle-aged FPR: 0.00\n",
      "Old FPR: 0.00\n"
     ]
    }
   ],
   "source": [
    "\n",
    "young_mask = X_val['Age_Group'] == 'Young'\n",
    "middle_age_mask = X_val['Age_Group'] == 'Middle-Aged'\n",
    "old_mask = X_val['Age_Group'] == 'Old'\n",
    "\n",
    "\n",
    "y_val_young = y_val[young_mask]\n",
    "y_pred_young = y_pred[young_mask]\n",
    "if sum(y_val_young == 'not satisfied') == 0:\n",
    "    young_fpr = 0\n",
    "else:\n",
    "    young_fpr = sum((y_val_young == 'not satisfied') & (y_pred_young == 'satisfied')) / sum(y_val_young == 'not satisfied')\n",
    "\n",
    "\n",
    "y_val_middle_age = y_val[middle_age_mask]\n",
    "y_pred_middle_age = y_pred[middle_age_mask]\n",
    "if sum(y_val_middle_age == 'not satisfied') == 0:\n",
    "    middle_age_fpr = 0\n",
    "else:\n",
    "    middle_age_fpr = sum((y_val_middle_age == 'not satisfied') & (y_pred_middle_age == 'satisfied')) / sum(y_val_middle_age == 'not satisfied')\n",
    "\n",
    "\n",
    "y_val_old = y_val[old_mask]\n",
    "y_pred_old = y_pred[old_mask]\n",
    "if sum(y_val_old == 'not satisfied') == 0:\n",
    "    old_fpr = 0\n",
    "else:\n",
    "    old_fpr = sum((y_val_old == 'not satisfied') & (y_pred_old == 'satisfied')) / sum(y_val_old == 'not satisfied')\n",
    "\n",
    "\n",
    "print(f\"Young FPR: {young_fpr:.2f}\")\n",
    "print(f\"Middle-aged FPR: {middle_age_fpr:.2f}\")\n",
    "print(f\"Old FPR: {old_fpr:.2f}\")\n"
   ]
  },
  {
   "cell_type": "code",
   "execution_count": null,
   "id": "cd5ecd13",
   "metadata": {},
   "outputs": [],
   "source": []
  }
 ],
 "metadata": {
  "kernelspec": {
   "display_name": "Python 3 (ipykernel)",
   "language": "python",
   "name": "python3"
  },
  "language_info": {
   "codemirror_mode": {
    "name": "ipython",
    "version": 3
   },
   "file_extension": ".py",
   "mimetype": "text/x-python",
   "name": "python",
   "nbconvert_exporter": "python",
   "pygments_lexer": "ipython3",
   "version": "3.9.13"
  }
 },
 "nbformat": 4,
 "nbformat_minor": 5
}

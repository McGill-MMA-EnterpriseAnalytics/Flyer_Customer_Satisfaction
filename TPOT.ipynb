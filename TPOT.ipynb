{
  "nbformat": 4,
  "nbformat_minor": 0,
  "metadata": {
    "colab": {
      "private_outputs": true,
      "provenance": []
    },
    "kernelspec": {
      "name": "python3",
      "display_name": "Python 3"
    },
    "language_info": {
      "name": "python"
    },
    "accelerator": "GPU",
    "gpuClass": "standard"
  },
  "cells": [
    {
      "cell_type": "code",
      "source": [
        "import tensorflow as tf\n",
        "tf.test.gpu_device_name()"
      ],
      "metadata": {
        "id": "DrP6HjrfJT_2"
      },
      "execution_count": null,
      "outputs": []
    },
    {
      "cell_type": "code",
      "execution_count": null,
      "metadata": {
        "id": "eoYfYIBQF-xf"
      },
      "outputs": [],
      "source": [
        "!pip install tpot\n",
        "import pandas as pd\n",
        "from tpot import TPOTClassifier\n",
        "from sklearn.preprocessing import LabelEncoder\n",
        "import warnings\n",
        "warnings.filterwarnings('ignore')"
      ]
    },
    {
      "cell_type": "markdown",
      "source": [],
      "metadata": {
        "id": "FnbuXJtnMjQD"
      }
    },
    {
      "cell_type": "code",
      "source": [
        "df_train = pd.read_csv('sample_data/airplane_train_processed_date.csv')\n",
        "df_val = pd.read_csv('sample_data/airplane_test_processed_date.csv')"
      ],
      "metadata": {
        "id": "xmfJ-dS_Hdu9"
      },
      "execution_count": null,
      "outputs": []
    },
    {
      "cell_type": "code",
      "source": [
        "features = ['Gender_Female', 'Customer Type_Loyal Customer',\n",
        "       'Type of Travel_Business travel',\n",
        "       'Type of Travel_Personal Travel', 'Class_Business',\n",
        "       'Class_Eco', 'Age',\n",
        "       'Flight Distance', 'Departure Delay in Minutes',\n",
        "       'Arrival Delay in Minutes', 'Inflight wifi service',\n",
        "       'Departure/Arrival time convenient',\n",
        "       'Ease of Online booking', 'Gate location',\n",
        "       'Food and drink', 'Online boarding',\n",
        "       'Seat comfort', 'Inflight entertainment',\n",
        "       'On-board service', 'Leg room service',\n",
        "       'Baggage handling', 'Checkin service',\n",
        "       'Inflight service', 'Cleanliness']\n",
        "\n",
        "le = LabelEncoder()\n",
        "X_train = df_train[features]\n",
        "y_train = df_train['satisfaction']\n",
        "y_train = le.fit_transform(y_train)\n",
        "\n",
        "X_val = df_val[features]\n",
        "y_val = df_val['satisfaction']\n",
        "y_val = le.fit_transform(y_val)\n",
        "\n",
        "X_train.shape, X_val.shape, y_train.shape, y_val.shape"
      ],
      "metadata": {
        "id": "4JFfQyuBHseY"
      },
      "execution_count": null,
      "outputs": []
    },
    {
      "cell_type": "code",
      "source": [
        "tpot = TPOTClassifier(generations=5, population_size=30, verbosity=2) #default: 100 generations with 100 population size\n",
        "tpot.fit(X_train, y_train)"
      ],
      "metadata": {
        "id": "WTHhQ4HgIlkR"
      },
      "execution_count": null,
      "outputs": []
    },
    {
      "cell_type": "code",
      "source": [
        "print(\"Accuracy is {}%\".format(tpot.score(X_val, y_val)*100))"
      ],
      "metadata": {
        "id": "9yj0eLY7JTH0"
      },
      "execution_count": null,
      "outputs": []
    },
    {
      "cell_type": "code",
      "source": [
        "tpot.export('tpot_pipeline.py')"
      ],
      "metadata": {
        "id": "H9AsjBKkw10D"
      },
      "execution_count": null,
      "outputs": []
    }
  ]
}